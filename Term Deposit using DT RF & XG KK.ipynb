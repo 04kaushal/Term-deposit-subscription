{
 "cells": [
  {
   "cell_type": "code",
   "execution_count": 1,
   "metadata": {},
   "outputs": [],
   "source": [
    "import pandas as pd  \n",
    "import os\n",
    "import warnings\n",
    "import seaborn as sns\n",
    "import matplotlib.pyplot as plt\n",
    "import numpy as np\n",
    "%matplotlib inline\n",
    "\n",
    "warnings.filterwarnings(\"ignore\")\n",
    "\n",
    "os.chdir(r\"C:\\Users\\ezkiska\\Videos\\Imarticus\\Python\\4th Week 28th and 29th Dec\\29th Dec Practical  DT, RF & XG\")\n",
    "\n",
    "bank = pd.read_csv('bank-additional-full.csv', sep=';')"
   ]
  },
  {
   "cell_type": "code",
   "execution_count": 2,
   "metadata": {},
   "outputs": [
    {
     "data": {
      "text/html": [
       "<div>\n",
       "<style scoped>\n",
       "    .dataframe tbody tr th:only-of-type {\n",
       "        vertical-align: middle;\n",
       "    }\n",
       "\n",
       "    .dataframe tbody tr th {\n",
       "        vertical-align: top;\n",
       "    }\n",
       "\n",
       "    .dataframe thead th {\n",
       "        text-align: right;\n",
       "    }\n",
       "</style>\n",
       "<table border=\"1\" class=\"dataframe\">\n",
       "  <thead>\n",
       "    <tr style=\"text-align: right;\">\n",
       "      <th></th>\n",
       "      <th>age</th>\n",
       "      <th>job</th>\n",
       "      <th>marital</th>\n",
       "      <th>education</th>\n",
       "      <th>default</th>\n",
       "      <th>housing</th>\n",
       "      <th>loan</th>\n",
       "      <th>contact</th>\n",
       "      <th>month</th>\n",
       "      <th>day_of_week</th>\n",
       "      <th>...</th>\n",
       "      <th>campaign</th>\n",
       "      <th>pdays</th>\n",
       "      <th>previous</th>\n",
       "      <th>poutcome</th>\n",
       "      <th>emp.var.rate</th>\n",
       "      <th>cons.price.idx</th>\n",
       "      <th>cons.conf.idx</th>\n",
       "      <th>euribor3m</th>\n",
       "      <th>nr.employed</th>\n",
       "      <th>y</th>\n",
       "    </tr>\n",
       "  </thead>\n",
       "  <tbody>\n",
       "    <tr>\n",
       "      <th>0</th>\n",
       "      <td>56</td>\n",
       "      <td>housemaid</td>\n",
       "      <td>married</td>\n",
       "      <td>basic.4y</td>\n",
       "      <td>no</td>\n",
       "      <td>no</td>\n",
       "      <td>no</td>\n",
       "      <td>telephone</td>\n",
       "      <td>may</td>\n",
       "      <td>mon</td>\n",
       "      <td>...</td>\n",
       "      <td>1</td>\n",
       "      <td>999</td>\n",
       "      <td>0</td>\n",
       "      <td>nonexistent</td>\n",
       "      <td>1.1</td>\n",
       "      <td>93.994</td>\n",
       "      <td>-36.4</td>\n",
       "      <td>4.857</td>\n",
       "      <td>5191.0</td>\n",
       "      <td>no</td>\n",
       "    </tr>\n",
       "    <tr>\n",
       "      <th>1</th>\n",
       "      <td>57</td>\n",
       "      <td>services</td>\n",
       "      <td>married</td>\n",
       "      <td>high.school</td>\n",
       "      <td>unknown</td>\n",
       "      <td>no</td>\n",
       "      <td>no</td>\n",
       "      <td>telephone</td>\n",
       "      <td>may</td>\n",
       "      <td>mon</td>\n",
       "      <td>...</td>\n",
       "      <td>1</td>\n",
       "      <td>999</td>\n",
       "      <td>0</td>\n",
       "      <td>nonexistent</td>\n",
       "      <td>1.1</td>\n",
       "      <td>93.994</td>\n",
       "      <td>-36.4</td>\n",
       "      <td>4.857</td>\n",
       "      <td>5191.0</td>\n",
       "      <td>no</td>\n",
       "    </tr>\n",
       "    <tr>\n",
       "      <th>2</th>\n",
       "      <td>37</td>\n",
       "      <td>services</td>\n",
       "      <td>married</td>\n",
       "      <td>high.school</td>\n",
       "      <td>no</td>\n",
       "      <td>yes</td>\n",
       "      <td>no</td>\n",
       "      <td>telephone</td>\n",
       "      <td>may</td>\n",
       "      <td>mon</td>\n",
       "      <td>...</td>\n",
       "      <td>1</td>\n",
       "      <td>999</td>\n",
       "      <td>0</td>\n",
       "      <td>nonexistent</td>\n",
       "      <td>1.1</td>\n",
       "      <td>93.994</td>\n",
       "      <td>-36.4</td>\n",
       "      <td>4.857</td>\n",
       "      <td>5191.0</td>\n",
       "      <td>no</td>\n",
       "    </tr>\n",
       "    <tr>\n",
       "      <th>3</th>\n",
       "      <td>40</td>\n",
       "      <td>admin.</td>\n",
       "      <td>married</td>\n",
       "      <td>basic.6y</td>\n",
       "      <td>no</td>\n",
       "      <td>no</td>\n",
       "      <td>no</td>\n",
       "      <td>telephone</td>\n",
       "      <td>may</td>\n",
       "      <td>mon</td>\n",
       "      <td>...</td>\n",
       "      <td>1</td>\n",
       "      <td>999</td>\n",
       "      <td>0</td>\n",
       "      <td>nonexistent</td>\n",
       "      <td>1.1</td>\n",
       "      <td>93.994</td>\n",
       "      <td>-36.4</td>\n",
       "      <td>4.857</td>\n",
       "      <td>5191.0</td>\n",
       "      <td>no</td>\n",
       "    </tr>\n",
       "    <tr>\n",
       "      <th>4</th>\n",
       "      <td>56</td>\n",
       "      <td>services</td>\n",
       "      <td>married</td>\n",
       "      <td>high.school</td>\n",
       "      <td>no</td>\n",
       "      <td>no</td>\n",
       "      <td>yes</td>\n",
       "      <td>telephone</td>\n",
       "      <td>may</td>\n",
       "      <td>mon</td>\n",
       "      <td>...</td>\n",
       "      <td>1</td>\n",
       "      <td>999</td>\n",
       "      <td>0</td>\n",
       "      <td>nonexistent</td>\n",
       "      <td>1.1</td>\n",
       "      <td>93.994</td>\n",
       "      <td>-36.4</td>\n",
       "      <td>4.857</td>\n",
       "      <td>5191.0</td>\n",
       "      <td>no</td>\n",
       "    </tr>\n",
       "  </tbody>\n",
       "</table>\n",
       "<p>5 rows × 21 columns</p>\n",
       "</div>"
      ],
      "text/plain": [
       "   age        job  marital    education  default housing loan    contact  \\\n",
       "0   56  housemaid  married     basic.4y       no      no   no  telephone   \n",
       "1   57   services  married  high.school  unknown      no   no  telephone   \n",
       "2   37   services  married  high.school       no     yes   no  telephone   \n",
       "3   40     admin.  married     basic.6y       no      no   no  telephone   \n",
       "4   56   services  married  high.school       no      no  yes  telephone   \n",
       "\n",
       "  month day_of_week  ...  campaign  pdays  previous     poutcome emp.var.rate  \\\n",
       "0   may         mon  ...         1    999         0  nonexistent          1.1   \n",
       "1   may         mon  ...         1    999         0  nonexistent          1.1   \n",
       "2   may         mon  ...         1    999         0  nonexistent          1.1   \n",
       "3   may         mon  ...         1    999         0  nonexistent          1.1   \n",
       "4   may         mon  ...         1    999         0  nonexistent          1.1   \n",
       "\n",
       "   cons.price.idx  cons.conf.idx  euribor3m  nr.employed   y  \n",
       "0          93.994          -36.4      4.857       5191.0  no  \n",
       "1          93.994          -36.4      4.857       5191.0  no  \n",
       "2          93.994          -36.4      4.857       5191.0  no  \n",
       "3          93.994          -36.4      4.857       5191.0  no  \n",
       "4          93.994          -36.4      4.857       5191.0  no  \n",
       "\n",
       "[5 rows x 21 columns]"
      ]
     },
     "execution_count": 2,
     "metadata": {},
     "output_type": "execute_result"
    }
   ],
   "source": [
    "bank.head()"
   ]
  },
  {
   "cell_type": "code",
   "execution_count": 3,
   "metadata": {},
   "outputs": [
    {
     "data": {
      "text/html": [
       "<div>\n",
       "<style scoped>\n",
       "    .dataframe tbody tr th:only-of-type {\n",
       "        vertical-align: middle;\n",
       "    }\n",
       "\n",
       "    .dataframe tbody tr th {\n",
       "        vertical-align: top;\n",
       "    }\n",
       "\n",
       "    .dataframe thead th {\n",
       "        text-align: right;\n",
       "    }\n",
       "</style>\n",
       "<table border=\"1\" class=\"dataframe\">\n",
       "  <thead>\n",
       "    <tr style=\"text-align: right;\">\n",
       "      <th></th>\n",
       "      <th>age</th>\n",
       "      <th>job</th>\n",
       "      <th>marital</th>\n",
       "      <th>education</th>\n",
       "      <th>default</th>\n",
       "      <th>housing</th>\n",
       "      <th>loan</th>\n",
       "      <th>contact</th>\n",
       "      <th>month</th>\n",
       "      <th>day_of_week</th>\n",
       "      <th>...</th>\n",
       "      <th>pdays</th>\n",
       "      <th>previous</th>\n",
       "      <th>poutcome</th>\n",
       "      <th>emp.var.rate</th>\n",
       "      <th>cons.price.idx</th>\n",
       "      <th>cons.conf.idx</th>\n",
       "      <th>euribor3m</th>\n",
       "      <th>nr.employed</th>\n",
       "      <th>y</th>\n",
       "      <th>outcome</th>\n",
       "    </tr>\n",
       "  </thead>\n",
       "  <tbody>\n",
       "    <tr>\n",
       "      <th>0</th>\n",
       "      <td>56</td>\n",
       "      <td>housemaid</td>\n",
       "      <td>married</td>\n",
       "      <td>basic.4y</td>\n",
       "      <td>no</td>\n",
       "      <td>no</td>\n",
       "      <td>no</td>\n",
       "      <td>telephone</td>\n",
       "      <td>may</td>\n",
       "      <td>mon</td>\n",
       "      <td>...</td>\n",
       "      <td>999</td>\n",
       "      <td>0</td>\n",
       "      <td>nonexistent</td>\n",
       "      <td>1.1</td>\n",
       "      <td>93.994</td>\n",
       "      <td>-36.4</td>\n",
       "      <td>4.857</td>\n",
       "      <td>5191.0</td>\n",
       "      <td>no</td>\n",
       "      <td>0</td>\n",
       "    </tr>\n",
       "    <tr>\n",
       "      <th>1</th>\n",
       "      <td>57</td>\n",
       "      <td>services</td>\n",
       "      <td>married</td>\n",
       "      <td>high.school</td>\n",
       "      <td>unknown</td>\n",
       "      <td>no</td>\n",
       "      <td>no</td>\n",
       "      <td>telephone</td>\n",
       "      <td>may</td>\n",
       "      <td>mon</td>\n",
       "      <td>...</td>\n",
       "      <td>999</td>\n",
       "      <td>0</td>\n",
       "      <td>nonexistent</td>\n",
       "      <td>1.1</td>\n",
       "      <td>93.994</td>\n",
       "      <td>-36.4</td>\n",
       "      <td>4.857</td>\n",
       "      <td>5191.0</td>\n",
       "      <td>no</td>\n",
       "      <td>0</td>\n",
       "    </tr>\n",
       "    <tr>\n",
       "      <th>2</th>\n",
       "      <td>37</td>\n",
       "      <td>services</td>\n",
       "      <td>married</td>\n",
       "      <td>high.school</td>\n",
       "      <td>no</td>\n",
       "      <td>yes</td>\n",
       "      <td>no</td>\n",
       "      <td>telephone</td>\n",
       "      <td>may</td>\n",
       "      <td>mon</td>\n",
       "      <td>...</td>\n",
       "      <td>999</td>\n",
       "      <td>0</td>\n",
       "      <td>nonexistent</td>\n",
       "      <td>1.1</td>\n",
       "      <td>93.994</td>\n",
       "      <td>-36.4</td>\n",
       "      <td>4.857</td>\n",
       "      <td>5191.0</td>\n",
       "      <td>no</td>\n",
       "      <td>0</td>\n",
       "    </tr>\n",
       "    <tr>\n",
       "      <th>3</th>\n",
       "      <td>40</td>\n",
       "      <td>admin.</td>\n",
       "      <td>married</td>\n",
       "      <td>basic.6y</td>\n",
       "      <td>no</td>\n",
       "      <td>no</td>\n",
       "      <td>no</td>\n",
       "      <td>telephone</td>\n",
       "      <td>may</td>\n",
       "      <td>mon</td>\n",
       "      <td>...</td>\n",
       "      <td>999</td>\n",
       "      <td>0</td>\n",
       "      <td>nonexistent</td>\n",
       "      <td>1.1</td>\n",
       "      <td>93.994</td>\n",
       "      <td>-36.4</td>\n",
       "      <td>4.857</td>\n",
       "      <td>5191.0</td>\n",
       "      <td>no</td>\n",
       "      <td>0</td>\n",
       "    </tr>\n",
       "    <tr>\n",
       "      <th>4</th>\n",
       "      <td>56</td>\n",
       "      <td>services</td>\n",
       "      <td>married</td>\n",
       "      <td>high.school</td>\n",
       "      <td>no</td>\n",
       "      <td>no</td>\n",
       "      <td>yes</td>\n",
       "      <td>telephone</td>\n",
       "      <td>may</td>\n",
       "      <td>mon</td>\n",
       "      <td>...</td>\n",
       "      <td>999</td>\n",
       "      <td>0</td>\n",
       "      <td>nonexistent</td>\n",
       "      <td>1.1</td>\n",
       "      <td>93.994</td>\n",
       "      <td>-36.4</td>\n",
       "      <td>4.857</td>\n",
       "      <td>5191.0</td>\n",
       "      <td>no</td>\n",
       "      <td>0</td>\n",
       "    </tr>\n",
       "  </tbody>\n",
       "</table>\n",
       "<p>5 rows × 22 columns</p>\n",
       "</div>"
      ],
      "text/plain": [
       "   age        job  marital    education  default housing loan    contact  \\\n",
       "0   56  housemaid  married     basic.4y       no      no   no  telephone   \n",
       "1   57   services  married  high.school  unknown      no   no  telephone   \n",
       "2   37   services  married  high.school       no     yes   no  telephone   \n",
       "3   40     admin.  married     basic.6y       no      no   no  telephone   \n",
       "4   56   services  married  high.school       no      no  yes  telephone   \n",
       "\n",
       "  month day_of_week  ...  pdays  previous     poutcome  emp.var.rate  \\\n",
       "0   may         mon  ...    999         0  nonexistent           1.1   \n",
       "1   may         mon  ...    999         0  nonexistent           1.1   \n",
       "2   may         mon  ...    999         0  nonexistent           1.1   \n",
       "3   may         mon  ...    999         0  nonexistent           1.1   \n",
       "4   may         mon  ...    999         0  nonexistent           1.1   \n",
       "\n",
       "  cons.price.idx  cons.conf.idx  euribor3m  nr.employed   y  outcome  \n",
       "0         93.994          -36.4      4.857       5191.0  no        0  \n",
       "1         93.994          -36.4      4.857       5191.0  no        0  \n",
       "2         93.994          -36.4      4.857       5191.0  no        0  \n",
       "3         93.994          -36.4      4.857       5191.0  no        0  \n",
       "4         93.994          -36.4      4.857       5191.0  no        0  \n",
       "\n",
       "[5 rows x 22 columns]"
      ]
     },
     "execution_count": 3,
     "metadata": {},
     "output_type": "execute_result"
    }
   ],
   "source": [
    "#  y (response) : Traget variable\n",
    "# convert the response to numeric values and store as a new column\n",
    "bank['outcome'] = bank.y.map({'no':0, 'yes':1})\n",
    "bank.head()"
   ]
  },
  {
   "cell_type": "code",
   "execution_count": 4,
   "metadata": {},
   "outputs": [],
   "source": [
    "bank = bank.drop(['y'], axis = 1)"
   ]
  },
  {
   "cell_type": "code",
   "execution_count": 5,
   "metadata": {},
   "outputs": [
    {
     "data": {
      "text/html": [
       "<div>\n",
       "<style scoped>\n",
       "    .dataframe tbody tr th:only-of-type {\n",
       "        vertical-align: middle;\n",
       "    }\n",
       "\n",
       "    .dataframe tbody tr th {\n",
       "        vertical-align: top;\n",
       "    }\n",
       "\n",
       "    .dataframe thead th {\n",
       "        text-align: right;\n",
       "    }\n",
       "</style>\n",
       "<table border=\"1\" class=\"dataframe\">\n",
       "  <thead>\n",
       "    <tr style=\"text-align: right;\">\n",
       "      <th></th>\n",
       "      <th>age</th>\n",
       "      <th>job</th>\n",
       "      <th>marital</th>\n",
       "      <th>education</th>\n",
       "      <th>default</th>\n",
       "      <th>housing</th>\n",
       "      <th>loan</th>\n",
       "      <th>contact</th>\n",
       "      <th>month</th>\n",
       "      <th>day_of_week</th>\n",
       "      <th>...</th>\n",
       "      <th>campaign</th>\n",
       "      <th>pdays</th>\n",
       "      <th>previous</th>\n",
       "      <th>poutcome</th>\n",
       "      <th>emp.var.rate</th>\n",
       "      <th>cons.price.idx</th>\n",
       "      <th>cons.conf.idx</th>\n",
       "      <th>euribor3m</th>\n",
       "      <th>nr.employed</th>\n",
       "      <th>outcome</th>\n",
       "    </tr>\n",
       "  </thead>\n",
       "  <tbody>\n",
       "    <tr>\n",
       "      <th>0</th>\n",
       "      <td>56</td>\n",
       "      <td>housemaid</td>\n",
       "      <td>married</td>\n",
       "      <td>basic.4y</td>\n",
       "      <td>no</td>\n",
       "      <td>no</td>\n",
       "      <td>no</td>\n",
       "      <td>telephone</td>\n",
       "      <td>may</td>\n",
       "      <td>mon</td>\n",
       "      <td>...</td>\n",
       "      <td>1</td>\n",
       "      <td>999</td>\n",
       "      <td>0</td>\n",
       "      <td>nonexistent</td>\n",
       "      <td>1.1</td>\n",
       "      <td>93.994</td>\n",
       "      <td>-36.4</td>\n",
       "      <td>4.857</td>\n",
       "      <td>5191.0</td>\n",
       "      <td>0</td>\n",
       "    </tr>\n",
       "    <tr>\n",
       "      <th>1</th>\n",
       "      <td>57</td>\n",
       "      <td>services</td>\n",
       "      <td>married</td>\n",
       "      <td>high.school</td>\n",
       "      <td>unknown</td>\n",
       "      <td>no</td>\n",
       "      <td>no</td>\n",
       "      <td>telephone</td>\n",
       "      <td>may</td>\n",
       "      <td>mon</td>\n",
       "      <td>...</td>\n",
       "      <td>1</td>\n",
       "      <td>999</td>\n",
       "      <td>0</td>\n",
       "      <td>nonexistent</td>\n",
       "      <td>1.1</td>\n",
       "      <td>93.994</td>\n",
       "      <td>-36.4</td>\n",
       "      <td>4.857</td>\n",
       "      <td>5191.0</td>\n",
       "      <td>0</td>\n",
       "    </tr>\n",
       "    <tr>\n",
       "      <th>2</th>\n",
       "      <td>37</td>\n",
       "      <td>services</td>\n",
       "      <td>married</td>\n",
       "      <td>high.school</td>\n",
       "      <td>no</td>\n",
       "      <td>yes</td>\n",
       "      <td>no</td>\n",
       "      <td>telephone</td>\n",
       "      <td>may</td>\n",
       "      <td>mon</td>\n",
       "      <td>...</td>\n",
       "      <td>1</td>\n",
       "      <td>999</td>\n",
       "      <td>0</td>\n",
       "      <td>nonexistent</td>\n",
       "      <td>1.1</td>\n",
       "      <td>93.994</td>\n",
       "      <td>-36.4</td>\n",
       "      <td>4.857</td>\n",
       "      <td>5191.0</td>\n",
       "      <td>0</td>\n",
       "    </tr>\n",
       "    <tr>\n",
       "      <th>3</th>\n",
       "      <td>40</td>\n",
       "      <td>admin.</td>\n",
       "      <td>married</td>\n",
       "      <td>basic.6y</td>\n",
       "      <td>no</td>\n",
       "      <td>no</td>\n",
       "      <td>no</td>\n",
       "      <td>telephone</td>\n",
       "      <td>may</td>\n",
       "      <td>mon</td>\n",
       "      <td>...</td>\n",
       "      <td>1</td>\n",
       "      <td>999</td>\n",
       "      <td>0</td>\n",
       "      <td>nonexistent</td>\n",
       "      <td>1.1</td>\n",
       "      <td>93.994</td>\n",
       "      <td>-36.4</td>\n",
       "      <td>4.857</td>\n",
       "      <td>5191.0</td>\n",
       "      <td>0</td>\n",
       "    </tr>\n",
       "    <tr>\n",
       "      <th>4</th>\n",
       "      <td>56</td>\n",
       "      <td>services</td>\n",
       "      <td>married</td>\n",
       "      <td>high.school</td>\n",
       "      <td>no</td>\n",
       "      <td>no</td>\n",
       "      <td>yes</td>\n",
       "      <td>telephone</td>\n",
       "      <td>may</td>\n",
       "      <td>mon</td>\n",
       "      <td>...</td>\n",
       "      <td>1</td>\n",
       "      <td>999</td>\n",
       "      <td>0</td>\n",
       "      <td>nonexistent</td>\n",
       "      <td>1.1</td>\n",
       "      <td>93.994</td>\n",
       "      <td>-36.4</td>\n",
       "      <td>4.857</td>\n",
       "      <td>5191.0</td>\n",
       "      <td>0</td>\n",
       "    </tr>\n",
       "  </tbody>\n",
       "</table>\n",
       "<p>5 rows × 21 columns</p>\n",
       "</div>"
      ],
      "text/plain": [
       "   age        job  marital    education  default housing loan    contact  \\\n",
       "0   56  housemaid  married     basic.4y       no      no   no  telephone   \n",
       "1   57   services  married  high.school  unknown      no   no  telephone   \n",
       "2   37   services  married  high.school       no     yes   no  telephone   \n",
       "3   40     admin.  married     basic.6y       no      no   no  telephone   \n",
       "4   56   services  married  high.school       no      no  yes  telephone   \n",
       "\n",
       "  month day_of_week  ...  campaign  pdays  previous     poutcome emp.var.rate  \\\n",
       "0   may         mon  ...         1    999         0  nonexistent          1.1   \n",
       "1   may         mon  ...         1    999         0  nonexistent          1.1   \n",
       "2   may         mon  ...         1    999         0  nonexistent          1.1   \n",
       "3   may         mon  ...         1    999         0  nonexistent          1.1   \n",
       "4   may         mon  ...         1    999         0  nonexistent          1.1   \n",
       "\n",
       "   cons.price.idx  cons.conf.idx  euribor3m  nr.employed  outcome  \n",
       "0          93.994          -36.4      4.857       5191.0        0  \n",
       "1          93.994          -36.4      4.857       5191.0        0  \n",
       "2          93.994          -36.4      4.857       5191.0        0  \n",
       "3          93.994          -36.4      4.857       5191.0        0  \n",
       "4          93.994          -36.4      4.857       5191.0        0  \n",
       "\n",
       "[5 rows x 21 columns]"
      ]
     },
     "execution_count": 5,
     "metadata": {},
     "output_type": "execute_result"
    }
   ],
   "source": [
    "bank.head()"
   ]
  },
  {
   "cell_type": "code",
   "execution_count": 6,
   "metadata": {},
   "outputs": [
    {
     "data": {
      "text/plain": [
       "age               0\n",
       "job               0\n",
       "marital           0\n",
       "education         0\n",
       "default           0\n",
       "housing           0\n",
       "loan              0\n",
       "contact           0\n",
       "month             0\n",
       "day_of_week       0\n",
       "duration          0\n",
       "campaign          0\n",
       "pdays             0\n",
       "previous          0\n",
       "poutcome          0\n",
       "emp.var.rate      0\n",
       "cons.price.idx    0\n",
       "cons.conf.idx     0\n",
       "euribor3m         0\n",
       "nr.employed       0\n",
       "outcome           0\n",
       "dtype: int64"
      ]
     },
     "execution_count": 6,
     "metadata": {},
     "output_type": "execute_result"
    }
   ],
   "source": [
    "bank.isna().sum()"
   ]
  },
  {
   "cell_type": "markdown",
   "metadata": {},
   "source": [
    "We observe no nulls present in this case hence Null value treatement won't be required here"
   ]
  },
  {
   "cell_type": "code",
   "execution_count": 7,
   "metadata": {},
   "outputs": [
    {
     "data": {
      "text/html": [
       "<div>\n",
       "<style scoped>\n",
       "    .dataframe tbody tr th:only-of-type {\n",
       "        vertical-align: middle;\n",
       "    }\n",
       "\n",
       "    .dataframe tbody tr th {\n",
       "        vertical-align: top;\n",
       "    }\n",
       "\n",
       "    .dataframe thead th {\n",
       "        text-align: right;\n",
       "    }\n",
       "</style>\n",
       "<table border=\"1\" class=\"dataframe\">\n",
       "  <thead>\n",
       "    <tr style=\"text-align: right;\">\n",
       "      <th></th>\n",
       "      <th>age</th>\n",
       "      <th>duration</th>\n",
       "      <th>campaign</th>\n",
       "      <th>pdays</th>\n",
       "      <th>previous</th>\n",
       "      <th>emp.var.rate</th>\n",
       "      <th>cons.price.idx</th>\n",
       "      <th>cons.conf.idx</th>\n",
       "      <th>euribor3m</th>\n",
       "      <th>nr.employed</th>\n",
       "      <th>outcome</th>\n",
       "    </tr>\n",
       "  </thead>\n",
       "  <tbody>\n",
       "    <tr>\n",
       "      <th>count</th>\n",
       "      <td>41188.00000</td>\n",
       "      <td>41188.000000</td>\n",
       "      <td>41188.000000</td>\n",
       "      <td>41188.000000</td>\n",
       "      <td>41188.000000</td>\n",
       "      <td>41188.000000</td>\n",
       "      <td>41188.000000</td>\n",
       "      <td>41188.000000</td>\n",
       "      <td>41188.000000</td>\n",
       "      <td>41188.000000</td>\n",
       "      <td>41188.000000</td>\n",
       "    </tr>\n",
       "    <tr>\n",
       "      <th>mean</th>\n",
       "      <td>40.02406</td>\n",
       "      <td>258.285010</td>\n",
       "      <td>2.567593</td>\n",
       "      <td>962.475454</td>\n",
       "      <td>0.172963</td>\n",
       "      <td>0.081886</td>\n",
       "      <td>93.575664</td>\n",
       "      <td>-40.502600</td>\n",
       "      <td>3.621291</td>\n",
       "      <td>5167.035911</td>\n",
       "      <td>0.112654</td>\n",
       "    </tr>\n",
       "    <tr>\n",
       "      <th>std</th>\n",
       "      <td>10.42125</td>\n",
       "      <td>259.279249</td>\n",
       "      <td>2.770014</td>\n",
       "      <td>186.910907</td>\n",
       "      <td>0.494901</td>\n",
       "      <td>1.570960</td>\n",
       "      <td>0.578840</td>\n",
       "      <td>4.628198</td>\n",
       "      <td>1.734447</td>\n",
       "      <td>72.251528</td>\n",
       "      <td>0.316173</td>\n",
       "    </tr>\n",
       "    <tr>\n",
       "      <th>min</th>\n",
       "      <td>17.00000</td>\n",
       "      <td>0.000000</td>\n",
       "      <td>1.000000</td>\n",
       "      <td>0.000000</td>\n",
       "      <td>0.000000</td>\n",
       "      <td>-3.400000</td>\n",
       "      <td>92.201000</td>\n",
       "      <td>-50.800000</td>\n",
       "      <td>0.634000</td>\n",
       "      <td>4963.600000</td>\n",
       "      <td>0.000000</td>\n",
       "    </tr>\n",
       "    <tr>\n",
       "      <th>25%</th>\n",
       "      <td>32.00000</td>\n",
       "      <td>102.000000</td>\n",
       "      <td>1.000000</td>\n",
       "      <td>999.000000</td>\n",
       "      <td>0.000000</td>\n",
       "      <td>-1.800000</td>\n",
       "      <td>93.075000</td>\n",
       "      <td>-42.700000</td>\n",
       "      <td>1.344000</td>\n",
       "      <td>5099.100000</td>\n",
       "      <td>0.000000</td>\n",
       "    </tr>\n",
       "    <tr>\n",
       "      <th>50%</th>\n",
       "      <td>38.00000</td>\n",
       "      <td>180.000000</td>\n",
       "      <td>2.000000</td>\n",
       "      <td>999.000000</td>\n",
       "      <td>0.000000</td>\n",
       "      <td>1.100000</td>\n",
       "      <td>93.749000</td>\n",
       "      <td>-41.800000</td>\n",
       "      <td>4.857000</td>\n",
       "      <td>5191.000000</td>\n",
       "      <td>0.000000</td>\n",
       "    </tr>\n",
       "    <tr>\n",
       "      <th>75%</th>\n",
       "      <td>47.00000</td>\n",
       "      <td>319.000000</td>\n",
       "      <td>3.000000</td>\n",
       "      <td>999.000000</td>\n",
       "      <td>0.000000</td>\n",
       "      <td>1.400000</td>\n",
       "      <td>93.994000</td>\n",
       "      <td>-36.400000</td>\n",
       "      <td>4.961000</td>\n",
       "      <td>5228.100000</td>\n",
       "      <td>0.000000</td>\n",
       "    </tr>\n",
       "    <tr>\n",
       "      <th>max</th>\n",
       "      <td>98.00000</td>\n",
       "      <td>4918.000000</td>\n",
       "      <td>56.000000</td>\n",
       "      <td>999.000000</td>\n",
       "      <td>7.000000</td>\n",
       "      <td>1.400000</td>\n",
       "      <td>94.767000</td>\n",
       "      <td>-26.900000</td>\n",
       "      <td>5.045000</td>\n",
       "      <td>5228.100000</td>\n",
       "      <td>1.000000</td>\n",
       "    </tr>\n",
       "  </tbody>\n",
       "</table>\n",
       "</div>"
      ],
      "text/plain": [
       "               age      duration      campaign         pdays      previous  \\\n",
       "count  41188.00000  41188.000000  41188.000000  41188.000000  41188.000000   \n",
       "mean      40.02406    258.285010      2.567593    962.475454      0.172963   \n",
       "std       10.42125    259.279249      2.770014    186.910907      0.494901   \n",
       "min       17.00000      0.000000      1.000000      0.000000      0.000000   \n",
       "25%       32.00000    102.000000      1.000000    999.000000      0.000000   \n",
       "50%       38.00000    180.000000      2.000000    999.000000      0.000000   \n",
       "75%       47.00000    319.000000      3.000000    999.000000      0.000000   \n",
       "max       98.00000   4918.000000     56.000000    999.000000      7.000000   \n",
       "\n",
       "       emp.var.rate  cons.price.idx  cons.conf.idx     euribor3m  \\\n",
       "count  41188.000000    41188.000000   41188.000000  41188.000000   \n",
       "mean       0.081886       93.575664     -40.502600      3.621291   \n",
       "std        1.570960        0.578840       4.628198      1.734447   \n",
       "min       -3.400000       92.201000     -50.800000      0.634000   \n",
       "25%       -1.800000       93.075000     -42.700000      1.344000   \n",
       "50%        1.100000       93.749000     -41.800000      4.857000   \n",
       "75%        1.400000       93.994000     -36.400000      4.961000   \n",
       "max        1.400000       94.767000     -26.900000      5.045000   \n",
       "\n",
       "        nr.employed       outcome  \n",
       "count  41188.000000  41188.000000  \n",
       "mean    5167.035911      0.112654  \n",
       "std       72.251528      0.316173  \n",
       "min     4963.600000      0.000000  \n",
       "25%     5099.100000      0.000000  \n",
       "50%     5191.000000      0.000000  \n",
       "75%     5228.100000      0.000000  \n",
       "max     5228.100000      1.000000  "
      ]
     },
     "execution_count": 7,
     "metadata": {},
     "output_type": "execute_result"
    }
   ],
   "source": [
    "bank.describe()"
   ]
  },
  {
   "cell_type": "code",
   "execution_count": 8,
   "metadata": {},
   "outputs": [
    {
     "data": {
      "text/html": [
       "<div>\n",
       "<style scoped>\n",
       "    .dataframe tbody tr th:only-of-type {\n",
       "        vertical-align: middle;\n",
       "    }\n",
       "\n",
       "    .dataframe tbody tr th {\n",
       "        vertical-align: top;\n",
       "    }\n",
       "\n",
       "    .dataframe thead th {\n",
       "        text-align: right;\n",
       "    }\n",
       "</style>\n",
       "<table border=\"1\" class=\"dataframe\">\n",
       "  <thead>\n",
       "    <tr style=\"text-align: right;\">\n",
       "      <th></th>\n",
       "      <th>job</th>\n",
       "      <th>marital</th>\n",
       "      <th>education</th>\n",
       "      <th>default</th>\n",
       "      <th>housing</th>\n",
       "      <th>loan</th>\n",
       "      <th>contact</th>\n",
       "      <th>month</th>\n",
       "      <th>day_of_week</th>\n",
       "      <th>poutcome</th>\n",
       "    </tr>\n",
       "  </thead>\n",
       "  <tbody>\n",
       "    <tr>\n",
       "      <th>count</th>\n",
       "      <td>41188</td>\n",
       "      <td>41188</td>\n",
       "      <td>41188</td>\n",
       "      <td>41188</td>\n",
       "      <td>41188</td>\n",
       "      <td>41188</td>\n",
       "      <td>41188</td>\n",
       "      <td>41188</td>\n",
       "      <td>41188</td>\n",
       "      <td>41188</td>\n",
       "    </tr>\n",
       "    <tr>\n",
       "      <th>unique</th>\n",
       "      <td>12</td>\n",
       "      <td>4</td>\n",
       "      <td>8</td>\n",
       "      <td>3</td>\n",
       "      <td>3</td>\n",
       "      <td>3</td>\n",
       "      <td>2</td>\n",
       "      <td>10</td>\n",
       "      <td>5</td>\n",
       "      <td>3</td>\n",
       "    </tr>\n",
       "    <tr>\n",
       "      <th>top</th>\n",
       "      <td>admin.</td>\n",
       "      <td>married</td>\n",
       "      <td>university.degree</td>\n",
       "      <td>no</td>\n",
       "      <td>yes</td>\n",
       "      <td>no</td>\n",
       "      <td>cellular</td>\n",
       "      <td>may</td>\n",
       "      <td>thu</td>\n",
       "      <td>nonexistent</td>\n",
       "    </tr>\n",
       "    <tr>\n",
       "      <th>freq</th>\n",
       "      <td>10422</td>\n",
       "      <td>24928</td>\n",
       "      <td>12168</td>\n",
       "      <td>32588</td>\n",
       "      <td>21576</td>\n",
       "      <td>33950</td>\n",
       "      <td>26144</td>\n",
       "      <td>13769</td>\n",
       "      <td>8623</td>\n",
       "      <td>35563</td>\n",
       "    </tr>\n",
       "  </tbody>\n",
       "</table>\n",
       "</div>"
      ],
      "text/plain": [
       "           job  marital          education default housing   loan   contact  \\\n",
       "count    41188    41188              41188   41188   41188  41188     41188   \n",
       "unique      12        4                  8       3       3      3         2   \n",
       "top     admin.  married  university.degree      no     yes     no  cellular   \n",
       "freq     10422    24928              12168   32588   21576  33950     26144   \n",
       "\n",
       "        month day_of_week     poutcome  \n",
       "count   41188       41188        41188  \n",
       "unique     10           5            3  \n",
       "top       may         thu  nonexistent  \n",
       "freq    13769        8623        35563  "
      ]
     },
     "execution_count": 8,
     "metadata": {},
     "output_type": "execute_result"
    }
   ],
   "source": [
    "bank.describe(include = ['O']) #includes object data type also"
   ]
  },
  {
   "cell_type": "code",
   "execution_count": 9,
   "metadata": {},
   "outputs": [
    {
     "data": {
      "text/plain": [
       "Text(0.5, 0, 'Subscribed for Term deposit')"
      ]
     },
     "execution_count": 9,
     "metadata": {},
     "output_type": "execute_result"
    },
    {
     "data": {
      "image/png": "[encoded data removed]",
      "text/plain": [
       "<Figure size 432x288 with 1 Axes>"
      ]
     },
     "metadata": {
      "needs_background": "light"
     },
     "output_type": "display_data"
    }
   ],
   "source": [
    "# Visualizing Target Variable\n",
    "sns.countplot(x=bank['outcome'])\n",
    "plt.xlabel('Subscribed for Term deposit')"
   ]
  },
  {
   "cell_type": "code",
   "execution_count": 10,
   "metadata": {},
   "outputs": [
    {
     "data": {
      "text/plain": [
       "0.89"
      ]
     },
     "execution_count": 10,
     "metadata": {},
     "output_type": "execute_result"
    }
   ],
   "source": [
    "np.round(len(bank['outcome'][bank['outcome'] == 0])/bank.shape[0],2)"
   ]
  },
  {
   "cell_type": "code",
   "execution_count": 11,
   "metadata": {},
   "outputs": [
    {
     "data": {
      "text/plain": [
       "age                 int64\n",
       "job                object\n",
       "marital            object\n",
       "education          object\n",
       "default            object\n",
       "housing            object\n",
       "loan               object\n",
       "contact            object\n",
       "month              object\n",
       "day_of_week        object\n",
       "duration            int64\n",
       "campaign            int64\n",
       "pdays               int64\n",
       "previous            int64\n",
       "poutcome           object\n",
       "emp.var.rate      float64\n",
       "cons.price.idx    float64\n",
       "cons.conf.idx     float64\n",
       "euribor3m         float64\n",
       "nr.employed       float64\n",
       "outcome             int64\n",
       "dtype: object"
      ]
     },
     "execution_count": 11,
     "metadata": {},
     "output_type": "execute_result"
    }
   ],
   "source": [
    "#checeking all data types in dataframe\n",
    "bank.dtypes  "
   ]
  },
  {
   "cell_type": "code",
   "execution_count": 12,
   "metadata": {},
   "outputs": [],
   "source": [
    "catCols = bank.dtypes[bank.dtypes == 'object'].index.tolist()"
   ]
  },
  {
   "cell_type": "code",
   "execution_count": 13,
   "metadata": {},
   "outputs": [
    {
     "data": {
      "text/plain": [
       "['job',\n",
       " 'marital',\n",
       " 'education',\n",
       " 'default',\n",
       " 'housing',\n",
       " 'loan',\n",
       " 'contact',\n",
       " 'month',\n",
       " 'day_of_week',\n",
       " 'poutcome']"
      ]
     },
     "execution_count": 13,
     "metadata": {},
     "output_type": "execute_result"
    }
   ],
   "source": [
    "catCols"
   ]
  },
  {
   "cell_type": "code",
   "execution_count": 14,
   "metadata": {},
   "outputs": [],
   "source": [
    "data_num = bank.select_dtypes(include = ['float64', 'int64'])"
   ]
  },
  {
   "cell_type": "code",
   "execution_count": 15,
   "metadata": {},
   "outputs": [
    {
     "data": {
      "text/html": [
       "<div>\n",
       "<style scoped>\n",
       "    .dataframe tbody tr th:only-of-type {\n",
       "        vertical-align: middle;\n",
       "    }\n",
       "\n",
       "    .dataframe tbody tr th {\n",
       "        vertical-align: top;\n",
       "    }\n",
       "\n",
       "    .dataframe thead th {\n",
       "        text-align: right;\n",
       "    }\n",
       "</style>\n",
       "<table border=\"1\" class=\"dataframe\">\n",
       "  <thead>\n",
       "    <tr style=\"text-align: right;\">\n",
       "      <th></th>\n",
       "      <th>age</th>\n",
       "      <th>duration</th>\n",
       "      <th>campaign</th>\n",
       "      <th>pdays</th>\n",
       "      <th>previous</th>\n",
       "      <th>emp.var.rate</th>\n",
       "      <th>cons.price.idx</th>\n",
       "      <th>cons.conf.idx</th>\n",
       "      <th>euribor3m</th>\n",
       "      <th>nr.employed</th>\n",
       "      <th>outcome</th>\n",
       "    </tr>\n",
       "  </thead>\n",
       "  <tbody>\n",
       "    <tr>\n",
       "      <th>0</th>\n",
       "      <td>56</td>\n",
       "      <td>261</td>\n",
       "      <td>1</td>\n",
       "      <td>999</td>\n",
       "      <td>0</td>\n",
       "      <td>1.1</td>\n",
       "      <td>93.994</td>\n",
       "      <td>-36.4</td>\n",
       "      <td>4.857</td>\n",
       "      <td>5191.0</td>\n",
       "      <td>0</td>\n",
       "    </tr>\n",
       "    <tr>\n",
       "      <th>1</th>\n",
       "      <td>57</td>\n",
       "      <td>149</td>\n",
       "      <td>1</td>\n",
       "      <td>999</td>\n",
       "      <td>0</td>\n",
       "      <td>1.1</td>\n",
       "      <td>93.994</td>\n",
       "      <td>-36.4</td>\n",
       "      <td>4.857</td>\n",
       "      <td>5191.0</td>\n",
       "      <td>0</td>\n",
       "    </tr>\n",
       "    <tr>\n",
       "      <th>2</th>\n",
       "      <td>37</td>\n",
       "      <td>226</td>\n",
       "      <td>1</td>\n",
       "      <td>999</td>\n",
       "      <td>0</td>\n",
       "      <td>1.1</td>\n",
       "      <td>93.994</td>\n",
       "      <td>-36.4</td>\n",
       "      <td>4.857</td>\n",
       "      <td>5191.0</td>\n",
       "      <td>0</td>\n",
       "    </tr>\n",
       "    <tr>\n",
       "      <th>3</th>\n",
       "      <td>40</td>\n",
       "      <td>151</td>\n",
       "      <td>1</td>\n",
       "      <td>999</td>\n",
       "      <td>0</td>\n",
       "      <td>1.1</td>\n",
       "      <td>93.994</td>\n",
       "      <td>-36.4</td>\n",
       "      <td>4.857</td>\n",
       "      <td>5191.0</td>\n",
       "      <td>0</td>\n",
       "    </tr>\n",
       "    <tr>\n",
       "      <th>4</th>\n",
       "      <td>56</td>\n",
       "      <td>307</td>\n",
       "      <td>1</td>\n",
       "      <td>999</td>\n",
       "      <td>0</td>\n",
       "      <td>1.1</td>\n",
       "      <td>93.994</td>\n",
       "      <td>-36.4</td>\n",
       "      <td>4.857</td>\n",
       "      <td>5191.0</td>\n",
       "      <td>0</td>\n",
       "    </tr>\n",
       "  </tbody>\n",
       "</table>\n",
       "</div>"
      ],
      "text/plain": [
       "   age  duration  campaign  pdays  previous  emp.var.rate  cons.price.idx  \\\n",
       "0   56       261         1    999         0           1.1          93.994   \n",
       "1   57       149         1    999         0           1.1          93.994   \n",
       "2   37       226         1    999         0           1.1          93.994   \n",
       "3   40       151         1    999         0           1.1          93.994   \n",
       "4   56       307         1    999         0           1.1          93.994   \n",
       "\n",
       "   cons.conf.idx  euribor3m  nr.employed  outcome  \n",
       "0          -36.4      4.857       5191.0        0  \n",
       "1          -36.4      4.857       5191.0        0  \n",
       "2          -36.4      4.857       5191.0        0  \n",
       "3          -36.4      4.857       5191.0        0  \n",
       "4          -36.4      4.857       5191.0        0  "
      ]
     },
     "execution_count": 15,
     "metadata": {},
     "output_type": "execute_result"
    }
   ],
   "source": [
    "#checking contents of Numerical Columns\n",
    "data_num.head()"
   ]
  },
  {
   "cell_type": "code",
   "execution_count": 16,
   "metadata": {},
   "outputs": [],
   "source": [
    "data_cat = bank.select_dtypes(include = ['object'])"
   ]
  },
  {
   "cell_type": "code",
   "execution_count": 17,
   "metadata": {},
   "outputs": [
    {
     "data": {
      "text/html": [
       "<div>\n",
       "<style scoped>\n",
       "    .dataframe tbody tr th:only-of-type {\n",
       "        vertical-align: middle;\n",
       "    }\n",
       "\n",
       "    .dataframe tbody tr th {\n",
       "        vertical-align: top;\n",
       "    }\n",
       "\n",
       "    .dataframe thead th {\n",
       "        text-align: right;\n",
       "    }\n",
       "</style>\n",
       "<table border=\"1\" class=\"dataframe\">\n",
       "  <thead>\n",
       "    <tr style=\"text-align: right;\">\n",
       "      <th></th>\n",
       "      <th>job</th>\n",
       "      <th>marital</th>\n",
       "      <th>education</th>\n",
       "      <th>default</th>\n",
       "      <th>housing</th>\n",
       "      <th>loan</th>\n",
       "      <th>contact</th>\n",
       "      <th>month</th>\n",
       "      <th>day_of_week</th>\n",
       "      <th>poutcome</th>\n",
       "    </tr>\n",
       "  </thead>\n",
       "  <tbody>\n",
       "    <tr>\n",
       "      <th>0</th>\n",
       "      <td>housemaid</td>\n",
       "      <td>married</td>\n",
       "      <td>basic.4y</td>\n",
       "      <td>no</td>\n",
       "      <td>no</td>\n",
       "      <td>no</td>\n",
       "      <td>telephone</td>\n",
       "      <td>may</td>\n",
       "      <td>mon</td>\n",
       "      <td>nonexistent</td>\n",
       "    </tr>\n",
       "    <tr>\n",
       "      <th>1</th>\n",
       "      <td>services</td>\n",
       "      <td>married</td>\n",
       "      <td>high.school</td>\n",
       "      <td>unknown</td>\n",
       "      <td>no</td>\n",
       "      <td>no</td>\n",
       "      <td>telephone</td>\n",
       "      <td>may</td>\n",
       "      <td>mon</td>\n",
       "      <td>nonexistent</td>\n",
       "    </tr>\n",
       "    <tr>\n",
       "      <th>2</th>\n",
       "      <td>services</td>\n",
       "      <td>married</td>\n",
       "      <td>high.school</td>\n",
       "      <td>no</td>\n",
       "      <td>yes</td>\n",
       "      <td>no</td>\n",
       "      <td>telephone</td>\n",
       "      <td>may</td>\n",
       "      <td>mon</td>\n",
       "      <td>nonexistent</td>\n",
       "    </tr>\n",
       "    <tr>\n",
       "      <th>3</th>\n",
       "      <td>admin.</td>\n",
       "      <td>married</td>\n",
       "      <td>basic.6y</td>\n",
       "      <td>no</td>\n",
       "      <td>no</td>\n",
       "      <td>no</td>\n",
       "      <td>telephone</td>\n",
       "      <td>may</td>\n",
       "      <td>mon</td>\n",
       "      <td>nonexistent</td>\n",
       "    </tr>\n",
       "    <tr>\n",
       "      <th>4</th>\n",
       "      <td>services</td>\n",
       "      <td>married</td>\n",
       "      <td>high.school</td>\n",
       "      <td>no</td>\n",
       "      <td>no</td>\n",
       "      <td>yes</td>\n",
       "      <td>telephone</td>\n",
       "      <td>may</td>\n",
       "      <td>mon</td>\n",
       "      <td>nonexistent</td>\n",
       "    </tr>\n",
       "  </tbody>\n",
       "</table>\n",
       "</div>"
      ],
      "text/plain": [
       "         job  marital    education  default housing loan    contact month  \\\n",
       "0  housemaid  married     basic.4y       no      no   no  telephone   may   \n",
       "1   services  married  high.school  unknown      no   no  telephone   may   \n",
       "2   services  married  high.school       no     yes   no  telephone   may   \n",
       "3     admin.  married     basic.6y       no      no   no  telephone   may   \n",
       "4   services  married  high.school       no      no  yes  telephone   may   \n",
       "\n",
       "  day_of_week     poutcome  \n",
       "0         mon  nonexistent  \n",
       "1         mon  nonexistent  \n",
       "2         mon  nonexistent  \n",
       "3         mon  nonexistent  \n",
       "4         mon  nonexistent  "
      ]
     },
     "execution_count": 17,
     "metadata": {},
     "output_type": "execute_result"
    }
   ],
   "source": [
    "#checking contents of categorical Columns\n",
    "data_cat.head()"
   ]
  },
  {
   "cell_type": "markdown",
   "metadata": {},
   "source": [
    "### Feature Engineering on Categorical Variables"
   ]
  },
  {
   "cell_type": "markdown",
   "metadata": {},
   "source": [
    "#### Education"
   ]
  },
  {
   "cell_type": "code",
   "execution_count": 18,
   "metadata": {},
   "outputs": [
    {
     "data": {
      "text/plain": [
       "university.degree      12168\n",
       "high.school             9515\n",
       "basic.9y                6045\n",
       "professional.course     5243\n",
       "basic.4y                4176\n",
       "basic.6y                2292\n",
       "unknown                 1731\n",
       "illiterate                18\n",
       "Name: education, dtype: int64"
      ]
     },
     "execution_count": 18,
     "metadata": {},
     "output_type": "execute_result"
    }
   ],
   "source": [
    "data_cat['education'].value_counts()"
   ]
  },
  {
   "cell_type": "code",
   "execution_count": 19,
   "metadata": {},
   "outputs": [],
   "source": [
    "data_cat['outcome'] = bank['outcome']"
   ]
  },
  {
   "cell_type": "code",
   "execution_count": 20,
   "metadata": {},
   "outputs": [
    {
     "data": {
      "text/html": [
       "<div>\n",
       "<style scoped>\n",
       "    .dataframe tbody tr th:only-of-type {\n",
       "        vertical-align: middle;\n",
       "    }\n",
       "\n",
       "    .dataframe tbody tr th {\n",
       "        vertical-align: top;\n",
       "    }\n",
       "\n",
       "    .dataframe thead th {\n",
       "        text-align: right;\n",
       "    }\n",
       "</style>\n",
       "<table border=\"1\" class=\"dataframe\">\n",
       "  <thead>\n",
       "    <tr style=\"text-align: right;\">\n",
       "      <th></th>\n",
       "      <th>job</th>\n",
       "      <th>marital</th>\n",
       "      <th>education</th>\n",
       "      <th>default</th>\n",
       "      <th>housing</th>\n",
       "      <th>loan</th>\n",
       "      <th>contact</th>\n",
       "      <th>month</th>\n",
       "      <th>day_of_week</th>\n",
       "      <th>poutcome</th>\n",
       "      <th>outcome</th>\n",
       "    </tr>\n",
       "  </thead>\n",
       "  <tbody>\n",
       "    <tr>\n",
       "      <th>0</th>\n",
       "      <td>housemaid</td>\n",
       "      <td>married</td>\n",
       "      <td>basic.4y</td>\n",
       "      <td>no</td>\n",
       "      <td>no</td>\n",
       "      <td>no</td>\n",
       "      <td>telephone</td>\n",
       "      <td>may</td>\n",
       "      <td>mon</td>\n",
       "      <td>nonexistent</td>\n",
       "      <td>0</td>\n",
       "    </tr>\n",
       "    <tr>\n",
       "      <th>1</th>\n",
       "      <td>services</td>\n",
       "      <td>married</td>\n",
       "      <td>high.school</td>\n",
       "      <td>unknown</td>\n",
       "      <td>no</td>\n",
       "      <td>no</td>\n",
       "      <td>telephone</td>\n",
       "      <td>may</td>\n",
       "      <td>mon</td>\n",
       "      <td>nonexistent</td>\n",
       "      <td>0</td>\n",
       "    </tr>\n",
       "    <tr>\n",
       "      <th>2</th>\n",
       "      <td>services</td>\n",
       "      <td>married</td>\n",
       "      <td>high.school</td>\n",
       "      <td>no</td>\n",
       "      <td>yes</td>\n",
       "      <td>no</td>\n",
       "      <td>telephone</td>\n",
       "      <td>may</td>\n",
       "      <td>mon</td>\n",
       "      <td>nonexistent</td>\n",
       "      <td>0</td>\n",
       "    </tr>\n",
       "    <tr>\n",
       "      <th>3</th>\n",
       "      <td>admin.</td>\n",
       "      <td>married</td>\n",
       "      <td>basic.6y</td>\n",
       "      <td>no</td>\n",
       "      <td>no</td>\n",
       "      <td>no</td>\n",
       "      <td>telephone</td>\n",
       "      <td>may</td>\n",
       "      <td>mon</td>\n",
       "      <td>nonexistent</td>\n",
       "      <td>0</td>\n",
       "    </tr>\n",
       "    <tr>\n",
       "      <th>4</th>\n",
       "      <td>services</td>\n",
       "      <td>married</td>\n",
       "      <td>high.school</td>\n",
       "      <td>no</td>\n",
       "      <td>no</td>\n",
       "      <td>yes</td>\n",
       "      <td>telephone</td>\n",
       "      <td>may</td>\n",
       "      <td>mon</td>\n",
       "      <td>nonexistent</td>\n",
       "      <td>0</td>\n",
       "    </tr>\n",
       "  </tbody>\n",
       "</table>\n",
       "</div>"
      ],
      "text/plain": [
       "         job  marital    education  default housing loan    contact month  \\\n",
       "0  housemaid  married     basic.4y       no      no   no  telephone   may   \n",
       "1   services  married  high.school  unknown      no   no  telephone   may   \n",
       "2   services  married  high.school       no     yes   no  telephone   may   \n",
       "3     admin.  married     basic.6y       no      no   no  telephone   may   \n",
       "4   services  married  high.school       no      no  yes  telephone   may   \n",
       "\n",
       "  day_of_week     poutcome  outcome  \n",
       "0         mon  nonexistent        0  \n",
       "1         mon  nonexistent        0  \n",
       "2         mon  nonexistent        0  \n",
       "3         mon  nonexistent        0  \n",
       "4         mon  nonexistent        0  "
      ]
     },
     "execution_count": 20,
     "metadata": {},
     "output_type": "execute_result"
    }
   ],
   "source": [
    "data_cat.head()"
   ]
  },
  {
   "cell_type": "code",
   "execution_count": 21,
   "metadata": {},
   "outputs": [
    {
     "data": {
      "image/png": "[encoded data removed]",
      "text/plain": [
       "<Figure size 720x504 with 1 Axes>"
      ]
     },
     "metadata": {
      "needs_background": "light"
     },
     "output_type": "display_data"
    }
   ],
   "source": [
    "plt.figure(figsize=(10,7))\n",
    "sns.countplot(y='education',hue='outcome',data=data_cat)\n",
    "plt.tight_layout()"
   ]
  },
  {
   "cell_type": "code",
   "execution_count": 22,
   "metadata": {},
   "outputs": [
    {
     "data": {
      "text/plain": [
       "admin.           10422\n",
       "blue-collar       9254\n",
       "technician        6743\n",
       "services          3969\n",
       "management        2924\n",
       "retired           1720\n",
       "entrepreneur      1456\n",
       "self-employed     1421\n",
       "housemaid         1060\n",
       "unemployed        1014\n",
       "student            875\n",
       "unknown            330\n",
       "Name: job, dtype: int64"
      ]
     },
     "execution_count": 22,
     "metadata": {},
     "output_type": "execute_result"
    }
   ],
   "source": [
    "data_cat['job'].value_counts()"
   ]
  },
  {
   "cell_type": "code",
   "execution_count": 23,
   "metadata": {},
   "outputs": [
    {
     "data": {
      "image/png": "[encoded data removed]",
      "text/plain": [
       "<Figure size 720x504 with 1 Axes>"
      ]
     },
     "metadata": {
      "needs_background": "light"
     },
     "output_type": "display_data"
    }
   ],
   "source": [
    "plt.figure(figsize=(10,7))\n",
    "sns.countplot(y='job',hue='outcome',data=bank)\n",
    "plt.tight_layout()"
   ]
  },
  {
   "cell_type": "code",
   "execution_count": 24,
   "metadata": {},
   "outputs": [
    {
     "data": {
      "text/plain": [
       "married     24928\n",
       "single      11568\n",
       "divorced     4612\n",
       "unknown        80\n",
       "Name: marital, dtype: int64"
      ]
     },
     "execution_count": 24,
     "metadata": {},
     "output_type": "execute_result"
    }
   ],
   "source": [
    "data_cat['marital'].value_counts()"
   ]
  },
  {
   "cell_type": "code",
   "execution_count": 25,
   "metadata": {},
   "outputs": [
    {
     "data": {
      "image/png": "[encoded data removed]",
      "text/plain": [
       "<Figure size 720x504 with 1 Axes>"
      ]
     },
     "metadata": {
      "needs_background": "light"
     },
     "output_type": "display_data"
    }
   ],
   "source": [
    "plt.figure(figsize=(10,7))\n",
    "sns.countplot(x='marital',hue='outcome',data=data_cat)\n",
    "plt.tight_layout()"
   ]
  },
  {
   "cell_type": "code",
   "execution_count": 26,
   "metadata": {},
   "outputs": [
    {
     "data": {
      "text/plain": [
       "no         32588\n",
       "unknown     8597\n",
       "yes            3\n",
       "Name: default, dtype: int64"
      ]
     },
     "execution_count": 26,
     "metadata": {},
     "output_type": "execute_result"
    }
   ],
   "source": [
    "data_cat['default'].value_counts()"
   ]
  },
  {
   "cell_type": "code",
   "execution_count": 27,
   "metadata": {},
   "outputs": [
    {
     "data": {
      "text/plain": [
       "21580    0\n",
       "21581    0\n",
       "24866    0\n",
       "Name: outcome, dtype: int64"
      ]
     },
     "execution_count": 27,
     "metadata": {},
     "output_type": "execute_result"
    }
   ],
   "source": [
    "data_cat['outcome'][data_cat['default']=='yes'] # checks who all 3 yes candidates are from outcome column"
   ]
  },
  {
   "cell_type": "code",
   "execution_count": 28,
   "metadata": {},
   "outputs": [],
   "source": [
    "tab = pd.crosstab(data_cat['default'],  data_cat['outcome'],margins = False)\n",
    "prop = []\n",
    "for i in range(tab.shape[0]):\n",
    "    value = tab.iloc[i,1]/tab.iloc[i,0]\n",
    "    prop.append(value)\n",
    "tab['prop'] = prop #"
   ]
  },
  {
   "cell_type": "code",
   "execution_count": 29,
   "metadata": {},
   "outputs": [],
   "source": [
    "def createProportions(df,colName, dependentColName):\n",
    "    \n",
    "    tab = pd.crosstab(df[colName],  df[dependentColName],margins = False)\n",
    "    prop = []\n",
    "    for i in range(tab.shape[0]):\n",
    "        value = tab.iloc[i,1]/tab.iloc[i,0]\n",
    "        prop.append(value)\n",
    "    tab['prop'] = prop\n",
    "\n",
    "    return tab\n"
   ]
  },
  {
   "cell_type": "code",
   "execution_count": 30,
   "metadata": {},
   "outputs": [],
   "source": [
    "def categoryRename(df, colName, oldName, newName):\n",
    "    \n",
    "    df[colName][df[colName]==oldName]=newName\n",
    "    #x = df[colName].value_counts()\n",
    "    return df"
   ]
  },
  {
   "cell_type": "code",
   "execution_count": 31,
   "metadata": {},
   "outputs": [],
   "source": [
    "# club yes with unknown based on 1 proportion\n",
    "data_cat = categoryRename(data_cat,'default', 'yes', 'unknown') #using previous function"
   ]
  },
  {
   "cell_type": "code",
   "execution_count": 32,
   "metadata": {},
   "outputs": [
    {
     "data": {
      "text/plain": [
       "no         32588\n",
       "unknown     8600\n",
       "Name: default, dtype: int64"
      ]
     },
     "execution_count": 32,
     "metadata": {},
     "output_type": "execute_result"
    }
   ],
   "source": [
    "data_cat['default'].value_counts()"
   ]
  },
  {
   "cell_type": "code",
   "execution_count": 33,
   "metadata": {},
   "outputs": [
    {
     "data": {
      "image/png": "[encoded data removed]",
      "text/plain": [
       "<Figure size 432x360 with 1 Axes>"
      ]
     },
     "metadata": {
      "needs_background": "light"
     },
     "output_type": "display_data"
    }
   ],
   "source": [
    "plt.figure(figsize=(6,5))\n",
    "sns.countplot(x='default',hue='outcome',data=data_cat)\n",
    "plt.tight_layout()"
   ]
  },
  {
   "cell_type": "code",
   "execution_count": 34,
   "metadata": {},
   "outputs": [
    {
     "data": {
      "text/plain": [
       "yes        21576\n",
       "no         18622\n",
       "unknown      990\n",
       "Name: housing, dtype: int64"
      ]
     },
     "execution_count": 34,
     "metadata": {},
     "output_type": "execute_result"
    }
   ],
   "source": [
    "data_cat['housing'].value_counts()"
   ]
  },
  {
   "cell_type": "code",
   "execution_count": 35,
   "metadata": {},
   "outputs": [
    {
     "data": {
      "image/png": "[encoded data removed]",
      "text/plain": [
       "<Figure size 576x432 with 1 Axes>"
      ]
     },
     "metadata": {
      "needs_background": "light"
     },
     "output_type": "display_data"
    }
   ],
   "source": [
    "plt.figure(figsize=(8,6))\n",
    "sns.countplot(x='housing',hue='outcome',data=data_cat)\n",
    "plt.tight_layout()"
   ]
  },
  {
   "cell_type": "code",
   "execution_count": 36,
   "metadata": {},
   "outputs": [
    {
     "data": {
      "text/plain": [
       "no         33950\n",
       "yes         6248\n",
       "unknown      990\n",
       "Name: loan, dtype: int64"
      ]
     },
     "execution_count": 36,
     "metadata": {},
     "output_type": "execute_result"
    }
   ],
   "source": [
    "data_cat['loan'].value_counts()"
   ]
  },
  {
   "cell_type": "code",
   "execution_count": 37,
   "metadata": {},
   "outputs": [
    {
     "data": {
      "image/png": "[encoded data removed]",
      "text/plain": [
       "<Figure size 576x432 with 1 Axes>"
      ]
     },
     "metadata": {
      "needs_background": "light"
     },
     "output_type": "display_data"
    }
   ],
   "source": [
    "plt.figure(figsize=(8,6))\n",
    "sns.countplot(x='loan',hue='outcome',data=bank)\n",
    "plt.tight_layout()"
   ]
  },
  {
   "cell_type": "code",
   "execution_count": 38,
   "metadata": {},
   "outputs": [
    {
     "data": {
      "text/plain": [
       "cellular     26144\n",
       "telephone    15044\n",
       "Name: contact, dtype: int64"
      ]
     },
     "execution_count": 38,
     "metadata": {},
     "output_type": "execute_result"
    }
   ],
   "source": [
    "data_cat['contact'].value_counts()"
   ]
  },
  {
   "cell_type": "code",
   "execution_count": 39,
   "metadata": {},
   "outputs": [
    {
     "data": {
      "image/png": "[encoded data removed]",
      "text/plain": [
       "<Figure size 576x432 with 1 Axes>"
      ]
     },
     "metadata": {
      "needs_background": "light"
     },
     "output_type": "display_data"
    }
   ],
   "source": [
    "plt.figure(figsize=(8,6))\n",
    "sns.countplot(x='contact',hue='outcome',data=bank)\n",
    "plt.tight_layout()"
   ]
  },
  {
   "cell_type": "code",
   "execution_count": 40,
   "metadata": {},
   "outputs": [
    {
     "data": {
      "text/plain": [
       "may    13769\n",
       "jul     7174\n",
       "aug     6178\n",
       "jun     5318\n",
       "nov     4101\n",
       "apr     2632\n",
       "oct      718\n",
       "sep      570\n",
       "mar      546\n",
       "dec      182\n",
       "Name: month, dtype: int64"
      ]
     },
     "execution_count": 40,
     "metadata": {},
     "output_type": "execute_result"
    }
   ],
   "source": [
    "data_cat['month'].value_counts()"
   ]
  },
  {
   "cell_type": "code",
   "execution_count": 41,
   "metadata": {},
   "outputs": [
    {
     "data": {
      "image/png": "[encoded data removed]",
      "text/plain": [
       "<Figure size 720x504 with 1 Axes>"
      ]
     },
     "metadata": {
      "needs_background": "light"
     },
     "output_type": "display_data"
    }
   ],
   "source": [
    "plt.figure(figsize=(10,7))\n",
    "sns.countplot(y='month',hue='outcome',data=bank)\n",
    "plt.tight_layout()"
   ]
  },
  {
   "cell_type": "code",
   "execution_count": 42,
   "metadata": {},
   "outputs": [
    {
     "data": {
      "text/plain": [
       "thu    8623\n",
       "mon    8514\n",
       "wed    8134\n",
       "tue    8090\n",
       "fri    7827\n",
       "Name: day_of_week, dtype: int64"
      ]
     },
     "execution_count": 42,
     "metadata": {},
     "output_type": "execute_result"
    }
   ],
   "source": [
    "data_cat['day_of_week'].value_counts()"
   ]
  },
  {
   "cell_type": "code",
   "execution_count": 43,
   "metadata": {},
   "outputs": [
    {
     "data": {
      "image/png": "[encoded data removed]",
      "text/plain": [
       "<Figure size 720x504 with 1 Axes>"
      ]
     },
     "metadata": {
      "needs_background": "light"
     },
     "output_type": "display_data"
    }
   ],
   "source": [
    "plt.figure(figsize=(10,7))\n",
    "sns.countplot(y='day_of_week',hue='outcome',data=bank)\n",
    "plt.tight_layout()"
   ]
  },
  {
   "cell_type": "code",
   "execution_count": 44,
   "metadata": {},
   "outputs": [
    {
     "data": {
      "text/html": [
       "<div>\n",
       "<style scoped>\n",
       "    .dataframe tbody tr th:only-of-type {\n",
       "        vertical-align: middle;\n",
       "    }\n",
       "\n",
       "    .dataframe tbody tr th {\n",
       "        vertical-align: top;\n",
       "    }\n",
       "\n",
       "    .dataframe thead th {\n",
       "        text-align: right;\n",
       "    }\n",
       "</style>\n",
       "<table border=\"1\" class=\"dataframe\">\n",
       "  <thead>\n",
       "    <tr style=\"text-align: right;\">\n",
       "      <th>outcome</th>\n",
       "      <th>0</th>\n",
       "      <th>1</th>\n",
       "      <th>prop</th>\n",
       "    </tr>\n",
       "    <tr>\n",
       "      <th>day_of_week</th>\n",
       "      <th></th>\n",
       "      <th></th>\n",
       "      <th></th>\n",
       "    </tr>\n",
       "  </thead>\n",
       "  <tbody>\n",
       "    <tr>\n",
       "      <th>fri</th>\n",
       "      <td>6981</td>\n",
       "      <td>846</td>\n",
       "      <td>0.121186</td>\n",
       "    </tr>\n",
       "    <tr>\n",
       "      <th>mon</th>\n",
       "      <td>7667</td>\n",
       "      <td>847</td>\n",
       "      <td>0.110473</td>\n",
       "    </tr>\n",
       "    <tr>\n",
       "      <th>thu</th>\n",
       "      <td>7578</td>\n",
       "      <td>1045</td>\n",
       "      <td>0.137899</td>\n",
       "    </tr>\n",
       "    <tr>\n",
       "      <th>tue</th>\n",
       "      <td>7137</td>\n",
       "      <td>953</td>\n",
       "      <td>0.133529</td>\n",
       "    </tr>\n",
       "    <tr>\n",
       "      <th>wed</th>\n",
       "      <td>7185</td>\n",
       "      <td>949</td>\n",
       "      <td>0.132081</td>\n",
       "    </tr>\n",
       "  </tbody>\n",
       "</table>\n",
       "</div>"
      ],
      "text/plain": [
       "outcome         0     1      prop\n",
       "day_of_week                      \n",
       "fri          6981   846  0.121186\n",
       "mon          7667   847  0.110473\n",
       "thu          7578  1045  0.137899\n",
       "tue          7137   953  0.133529\n",
       "wed          7185   949  0.132081"
      ]
     },
     "execution_count": 44,
     "metadata": {},
     "output_type": "execute_result"
    }
   ],
   "source": [
    "tab1 = createProportions(data_cat,'day_of_week', 'outcome')\n",
    "tab1"
   ]
  },
  {
   "cell_type": "code",
   "execution_count": 45,
   "metadata": {},
   "outputs": [
    {
     "data": {
      "text/plain": [
       "nonexistent    35563\n",
       "failure         4252\n",
       "success         1373\n",
       "Name: poutcome, dtype: int64"
      ]
     },
     "execution_count": 45,
     "metadata": {},
     "output_type": "execute_result"
    }
   ],
   "source": [
    "data_cat['poutcome'].value_counts()"
   ]
  },
  {
   "cell_type": "code",
   "execution_count": 46,
   "metadata": {},
   "outputs": [
    {
     "data": {
      "image/png": "[encoded data removed]",
      "text/plain": [
       "<Figure size 576x432 with 1 Axes>"
      ]
     },
     "metadata": {
      "needs_background": "light"
     },
     "output_type": "display_data"
    }
   ],
   "source": [
    "plt.figure(figsize=(8,6))\n",
    "sns.countplot(x='poutcome',hue='outcome',data=bank)\n",
    "plt.tight_layout()\n",
    "plt.show()\n",
    "plt.close()"
   ]
  },
  {
   "cell_type": "code",
   "execution_count": 47,
   "metadata": {},
   "outputs": [
    {
     "data": {
      "text/html": [
       "<div>\n",
       "<style scoped>\n",
       "    .dataframe tbody tr th:only-of-type {\n",
       "        vertical-align: middle;\n",
       "    }\n",
       "\n",
       "    .dataframe tbody tr th {\n",
       "        vertical-align: top;\n",
       "    }\n",
       "\n",
       "    .dataframe thead th {\n",
       "        text-align: right;\n",
       "    }\n",
       "</style>\n",
       "<table border=\"1\" class=\"dataframe\">\n",
       "  <thead>\n",
       "    <tr style=\"text-align: right;\">\n",
       "      <th>outcome</th>\n",
       "      <th>0</th>\n",
       "      <th>1</th>\n",
       "      <th>prop</th>\n",
       "    </tr>\n",
       "    <tr>\n",
       "      <th>poutcome</th>\n",
       "      <th></th>\n",
       "      <th></th>\n",
       "      <th></th>\n",
       "    </tr>\n",
       "  </thead>\n",
       "  <tbody>\n",
       "    <tr>\n",
       "      <th>failure</th>\n",
       "      <td>3647</td>\n",
       "      <td>605</td>\n",
       "      <td>0.165890</td>\n",
       "    </tr>\n",
       "    <tr>\n",
       "      <th>nonexistent</th>\n",
       "      <td>32422</td>\n",
       "      <td>3141</td>\n",
       "      <td>0.096879</td>\n",
       "    </tr>\n",
       "    <tr>\n",
       "      <th>success</th>\n",
       "      <td>479</td>\n",
       "      <td>894</td>\n",
       "      <td>1.866388</td>\n",
       "    </tr>\n",
       "  </tbody>\n",
       "</table>\n",
       "</div>"
      ],
      "text/plain": [
       "outcome          0     1      prop\n",
       "poutcome                          \n",
       "failure       3647   605  0.165890\n",
       "nonexistent  32422  3141  0.096879\n",
       "success        479   894  1.866388"
      ]
     },
     "execution_count": 47,
     "metadata": {},
     "output_type": "execute_result"
    }
   ],
   "source": [
    "tab2 = createProportions(data_cat,'poutcome', 'outcome')\n",
    "tab2"
   ]
  },
  {
   "cell_type": "markdown",
   "metadata": {},
   "source": [
    "### Checking Numerical columns"
   ]
  },
  {
   "cell_type": "code",
   "execution_count": 48,
   "metadata": {},
   "outputs": [
    {
     "data": {
      "image/png": "[encoded data removed]",
      "text/plain": [
       "<Figure size 576x432 with 1 Axes>"
      ]
     },
     "metadata": {
      "needs_background": "light"
     },
     "output_type": "display_data"
    }
   ],
   "source": [
    "plt.figure(figsize = (8,6))\n",
    "sns.distplot(data_num['age'])\n",
    "plt.show()"
   ]
  },
  {
   "cell_type": "code",
   "execution_count": 49,
   "metadata": {},
   "outputs": [
    {
     "data": {
      "text/plain": [
       "999    39673\n",
       "3        439\n",
       "6        412\n",
       "4        118\n",
       "9         64\n",
       "2         61\n",
       "7         60\n",
       "12        58\n",
       "10        52\n",
       "5         46\n",
       "13        36\n",
       "11        28\n",
       "1         26\n",
       "15        24\n",
       "14        20\n",
       "8         18\n",
       "0         15\n",
       "16        11\n",
       "17         8\n",
       "18         7\n",
       "19         3\n",
       "22         3\n",
       "21         2\n",
       "26         1\n",
       "20         1\n",
       "25         1\n",
       "27         1\n",
       "Name: pdays, dtype: int64"
      ]
     },
     "execution_count": 49,
     "metadata": {},
     "output_type": "execute_result"
    }
   ],
   "source": [
    "data_num['pdays'].value_counts()"
   ]
  },
  {
   "cell_type": "code",
   "execution_count": 50,
   "metadata": {},
   "outputs": [
    {
     "data": {
      "text/html": [
       "<div>\n",
       "<style scoped>\n",
       "    .dataframe tbody tr th:only-of-type {\n",
       "        vertical-align: middle;\n",
       "    }\n",
       "\n",
       "    .dataframe tbody tr th {\n",
       "        vertical-align: top;\n",
       "    }\n",
       "\n",
       "    .dataframe thead th {\n",
       "        text-align: right;\n",
       "    }\n",
       "</style>\n",
       "<table border=\"1\" class=\"dataframe\">\n",
       "  <thead>\n",
       "    <tr style=\"text-align: right;\">\n",
       "      <th>outcome</th>\n",
       "      <th>0</th>\n",
       "      <th>1</th>\n",
       "      <th>prop</th>\n",
       "    </tr>\n",
       "    <tr>\n",
       "      <th>pdays</th>\n",
       "      <th></th>\n",
       "      <th></th>\n",
       "      <th></th>\n",
       "    </tr>\n",
       "  </thead>\n",
       "  <tbody>\n",
       "    <tr>\n",
       "      <th>0</th>\n",
       "      <td>5</td>\n",
       "      <td>10</td>\n",
       "      <td>2.000000</td>\n",
       "    </tr>\n",
       "    <tr>\n",
       "      <th>1</th>\n",
       "      <td>18</td>\n",
       "      <td>8</td>\n",
       "      <td>0.444444</td>\n",
       "    </tr>\n",
       "    <tr>\n",
       "      <th>2</th>\n",
       "      <td>24</td>\n",
       "      <td>37</td>\n",
       "      <td>1.541667</td>\n",
       "    </tr>\n",
       "    <tr>\n",
       "      <th>3</th>\n",
       "      <td>141</td>\n",
       "      <td>298</td>\n",
       "      <td>2.113475</td>\n",
       "    </tr>\n",
       "    <tr>\n",
       "      <th>4</th>\n",
       "      <td>55</td>\n",
       "      <td>63</td>\n",
       "      <td>1.145455</td>\n",
       "    </tr>\n",
       "    <tr>\n",
       "      <th>5</th>\n",
       "      <td>17</td>\n",
       "      <td>29</td>\n",
       "      <td>1.705882</td>\n",
       "    </tr>\n",
       "    <tr>\n",
       "      <th>6</th>\n",
       "      <td>123</td>\n",
       "      <td>289</td>\n",
       "      <td>2.349593</td>\n",
       "    </tr>\n",
       "    <tr>\n",
       "      <th>7</th>\n",
       "      <td>20</td>\n",
       "      <td>40</td>\n",
       "      <td>2.000000</td>\n",
       "    </tr>\n",
       "    <tr>\n",
       "      <th>8</th>\n",
       "      <td>6</td>\n",
       "      <td>12</td>\n",
       "      <td>2.000000</td>\n",
       "    </tr>\n",
       "    <tr>\n",
       "      <th>9</th>\n",
       "      <td>29</td>\n",
       "      <td>35</td>\n",
       "      <td>1.206897</td>\n",
       "    </tr>\n",
       "    <tr>\n",
       "      <th>10</th>\n",
       "      <td>22</td>\n",
       "      <td>30</td>\n",
       "      <td>1.363636</td>\n",
       "    </tr>\n",
       "    <tr>\n",
       "      <th>11</th>\n",
       "      <td>13</td>\n",
       "      <td>15</td>\n",
       "      <td>1.153846</td>\n",
       "    </tr>\n",
       "    <tr>\n",
       "      <th>12</th>\n",
       "      <td>32</td>\n",
       "      <td>26</td>\n",
       "      <td>0.812500</td>\n",
       "    </tr>\n",
       "    <tr>\n",
       "      <th>13</th>\n",
       "      <td>8</td>\n",
       "      <td>28</td>\n",
       "      <td>3.500000</td>\n",
       "    </tr>\n",
       "    <tr>\n",
       "      <th>14</th>\n",
       "      <td>9</td>\n",
       "      <td>11</td>\n",
       "      <td>1.222222</td>\n",
       "    </tr>\n",
       "    <tr>\n",
       "      <th>15</th>\n",
       "      <td>8</td>\n",
       "      <td>16</td>\n",
       "      <td>2.000000</td>\n",
       "    </tr>\n",
       "    <tr>\n",
       "      <th>16</th>\n",
       "      <td>5</td>\n",
       "      <td>6</td>\n",
       "      <td>1.200000</td>\n",
       "    </tr>\n",
       "    <tr>\n",
       "      <th>17</th>\n",
       "      <td>6</td>\n",
       "      <td>2</td>\n",
       "      <td>0.333333</td>\n",
       "    </tr>\n",
       "    <tr>\n",
       "      <th>18</th>\n",
       "      <td>3</td>\n",
       "      <td>4</td>\n",
       "      <td>1.333333</td>\n",
       "    </tr>\n",
       "    <tr>\n",
       "      <th>19</th>\n",
       "      <td>2</td>\n",
       "      <td>1</td>\n",
       "      <td>0.500000</td>\n",
       "    </tr>\n",
       "    <tr>\n",
       "      <th>20</th>\n",
       "      <td>1</td>\n",
       "      <td>0</td>\n",
       "      <td>0.000000</td>\n",
       "    </tr>\n",
       "    <tr>\n",
       "      <th>21</th>\n",
       "      <td>0</td>\n",
       "      <td>2</td>\n",
       "      <td>inf</td>\n",
       "    </tr>\n",
       "    <tr>\n",
       "      <th>22</th>\n",
       "      <td>1</td>\n",
       "      <td>2</td>\n",
       "      <td>2.000000</td>\n",
       "    </tr>\n",
       "    <tr>\n",
       "      <th>25</th>\n",
       "      <td>0</td>\n",
       "      <td>1</td>\n",
       "      <td>inf</td>\n",
       "    </tr>\n",
       "    <tr>\n",
       "      <th>26</th>\n",
       "      <td>0</td>\n",
       "      <td>1</td>\n",
       "      <td>inf</td>\n",
       "    </tr>\n",
       "    <tr>\n",
       "      <th>27</th>\n",
       "      <td>0</td>\n",
       "      <td>1</td>\n",
       "      <td>inf</td>\n",
       "    </tr>\n",
       "    <tr>\n",
       "      <th>999</th>\n",
       "      <td>36000</td>\n",
       "      <td>3673</td>\n",
       "      <td>0.102028</td>\n",
       "    </tr>\n",
       "  </tbody>\n",
       "</table>\n",
       "</div>"
      ],
      "text/plain": [
       "outcome      0     1      prop\n",
       "pdays                         \n",
       "0            5    10  2.000000\n",
       "1           18     8  0.444444\n",
       "2           24    37  1.541667\n",
       "3          141   298  2.113475\n",
       "4           55    63  1.145455\n",
       "5           17    29  1.705882\n",
       "6          123   289  2.349593\n",
       "7           20    40  2.000000\n",
       "8            6    12  2.000000\n",
       "9           29    35  1.206897\n",
       "10          22    30  1.363636\n",
       "11          13    15  1.153846\n",
       "12          32    26  0.812500\n",
       "13           8    28  3.500000\n",
       "14           9    11  1.222222\n",
       "15           8    16  2.000000\n",
       "16           5     6  1.200000\n",
       "17           6     2  0.333333\n",
       "18           3     4  1.333333\n",
       "19           2     1  0.500000\n",
       "20           1     0  0.000000\n",
       "21           0     2       inf\n",
       "22           1     2  2.000000\n",
       "25           0     1       inf\n",
       "26           0     1       inf\n",
       "27           0     1       inf\n",
       "999      36000  3673  0.102028"
      ]
     },
     "execution_count": 50,
     "metadata": {},
     "output_type": "execute_result"
    }
   ],
   "source": [
    "tab3 = createProportions(data_num,'pdays', 'outcome')\n",
    "tab3 # 999 has maximum occurances so ideally we will frop this column"
   ]
  },
  {
   "cell_type": "code",
   "execution_count": 51,
   "metadata": {
    "scrolled": true
   },
   "outputs": [
    {
     "data": {
      "image/png": "[encoded data removed]",
      "text/plain": [
       "<Figure size 720x504 with 1 Axes>"
      ]
     },
     "metadata": {
      "needs_background": "light"
     },
     "output_type": "display_data"
    }
   ],
   "source": [
    "data_num.pdays[data_num.pdays==999]=35 ## \n",
    "plt.figure(figsize = (10,7))\n",
    "sns.distplot(data_num['pdays'])\n",
    "plt.show()"
   ]
  },
  {
   "cell_type": "code",
   "execution_count": 52,
   "metadata": {},
   "outputs": [],
   "source": [
    "data_num['pdays_band'] = pd.cut(data_num['pdays'], 5)"
   ]
  },
  {
   "cell_type": "code",
   "execution_count": 53,
   "metadata": {},
   "outputs": [
    {
     "data": {
      "text/plain": [
       "(28.0, 35.0]     39673\n",
       "(-0.035, 7.0]     1177\n",
       "(7.0, 14.0]        276\n",
       "(14.0, 21.0]        56\n",
       "(21.0, 28.0]         6\n",
       "Name: pdays_band, dtype: int64"
      ]
     },
     "execution_count": 53,
     "metadata": {},
     "output_type": "execute_result"
    }
   ],
   "source": [
    "data_num['pdays_band'].value_counts()"
   ]
  },
  {
   "cell_type": "code",
   "execution_count": 54,
   "metadata": {},
   "outputs": [
    {
     "data": {
      "text/html": [
       "<div>\n",
       "<style scoped>\n",
       "    .dataframe tbody tr th:only-of-type {\n",
       "        vertical-align: middle;\n",
       "    }\n",
       "\n",
       "    .dataframe tbody tr th {\n",
       "        vertical-align: top;\n",
       "    }\n",
       "\n",
       "    .dataframe thead th {\n",
       "        text-align: right;\n",
       "    }\n",
       "</style>\n",
       "<table border=\"1\" class=\"dataframe\">\n",
       "  <thead>\n",
       "    <tr style=\"text-align: right;\">\n",
       "      <th></th>\n",
       "      <th>pdays_band</th>\n",
       "      <th>outcome</th>\n",
       "    </tr>\n",
       "  </thead>\n",
       "  <tbody>\n",
       "    <tr>\n",
       "      <th>0</th>\n",
       "      <td>(-0.035, 7.0]</td>\n",
       "      <td>0.657604</td>\n",
       "    </tr>\n",
       "    <tr>\n",
       "      <th>1</th>\n",
       "      <td>(7.0, 14.0]</td>\n",
       "      <td>0.568841</td>\n",
       "    </tr>\n",
       "    <tr>\n",
       "      <th>2</th>\n",
       "      <td>(14.0, 21.0]</td>\n",
       "      <td>0.553571</td>\n",
       "    </tr>\n",
       "    <tr>\n",
       "      <th>3</th>\n",
       "      <td>(21.0, 28.0]</td>\n",
       "      <td>0.833333</td>\n",
       "    </tr>\n",
       "    <tr>\n",
       "      <th>4</th>\n",
       "      <td>(28.0, 35.0]</td>\n",
       "      <td>0.092582</td>\n",
       "    </tr>\n",
       "  </tbody>\n",
       "</table>\n",
       "</div>"
      ],
      "text/plain": [
       "      pdays_band   outcome\n",
       "0  (-0.035, 7.0]  0.657604\n",
       "1    (7.0, 14.0]  0.568841\n",
       "2   (14.0, 21.0]  0.553571\n",
       "3   (21.0, 28.0]  0.833333\n",
       "4   (28.0, 35.0]  0.092582"
      ]
     },
     "execution_count": 54,
     "metadata": {},
     "output_type": "execute_result"
    }
   ],
   "source": [
    "data_num[['pdays_band', 'outcome']].groupby(['pdays_band'], \n",
    "        as_index=False).mean().sort_values(by='pdays_band', ascending=True)"
   ]
  },
  {
   "cell_type": "code",
   "execution_count": 55,
   "metadata": {},
   "outputs": [],
   "source": [
    "data_num.loc[ data_num['pdays'] <= 7.0, 'pdays'] = 0\n",
    "data_num.loc[(data_num['pdays'] > 7.0) & (data_num['pdays'] <= 14.0), 'pdays'] = 1\n",
    "data_num.loc[ data_num['pdays'] > 14, 'pdays'] = 2"
   ]
  },
  {
   "cell_type": "code",
   "execution_count": 56,
   "metadata": {},
   "outputs": [
    {
     "data": {
      "text/plain": [
       "2    39735\n",
       "0     1177\n",
       "1      276\n",
       "Name: pdays, dtype: int64"
      ]
     },
     "execution_count": 56,
     "metadata": {},
     "output_type": "execute_result"
    }
   ],
   "source": [
    "data_num.pdays.value_counts()"
   ]
  },
  {
   "cell_type": "code",
   "execution_count": 57,
   "metadata": {},
   "outputs": [
    {
     "data": {
      "image/png": "[encoded data removed]",
      "text/plain": [
       "<Figure size 576x432 with 1 Axes>"
      ]
     },
     "metadata": {
      "needs_background": "light"
     },
     "output_type": "display_data"
    }
   ],
   "source": [
    "plt.figure(figsize=(8,6))\n",
    "sns.countplot(x='pdays',hue='outcome',data=data_num)\n",
    "plt.show()"
   ]
  },
  {
   "cell_type": "code",
   "execution_count": 58,
   "metadata": {},
   "outputs": [],
   "source": [
    "def clubLabelEncoder(df, feature, k):\n",
    "    \n",
    "    #df[feature + '_band'] = pd.cut(df[feature], k)\n",
    "    #data = df[[feature + '_band', target]].groupby([feature + '_band'], as_index = False).mean().sort_values(by = feature + '_band', ascending = True)\n",
    "    #x = data[feature + '_band'].tolist()\n",
    "    df[feature +'_band'] = pd.qcut(df[feature], k)\n",
    "    x = df[feature + '_band'].value_counts().index.tolist()\n",
    "    \n",
    "    intervals = []\n",
    "    for i in range(len(x)):\n",
    "        leftInt = x[i].left\n",
    "        rtInt = x[i].right\n",
    "        intervals.append(leftInt)\n",
    "        intervals.append(rtInt)\n",
    "    \n",
    "    intervals_ = sorted(list(set(intervals)))\n",
    "    \n",
    "    for i in range(len(intervals_)-1):\n",
    "        \n",
    "        df.loc[(df[feature] > intervals_[i]) & (df[feature] <= intervals_[i+1]), feature] = i\n",
    "        \n",
    "    df = df.iloc[:,:-1]\n",
    "        \n",
    "    return df[feature].value_counts()"
   ]
  },
  {
   "cell_type": "code",
   "execution_count": 59,
   "metadata": {},
   "outputs": [
    {
     "data": {
      "text/plain": [
       " 1.4    16234\n",
       "-1.8     9184\n",
       " 1.1     7763\n",
       "-0.1     3683\n",
       "-2.9     1663\n",
       "-3.4     1071\n",
       "-1.7      773\n",
       "-1.1      635\n",
       "-3.0      172\n",
       "-0.2       10\n",
       "Name: emp.var.rate, dtype: int64"
      ]
     },
     "execution_count": 59,
     "metadata": {},
     "output_type": "execute_result"
    }
   ],
   "source": [
    "# emp.var.rate\n",
    "data_num['emp.var.rate'].value_counts()"
   ]
  },
  {
   "cell_type": "code",
   "execution_count": 60,
   "metadata": {},
   "outputs": [
    {
     "data": {
      "text/plain": [
       "1.0    23997\n",
       "0.0    17191\n",
       "Name: emp.var.rate, dtype: int64"
      ]
     },
     "execution_count": 60,
     "metadata": {},
     "output_type": "execute_result"
    }
   ],
   "source": [
    "data_num.loc[ data_num['emp.var.rate'] <= 0, 'emp.var.rate'] = 0\n",
    "data_num.loc[ data_num['emp.var.rate'] > 0, 'emp.var.rate'] = 1\n",
    "data_num['emp.var.rate'].value_counts()"
   ]
  },
  {
   "cell_type": "code",
   "execution_count": 61,
   "metadata": {},
   "outputs": [
    {
     "data": {
      "image/png": "[encoded data removed]",
      "text/plain": [
       "<Figure size 576x432 with 1 Axes>"
      ]
     },
     "metadata": {
      "needs_background": "light"
     },
     "output_type": "display_data"
    }
   ],
   "source": [
    "plt.figure(figsize=(8,6))\n",
    "sns.countplot(x='emp.var.rate',hue='outcome',data=data_num)\n",
    "plt.show()"
   ]
  },
  {
   "cell_type": "code",
   "execution_count": 62,
   "metadata": {},
   "outputs": [
    {
     "data": {
      "text/plain": [
       "93.994    7763\n",
       "93.918    6685\n",
       "92.893    5794\n",
       "93.444    5175\n",
       "94.465    4374\n",
       "93.200    3616\n",
       "93.075    2458\n",
       "92.201     770\n",
       "92.963     715\n",
       "92.431     447\n",
       "92.649     357\n",
       "94.215     311\n",
       "94.199     303\n",
       "92.843     282\n",
       "92.379     267\n",
       "93.369     264\n",
       "94.027     233\n",
       "94.055     229\n",
       "93.876     212\n",
       "94.601     204\n",
       "92.469     178\n",
       "93.749     174\n",
       "92.713     172\n",
       "94.767     128\n",
       "93.798      67\n",
       "92.756      10\n",
       "Name: cons.price.idx, dtype: int64"
      ]
     },
     "execution_count": 62,
     "metadata": {},
     "output_type": "execute_result"
    }
   ],
   "source": [
    "#cons.price.idx\n",
    "data_num['cons.price.idx'].value_counts()"
   ]
  },
  {
   "cell_type": "code",
   "execution_count": 63,
   "metadata": {},
   "outputs": [],
   "source": [
    "data_num['cons.price.idx_band'] = pd.cut(data_num['cons.price.idx'], 4)"
   ]
  },
  {
   "cell_type": "code",
   "execution_count": 64,
   "metadata": {},
   "outputs": [
    {
     "data": {
      "text/plain": [
       "(92.842, 93.484]    18304\n",
       "(93.484, 94.126]    15363\n",
       "(94.126, 94.767]     5320\n",
       "(92.198, 92.842]     2201\n",
       "Name: cons.price.idx_band, dtype: int64"
      ]
     },
     "execution_count": 64,
     "metadata": {},
     "output_type": "execute_result"
    }
   ],
   "source": [
    "data_num['cons.price.idx_band'].value_counts()"
   ]
  },
  {
   "cell_type": "code",
   "execution_count": 65,
   "metadata": {},
   "outputs": [],
   "source": [
    "data_num.loc[ data_num['cons.price.idx'] <= 92.842, 'cons.price.idx'] = 0\n",
    "data_num.loc[(data_num['cons.price.idx'] > 92.842) & (data_num['cons.price.idx'] <= 93.484), 'cons.price.idx'] = 1\n",
    "data_num.loc[(data_num['cons.price.idx'] > 93.484) & (data_num['cons.price.idx'] <= 94.126), 'cons.price.idx'] = 2\n",
    "data_num.loc[data_num['cons.price.idx'] > 94.126, 'cons.price.idx'] = 3"
   ]
  },
  {
   "cell_type": "code",
   "execution_count": 66,
   "metadata": {},
   "outputs": [
    {
     "data": {
      "text/plain": [
       "1.0    18304\n",
       "2.0    15363\n",
       "3.0     5320\n",
       "0.0     2201\n",
       "Name: cons.price.idx, dtype: int64"
      ]
     },
     "execution_count": 66,
     "metadata": {},
     "output_type": "execute_result"
    }
   ],
   "source": [
    "data_num['cons.price.idx'].value_counts()"
   ]
  },
  {
   "cell_type": "code",
   "execution_count": 67,
   "metadata": {},
   "outputs": [
    {
     "data": {
      "image/png": "[encoded data removed]",
      "text/plain": [
       "<Figure size 576x432 with 1 Axes>"
      ]
     },
     "metadata": {
      "needs_background": "light"
     },
     "output_type": "display_data"
    }
   ],
   "source": [
    "plt.figure(figsize=(8,6))\n",
    "sns.countplot(x='cons.price.idx',hue='outcome',data=data_num)\n",
    "plt.show()"
   ]
  },
  {
   "cell_type": "code",
   "execution_count": 68,
   "metadata": {},
   "outputs": [
    {
     "data": {
      "text/plain": [
       "-36.4    7763\n",
       "-42.7    6685\n",
       "-46.2    5794\n",
       "-36.1    5175\n",
       "-41.8    4374\n",
       "-42.0    3616\n",
       "-47.1    2458\n",
       "-31.4     770\n",
       "-40.8     715\n",
       "-26.9     447\n",
       "-30.1     357\n",
       "-40.3     311\n",
       "-37.5     303\n",
       "-50.0     282\n",
       "-29.8     267\n",
       "-34.8     264\n",
       "-38.3     233\n",
       "-39.8     229\n",
       "-40.0     212\n",
       "-49.5     204\n",
       "-33.6     178\n",
       "-34.6     174\n",
       "-33.0     172\n",
       "-50.8     128\n",
       "-40.4      67\n",
       "-45.9      10\n",
       "Name: cons.conf.idx, dtype: int64"
      ]
     },
     "execution_count": 68,
     "metadata": {},
     "output_type": "execute_result"
    }
   ],
   "source": [
    "#cons.conf.idx\n",
    "data_num['cons.conf.idx'].value_counts()"
   ]
  },
  {
   "cell_type": "code",
   "execution_count": 69,
   "metadata": {},
   "outputs": [
    {
     "data": {
      "text/plain": [
       "(-44.825, -38.85]     16209\n",
       "(-38.85, -32.875]     14262\n",
       "(-50.824, -44.825]     8876\n",
       "(-32.875, -26.9]       1841\n",
       "Name: cons.conf.idx_band, dtype: int64"
      ]
     },
     "execution_count": 69,
     "metadata": {},
     "output_type": "execute_result"
    }
   ],
   "source": [
    "data_num['cons.conf.idx_band'] = pd.cut(data_num['cons.conf.idx'], 4)\n",
    "data_num['cons.conf.idx_band'].value_counts()"
   ]
  },
  {
   "cell_type": "code",
   "execution_count": 70,
   "metadata": {},
   "outputs": [],
   "source": [
    "data_num.loc[ data_num['cons.conf.idx'] >= -32.875, 'cons.conf.idx'] = 0\n",
    "data_num.loc[(data_num['cons.conf.idx'] < -32.875) & (data_num['cons.conf.idx'] >= -38.85), 'cons.conf.idx'] = 1\n",
    "data_num.loc[(data_num['cons.conf.idx'] < -38.85) & (data_num['cons.conf.idx'] >= -44.825), 'cons.conf.idx'] = 2\n",
    "data_num.loc[data_num['cons.conf.idx'] < -44.825, 'cons.conf.idx'] = 3"
   ]
  },
  {
   "cell_type": "code",
   "execution_count": 71,
   "metadata": {},
   "outputs": [
    {
     "data": {
      "text/plain": [
       "2.0    16209\n",
       "1.0    14262\n",
       "3.0     8876\n",
       "0.0     1841\n",
       "Name: cons.conf.idx, dtype: int64"
      ]
     },
     "execution_count": 71,
     "metadata": {},
     "output_type": "execute_result"
    }
   ],
   "source": [
    "data_num['cons.conf.idx'].value_counts()"
   ]
  },
  {
   "cell_type": "code",
   "execution_count": 72,
   "metadata": {},
   "outputs": [
    {
     "data": {
      "image/png": "[encoded data removed]",
      "text/plain": [
       "<Figure size 576x432 with 1 Axes>"
      ]
     },
     "metadata": {
      "needs_background": "light"
     },
     "output_type": "display_data"
    }
   ],
   "source": [
    "plt.figure(figsize=(8,6))\n",
    "sns.countplot(x='cons.conf.idx',hue='outcome',data=data_num)\n",
    "plt.show()"
   ]
  },
  {
   "cell_type": "code",
   "execution_count": 73,
   "metadata": {},
   "outputs": [
    {
     "data": {
      "text/plain": [
       "5228.1    16234\n",
       "5099.1     8534\n",
       "5191.0     7763\n",
       "5195.8     3683\n",
       "5076.2     1663\n",
       "5017.5     1071\n",
       "4991.6      773\n",
       "5008.7      650\n",
       "4963.6      635\n",
       "5023.5      172\n",
       "5176.3       10\n",
       "Name: nr.employed, dtype: int64"
      ]
     },
     "execution_count": 73,
     "metadata": {},
     "output_type": "execute_result"
    }
   ],
   "source": [
    "# nr.employed\n",
    "data_num['nr.employed'].value_counts()"
   ]
  },
  {
   "cell_type": "code",
   "execution_count": 74,
   "metadata": {},
   "outputs": [
    {
     "data": {
      "text/plain": [
       "(5161.975, 5228.1]      27690\n",
       "(5095.85, 5161.975]      8534\n",
       "(4963.336, 5029.725]     3301\n",
       "(5029.725, 5095.85]      1663\n",
       "Name: nr.employed_band, dtype: int64"
      ]
     },
     "execution_count": 74,
     "metadata": {},
     "output_type": "execute_result"
    }
   ],
   "source": [
    "data_num['nr.employed_band'] = pd.cut(data_num['nr.employed'], 4)\n",
    "data_num['nr.employed_band'].value_counts()"
   ]
  },
  {
   "cell_type": "code",
   "execution_count": 75,
   "metadata": {},
   "outputs": [
    {
     "data": {
      "text/plain": [
       "3.0    27690\n",
       "2.0     8534\n",
       "0.0     3301\n",
       "1.0     1663\n",
       "Name: nr.employed, dtype: int64"
      ]
     },
     "execution_count": 75,
     "metadata": {},
     "output_type": "execute_result"
    }
   ],
   "source": [
    "data_num.loc[ data_num['nr.employed'] <= 5029.735, 'nr.employed'] = 0\n",
    "data_num.loc[(data_num['nr.employed'] > 5029.735) & (data_num['nr.employed'] <= 5095.85), 'nr.employed'] = 1\n",
    "data_num.loc[(data_num['nr.employed'] > 5095.85) & (data_num['nr.employed'] <= 5161.975), 'nr.employed'] = 2\n",
    "data_num.loc[data_num['nr.employed'] > 5161.975, 'nr.employed'] = 3\n",
    "\n",
    "data_num['nr.employed'].value_counts()"
   ]
  },
  {
   "cell_type": "code",
   "execution_count": 76,
   "metadata": {},
   "outputs": [
    {
     "data": {
      "image/png": "[encoded data removed]",
      "text/plain": [
       "<Figure size 576x432 with 1 Axes>"
      ]
     },
     "metadata": {
      "needs_background": "light"
     },
     "output_type": "display_data"
    }
   ],
   "source": [
    "plt.figure(figsize=(8,6))\n",
    "sns.countplot(x='nr.employed',hue='outcome',data=data_num)\n",
    "plt.show()"
   ]
  },
  {
   "cell_type": "code",
   "execution_count": 77,
   "metadata": {},
   "outputs": [
    {
     "data": {
      "text/plain": [
       "<matplotlib.axes._subplots.AxesSubplot at 0x23b4fa4e0f0>"
      ]
     },
     "execution_count": 77,
     "metadata": {},
     "output_type": "execute_result"
    },
    {
     "data": {
      "image/png": "[encoded data removed]",
      "text/plain": [
       "<Figure size 432x288 with 1 Axes>"
      ]
     },
     "metadata": {
      "needs_background": "light"
     },
     "output_type": "display_data"
    }
   ],
   "source": [
    "# have to categrize the numericals age, duration, euribor3m \n",
    "sns.distplot(data_num['age'])"
   ]
  },
  {
   "cell_type": "code",
   "execution_count": 78,
   "metadata": {},
   "outputs": [
    {
     "data": {
      "text/plain": [
       "(16.999, 34.0]    14754\n",
       "(34.0, 44.0]      13500\n",
       "(44.0, 98.0]      12934\n",
       "Name: age_band, dtype: int64"
      ]
     },
     "execution_count": 78,
     "metadata": {},
     "output_type": "execute_result"
    }
   ],
   "source": [
    "data_num['age_band'] = pd.qcut(data_num['age'],3)\n",
    "data_num['age_band'].value_counts()"
   ]
  },
  {
   "cell_type": "code",
   "execution_count": 79,
   "metadata": {},
   "outputs": [
    {
     "data": {
      "text/plain": [
       "0    14754\n",
       "1    13500\n",
       "2    12934\n",
       "Name: age, dtype: int64"
      ]
     },
     "execution_count": 79,
     "metadata": {},
     "output_type": "execute_result"
    }
   ],
   "source": [
    "data_num.loc[ data_num['age'] <= 34.0, 'age'] = 0\n",
    "data_num.loc[(data_num['age'] > 34.0) & (data_num['age'] <= 44.0), 'age'] = 1\n",
    "data_num.loc[data_num['age'] > 44, 'age'] = 2\n",
    "data_num['age'].value_counts()"
   ]
  },
  {
   "cell_type": "code",
   "execution_count": 80,
   "metadata": {},
   "outputs": [
    {
     "data": {
      "image/png": "[encoded data removed]",
      "text/plain": [
       "<Figure size 576x432 with 1 Axes>"
      ]
     },
     "metadata": {
      "needs_background": "light"
     },
     "output_type": "display_data"
    }
   ],
   "source": [
    "plt.figure(figsize=(8,6))\n",
    "sns.countplot(x='age',hue='outcome',data=data_num)\n",
    "plt.show()"
   ]
  },
  {
   "cell_type": "code",
   "execution_count": 81,
   "metadata": {},
   "outputs": [
    {
     "data": {
      "image/png": "[encoded data removed]",
      "text/plain": [
       "<Figure size 432x288 with 1 Axes>"
      ]
     },
     "metadata": {
      "needs_background": "light"
     },
     "output_type": "display_data"
    }
   ],
   "source": [
    "#duration\n",
    "sns.distplot(data_num['duration'])\n",
    "plt.show()\n",
    "plt.close()"
   ]
  },
  {
   "cell_type": "code",
   "execution_count": 82,
   "metadata": {},
   "outputs": [
    {
     "data": {
      "text/plain": [
       "(-0.001, 126.0]    13832\n",
       "(126.0, 258.0]     13691\n",
       "(258.0, 4918.0]    13665\n",
       "Name: duration_band, dtype: int64"
      ]
     },
     "execution_count": 82,
     "metadata": {},
     "output_type": "execute_result"
    }
   ],
   "source": [
    "data_num['duration_band'] = pd.qcut(data_num['duration'], 3)\n",
    "data_num['duration_band'].value_counts()"
   ]
  },
  {
   "cell_type": "code",
   "execution_count": 83,
   "metadata": {},
   "outputs": [
    {
     "data": {
      "text/plain": [
       "0    13832\n",
       "1    13691\n",
       "2    13665\n",
       "Name: duration, dtype: int64"
      ]
     },
     "execution_count": 83,
     "metadata": {},
     "output_type": "execute_result"
    }
   ],
   "source": [
    "data_num.loc[ data_num['duration'] <= 126.0, 'duration'] = 0\n",
    "data_num.loc[(data_num['duration'] > 126.0) & (data_num['duration'] <= 258.0), 'duration'] = 1\n",
    "data_num.loc[data_num['duration'] > 258.0, 'duration'] = 2\n",
    "data_num['duration'].value_counts()"
   ]
  },
  {
   "cell_type": "code",
   "execution_count": 84,
   "metadata": {},
   "outputs": [
    {
     "data": {
      "image/png": "[encoded data removed]",
      "text/plain": [
       "<Figure size 576x432 with 1 Axes>"
      ]
     },
     "metadata": {
      "needs_background": "light"
     },
     "output_type": "display_data"
    }
   ],
   "source": [
    "plt.figure(figsize=(8,6))\n",
    "sns.countplot(x='duration',hue='outcome',data=data_num)\n",
    "plt.show()"
   ]
  },
  {
   "cell_type": "code",
   "execution_count": 85,
   "metadata": {},
   "outputs": [
    {
     "data": {
      "image/png": "[encoded data removed]",
      "text/plain": [
       "<Figure size 432x288 with 1 Axes>"
      ]
     },
     "metadata": {
      "needs_background": "light"
     },
     "output_type": "display_data"
    }
   ],
   "source": [
    "#euribor3m\n",
    "sns.distplot(data_num['euribor3m'])\n",
    "plt.show()\n",
    "plt.close()"
   ]
  },
  {
   "cell_type": "code",
   "execution_count": 86,
   "metadata": {},
   "outputs": [
    {
     "data": {
      "text/plain": [
       "(0.633, 4.021]    14188\n",
       "(4.958, 5.045]    13601\n",
       "(4.021, 4.958]    13399\n",
       "Name: euribor3m_band, dtype: int64"
      ]
     },
     "execution_count": 86,
     "metadata": {},
     "output_type": "execute_result"
    }
   ],
   "source": [
    "data_num['euribor3m_band'] = pd.qcut(data_num['euribor3m'], 3)\n",
    "data_num['euribor3m_band'].value_counts()"
   ]
  },
  {
   "cell_type": "code",
   "execution_count": 87,
   "metadata": {},
   "outputs": [],
   "source": [
    "data_num.loc[ data_num['euribor3m'] <= 4.021, 'euribor3m'] = 0\n",
    "data_num.loc[(data_num['euribor3m'] > 4.021) & (data_num['euribor3m'] <= 4.958), 'euribor3m'] = 1\n",
    "data_num.loc[data_num['euribor3m'] > 4.958, 'euribor3m'] = 2"
   ]
  },
  {
   "cell_type": "code",
   "execution_count": 88,
   "metadata": {},
   "outputs": [
    {
     "data": {
      "text/plain": [
       "0.0    14188\n",
       "2.0    13601\n",
       "1.0    13399\n",
       "Name: euribor3m, dtype: int64"
      ]
     },
     "execution_count": 88,
     "metadata": {},
     "output_type": "execute_result"
    }
   ],
   "source": [
    "data_num['euribor3m'].value_counts()"
   ]
  },
  {
   "cell_type": "code",
   "execution_count": 89,
   "metadata": {},
   "outputs": [
    {
     "data": {
      "image/png": "[encoded data removed]",
      "text/plain": [
       "<Figure size 576x432 with 1 Axes>"
      ]
     },
     "metadata": {
      "needs_background": "light"
     },
     "output_type": "display_data"
    }
   ],
   "source": [
    "plt.figure(figsize=(8,6))\n",
    "sns.countplot(x='euribor3m',hue='outcome',data=data_num)\n",
    "plt.show()"
   ]
  },
  {
   "cell_type": "code",
   "execution_count": 90,
   "metadata": {},
   "outputs": [
    {
     "data": {
      "text/html": [
       "<div>\n",
       "<style scoped>\n",
       "    .dataframe tbody tr th:only-of-type {\n",
       "        vertical-align: middle;\n",
       "    }\n",
       "\n",
       "    .dataframe tbody tr th {\n",
       "        vertical-align: top;\n",
       "    }\n",
       "\n",
       "    .dataframe thead th {\n",
       "        text-align: right;\n",
       "    }\n",
       "</style>\n",
       "<table border=\"1\" class=\"dataframe\">\n",
       "  <thead>\n",
       "    <tr style=\"text-align: right;\">\n",
       "      <th></th>\n",
       "      <th>age</th>\n",
       "      <th>duration</th>\n",
       "      <th>campaign</th>\n",
       "      <th>pdays</th>\n",
       "      <th>previous</th>\n",
       "      <th>emp.var.rate</th>\n",
       "      <th>cons.price.idx</th>\n",
       "      <th>cons.conf.idx</th>\n",
       "      <th>euribor3m</th>\n",
       "      <th>nr.employed</th>\n",
       "      <th>outcome</th>\n",
       "      <th>pdays_band</th>\n",
       "      <th>cons.price.idx_band</th>\n",
       "      <th>cons.conf.idx_band</th>\n",
       "      <th>nr.employed_band</th>\n",
       "      <th>age_band</th>\n",
       "      <th>duration_band</th>\n",
       "      <th>euribor3m_band</th>\n",
       "    </tr>\n",
       "  </thead>\n",
       "  <tbody>\n",
       "    <tr>\n",
       "      <th>0</th>\n",
       "      <td>2</td>\n",
       "      <td>2</td>\n",
       "      <td>1</td>\n",
       "      <td>2</td>\n",
       "      <td>0</td>\n",
       "      <td>1.0</td>\n",
       "      <td>2.0</td>\n",
       "      <td>1.0</td>\n",
       "      <td>1.0</td>\n",
       "      <td>3.0</td>\n",
       "      <td>0</td>\n",
       "      <td>(28.0, 35.0]</td>\n",
       "      <td>(93.484, 94.126]</td>\n",
       "      <td>(-38.85, -32.875]</td>\n",
       "      <td>(5161.975, 5228.1]</td>\n",
       "      <td>(44.0, 98.0]</td>\n",
       "      <td>(258.0, 4918.0]</td>\n",
       "      <td>(4.021, 4.958]</td>\n",
       "    </tr>\n",
       "    <tr>\n",
       "      <th>1</th>\n",
       "      <td>2</td>\n",
       "      <td>1</td>\n",
       "      <td>1</td>\n",
       "      <td>2</td>\n",
       "      <td>0</td>\n",
       "      <td>1.0</td>\n",
       "      <td>2.0</td>\n",
       "      <td>1.0</td>\n",
       "      <td>1.0</td>\n",
       "      <td>3.0</td>\n",
       "      <td>0</td>\n",
       "      <td>(28.0, 35.0]</td>\n",
       "      <td>(93.484, 94.126]</td>\n",
       "      <td>(-38.85, -32.875]</td>\n",
       "      <td>(5161.975, 5228.1]</td>\n",
       "      <td>(44.0, 98.0]</td>\n",
       "      <td>(126.0, 258.0]</td>\n",
       "      <td>(4.021, 4.958]</td>\n",
       "    </tr>\n",
       "    <tr>\n",
       "      <th>2</th>\n",
       "      <td>1</td>\n",
       "      <td>1</td>\n",
       "      <td>1</td>\n",
       "      <td>2</td>\n",
       "      <td>0</td>\n",
       "      <td>1.0</td>\n",
       "      <td>2.0</td>\n",
       "      <td>1.0</td>\n",
       "      <td>1.0</td>\n",
       "      <td>3.0</td>\n",
       "      <td>0</td>\n",
       "      <td>(28.0, 35.0]</td>\n",
       "      <td>(93.484, 94.126]</td>\n",
       "      <td>(-38.85, -32.875]</td>\n",
       "      <td>(5161.975, 5228.1]</td>\n",
       "      <td>(34.0, 44.0]</td>\n",
       "      <td>(126.0, 258.0]</td>\n",
       "      <td>(4.021, 4.958]</td>\n",
       "    </tr>\n",
       "    <tr>\n",
       "      <th>3</th>\n",
       "      <td>1</td>\n",
       "      <td>1</td>\n",
       "      <td>1</td>\n",
       "      <td>2</td>\n",
       "      <td>0</td>\n",
       "      <td>1.0</td>\n",
       "      <td>2.0</td>\n",
       "      <td>1.0</td>\n",
       "      <td>1.0</td>\n",
       "      <td>3.0</td>\n",
       "      <td>0</td>\n",
       "      <td>(28.0, 35.0]</td>\n",
       "      <td>(93.484, 94.126]</td>\n",
       "      <td>(-38.85, -32.875]</td>\n",
       "      <td>(5161.975, 5228.1]</td>\n",
       "      <td>(34.0, 44.0]</td>\n",
       "      <td>(126.0, 258.0]</td>\n",
       "      <td>(4.021, 4.958]</td>\n",
       "    </tr>\n",
       "    <tr>\n",
       "      <th>4</th>\n",
       "      <td>2</td>\n",
       "      <td>2</td>\n",
       "      <td>1</td>\n",
       "      <td>2</td>\n",
       "      <td>0</td>\n",
       "      <td>1.0</td>\n",
       "      <td>2.0</td>\n",
       "      <td>1.0</td>\n",
       "      <td>1.0</td>\n",
       "      <td>3.0</td>\n",
       "      <td>0</td>\n",
       "      <td>(28.0, 35.0]</td>\n",
       "      <td>(93.484, 94.126]</td>\n",
       "      <td>(-38.85, -32.875]</td>\n",
       "      <td>(5161.975, 5228.1]</td>\n",
       "      <td>(44.0, 98.0]</td>\n",
       "      <td>(258.0, 4918.0]</td>\n",
       "      <td>(4.021, 4.958]</td>\n",
       "    </tr>\n",
       "  </tbody>\n",
       "</table>\n",
       "</div>"
      ],
      "text/plain": [
       "   age  duration  campaign  pdays  previous  emp.var.rate  cons.price.idx  \\\n",
       "0    2         2         1      2         0           1.0             2.0   \n",
       "1    2         1         1      2         0           1.0             2.0   \n",
       "2    1         1         1      2         0           1.0             2.0   \n",
       "3    1         1         1      2         0           1.0             2.0   \n",
       "4    2         2         1      2         0           1.0             2.0   \n",
       "\n",
       "   cons.conf.idx  euribor3m  nr.employed  outcome    pdays_band  \\\n",
       "0            1.0        1.0          3.0        0  (28.0, 35.0]   \n",
       "1            1.0        1.0          3.0        0  (28.0, 35.0]   \n",
       "2            1.0        1.0          3.0        0  (28.0, 35.0]   \n",
       "3            1.0        1.0          3.0        0  (28.0, 35.0]   \n",
       "4            1.0        1.0          3.0        0  (28.0, 35.0]   \n",
       "\n",
       "  cons.price.idx_band cons.conf.idx_band    nr.employed_band      age_band  \\\n",
       "0    (93.484, 94.126]  (-38.85, -32.875]  (5161.975, 5228.1]  (44.0, 98.0]   \n",
       "1    (93.484, 94.126]  (-38.85, -32.875]  (5161.975, 5228.1]  (44.0, 98.0]   \n",
       "2    (93.484, 94.126]  (-38.85, -32.875]  (5161.975, 5228.1]  (34.0, 44.0]   \n",
       "3    (93.484, 94.126]  (-38.85, -32.875]  (5161.975, 5228.1]  (34.0, 44.0]   \n",
       "4    (93.484, 94.126]  (-38.85, -32.875]  (5161.975, 5228.1]  (44.0, 98.0]   \n",
       "\n",
       "     duration_band  euribor3m_band  \n",
       "0  (258.0, 4918.0]  (4.021, 4.958]  \n",
       "1   (126.0, 258.0]  (4.021, 4.958]  \n",
       "2   (126.0, 258.0]  (4.021, 4.958]  \n",
       "3   (126.0, 258.0]  (4.021, 4.958]  \n",
       "4  (258.0, 4918.0]  (4.021, 4.958]  "
      ]
     },
     "execution_count": 90,
     "metadata": {},
     "output_type": "execute_result"
    }
   ],
   "source": [
    "data_num.head()"
   ]
  },
  {
   "cell_type": "code",
   "execution_count": 91,
   "metadata": {},
   "outputs": [],
   "source": [
    "listRemove = data_num.columns.tolist()[-7:]"
   ]
  },
  {
   "cell_type": "code",
   "execution_count": 92,
   "metadata": {},
   "outputs": [
    {
     "data": {
      "text/plain": [
       "['pdays_band',\n",
       " 'cons.price.idx_band',\n",
       " 'cons.conf.idx_band',\n",
       " 'nr.employed_band',\n",
       " 'age_band',\n",
       " 'duration_band',\n",
       " 'euribor3m_band']"
      ]
     },
     "execution_count": 92,
     "metadata": {},
     "output_type": "execute_result"
    }
   ],
   "source": [
    "listRemove"
   ]
  },
  {
   "cell_type": "code",
   "execution_count": 93,
   "metadata": {},
   "outputs": [],
   "source": [
    "data_num1 = data_num.drop(listRemove, axis = 1)"
   ]
  },
  {
   "cell_type": "code",
   "execution_count": 94,
   "metadata": {},
   "outputs": [
    {
     "data": {
      "text/html": [
       "<div>\n",
       "<style scoped>\n",
       "    .dataframe tbody tr th:only-of-type {\n",
       "        vertical-align: middle;\n",
       "    }\n",
       "\n",
       "    .dataframe tbody tr th {\n",
       "        vertical-align: top;\n",
       "    }\n",
       "\n",
       "    .dataframe thead th {\n",
       "        text-align: right;\n",
       "    }\n",
       "</style>\n",
       "<table border=\"1\" class=\"dataframe\">\n",
       "  <thead>\n",
       "    <tr style=\"text-align: right;\">\n",
       "      <th></th>\n",
       "      <th>age</th>\n",
       "      <th>duration</th>\n",
       "      <th>campaign</th>\n",
       "      <th>pdays</th>\n",
       "      <th>previous</th>\n",
       "      <th>emp.var.rate</th>\n",
       "      <th>cons.price.idx</th>\n",
       "      <th>cons.conf.idx</th>\n",
       "      <th>euribor3m</th>\n",
       "      <th>nr.employed</th>\n",
       "      <th>outcome</th>\n",
       "    </tr>\n",
       "  </thead>\n",
       "  <tbody>\n",
       "    <tr>\n",
       "      <th>0</th>\n",
       "      <td>2</td>\n",
       "      <td>2</td>\n",
       "      <td>1</td>\n",
       "      <td>2</td>\n",
       "      <td>0</td>\n",
       "      <td>1.0</td>\n",
       "      <td>2.0</td>\n",
       "      <td>1.0</td>\n",
       "      <td>1.0</td>\n",
       "      <td>3.0</td>\n",
       "      <td>0</td>\n",
       "    </tr>\n",
       "    <tr>\n",
       "      <th>1</th>\n",
       "      <td>2</td>\n",
       "      <td>1</td>\n",
       "      <td>1</td>\n",
       "      <td>2</td>\n",
       "      <td>0</td>\n",
       "      <td>1.0</td>\n",
       "      <td>2.0</td>\n",
       "      <td>1.0</td>\n",
       "      <td>1.0</td>\n",
       "      <td>3.0</td>\n",
       "      <td>0</td>\n",
       "    </tr>\n",
       "    <tr>\n",
       "      <th>2</th>\n",
       "      <td>1</td>\n",
       "      <td>1</td>\n",
       "      <td>1</td>\n",
       "      <td>2</td>\n",
       "      <td>0</td>\n",
       "      <td>1.0</td>\n",
       "      <td>2.0</td>\n",
       "      <td>1.0</td>\n",
       "      <td>1.0</td>\n",
       "      <td>3.0</td>\n",
       "      <td>0</td>\n",
       "    </tr>\n",
       "    <tr>\n",
       "      <th>3</th>\n",
       "      <td>1</td>\n",
       "      <td>1</td>\n",
       "      <td>1</td>\n",
       "      <td>2</td>\n",
       "      <td>0</td>\n",
       "      <td>1.0</td>\n",
       "      <td>2.0</td>\n",
       "      <td>1.0</td>\n",
       "      <td>1.0</td>\n",
       "      <td>3.0</td>\n",
       "      <td>0</td>\n",
       "    </tr>\n",
       "    <tr>\n",
       "      <th>4</th>\n",
       "      <td>2</td>\n",
       "      <td>2</td>\n",
       "      <td>1</td>\n",
       "      <td>2</td>\n",
       "      <td>0</td>\n",
       "      <td>1.0</td>\n",
       "      <td>2.0</td>\n",
       "      <td>1.0</td>\n",
       "      <td>1.0</td>\n",
       "      <td>3.0</td>\n",
       "      <td>0</td>\n",
       "    </tr>\n",
       "  </tbody>\n",
       "</table>\n",
       "</div>"
      ],
      "text/plain": [
       "   age  duration  campaign  pdays  previous  emp.var.rate  cons.price.idx  \\\n",
       "0    2         2         1      2         0           1.0             2.0   \n",
       "1    2         1         1      2         0           1.0             2.0   \n",
       "2    1         1         1      2         0           1.0             2.0   \n",
       "3    1         1         1      2         0           1.0             2.0   \n",
       "4    2         2         1      2         0           1.0             2.0   \n",
       "\n",
       "   cons.conf.idx  euribor3m  nr.employed  outcome  \n",
       "0            1.0        1.0          3.0        0  \n",
       "1            1.0        1.0          3.0        0  \n",
       "2            1.0        1.0          3.0        0  \n",
       "3            1.0        1.0          3.0        0  \n",
       "4            1.0        1.0          3.0        0  "
      ]
     },
     "execution_count": 94,
     "metadata": {},
     "output_type": "execute_result"
    }
   ],
   "source": [
    "data_num1.head()"
   ]
  },
  {
   "cell_type": "code",
   "execution_count": 138,
   "metadata": {},
   "outputs": [
    {
     "data": {
      "text/plain": [
       "Index(['age', 'duration', 'campaign', 'pdays', 'previous', 'emp.var.rate',\n",
       "       'cons.price.idx', 'cons.conf.idx', 'euribor3m', 'nr.employed',\n",
       "       'outcome'],\n",
       "      dtype='object')"
      ]
     },
     "execution_count": 138,
     "metadata": {},
     "output_type": "execute_result"
    }
   ],
   "source": [
    "data_num1.columns"
   ]
  },
  {
   "cell_type": "code",
   "execution_count": 139,
   "metadata": {},
   "outputs": [],
   "source": [
    "data_num_scaled = bank.loc[:,['age', 'duration', 'campaign', 'pdays', 'previous', 'emp.var.rate',\n",
    "       'cons.price.idx', 'cons.conf.idx', 'euribor3m', 'nr.employed']]"
   ]
  },
  {
   "cell_type": "code",
   "execution_count": 140,
   "metadata": {},
   "outputs": [],
   "source": [
    "from sklearn import preprocessing\n",
    "scaler = preprocessing.StandardScaler().fit(data_num_scaled)\n",
    "abc = scaler.transform(data_num_scaled)\n",
    "Numeric_Scaled = pd.DataFrame(abc, columns=data_num_scaled.columns.tolist())"
   ]
  },
  {
   "cell_type": "code",
   "execution_count": 95,
   "metadata": {},
   "outputs": [
    {
     "data": {
      "text/html": [
       "<div>\n",
       "<style scoped>\n",
       "    .dataframe tbody tr th:only-of-type {\n",
       "        vertical-align: middle;\n",
       "    }\n",
       "\n",
       "    .dataframe tbody tr th {\n",
       "        vertical-align: top;\n",
       "    }\n",
       "\n",
       "    .dataframe thead th {\n",
       "        text-align: right;\n",
       "    }\n",
       "</style>\n",
       "<table border=\"1\" class=\"dataframe\">\n",
       "  <thead>\n",
       "    <tr style=\"text-align: right;\">\n",
       "      <th></th>\n",
       "      <th>job</th>\n",
       "      <th>marital</th>\n",
       "      <th>education</th>\n",
       "      <th>default</th>\n",
       "      <th>housing</th>\n",
       "      <th>loan</th>\n",
       "      <th>contact</th>\n",
       "      <th>month</th>\n",
       "      <th>day_of_week</th>\n",
       "      <th>poutcome</th>\n",
       "      <th>outcome</th>\n",
       "    </tr>\n",
       "  </thead>\n",
       "  <tbody>\n",
       "    <tr>\n",
       "      <th>0</th>\n",
       "      <td>housemaid</td>\n",
       "      <td>married</td>\n",
       "      <td>basic.4y</td>\n",
       "      <td>no</td>\n",
       "      <td>no</td>\n",
       "      <td>no</td>\n",
       "      <td>telephone</td>\n",
       "      <td>may</td>\n",
       "      <td>mon</td>\n",
       "      <td>nonexistent</td>\n",
       "      <td>0</td>\n",
       "    </tr>\n",
       "    <tr>\n",
       "      <th>1</th>\n",
       "      <td>services</td>\n",
       "      <td>married</td>\n",
       "      <td>high.school</td>\n",
       "      <td>unknown</td>\n",
       "      <td>no</td>\n",
       "      <td>no</td>\n",
       "      <td>telephone</td>\n",
       "      <td>may</td>\n",
       "      <td>mon</td>\n",
       "      <td>nonexistent</td>\n",
       "      <td>0</td>\n",
       "    </tr>\n",
       "    <tr>\n",
       "      <th>2</th>\n",
       "      <td>services</td>\n",
       "      <td>married</td>\n",
       "      <td>high.school</td>\n",
       "      <td>no</td>\n",
       "      <td>yes</td>\n",
       "      <td>no</td>\n",
       "      <td>telephone</td>\n",
       "      <td>may</td>\n",
       "      <td>mon</td>\n",
       "      <td>nonexistent</td>\n",
       "      <td>0</td>\n",
       "    </tr>\n",
       "    <tr>\n",
       "      <th>3</th>\n",
       "      <td>admin.</td>\n",
       "      <td>married</td>\n",
       "      <td>basic.6y</td>\n",
       "      <td>no</td>\n",
       "      <td>no</td>\n",
       "      <td>no</td>\n",
       "      <td>telephone</td>\n",
       "      <td>may</td>\n",
       "      <td>mon</td>\n",
       "      <td>nonexistent</td>\n",
       "      <td>0</td>\n",
       "    </tr>\n",
       "    <tr>\n",
       "      <th>4</th>\n",
       "      <td>services</td>\n",
       "      <td>married</td>\n",
       "      <td>high.school</td>\n",
       "      <td>no</td>\n",
       "      <td>no</td>\n",
       "      <td>yes</td>\n",
       "      <td>telephone</td>\n",
       "      <td>may</td>\n",
       "      <td>mon</td>\n",
       "      <td>nonexistent</td>\n",
       "      <td>0</td>\n",
       "    </tr>\n",
       "  </tbody>\n",
       "</table>\n",
       "</div>"
      ],
      "text/plain": [
       "         job  marital    education  default housing loan    contact month  \\\n",
       "0  housemaid  married     basic.4y       no      no   no  telephone   may   \n",
       "1   services  married  high.school  unknown      no   no  telephone   may   \n",
       "2   services  married  high.school       no     yes   no  telephone   may   \n",
       "3     admin.  married     basic.6y       no      no   no  telephone   may   \n",
       "4   services  married  high.school       no      no  yes  telephone   may   \n",
       "\n",
       "  day_of_week     poutcome  outcome  \n",
       "0         mon  nonexistent        0  \n",
       "1         mon  nonexistent        0  \n",
       "2         mon  nonexistent        0  \n",
       "3         mon  nonexistent        0  \n",
       "4         mon  nonexistent        0  "
      ]
     },
     "execution_count": 95,
     "metadata": {},
     "output_type": "execute_result"
    }
   ],
   "source": [
    "data_cat.head()"
   ]
  },
  {
   "cell_type": "code",
   "execution_count": 96,
   "metadata": {},
   "outputs": [],
   "source": [
    "data_cat1 = data_cat.drop(['outcome'], axis = 1)"
   ]
  },
  {
   "cell_type": "code",
   "execution_count": 97,
   "metadata": {},
   "outputs": [],
   "source": [
    "data_cat1 = pd.get_dummies(data=data_cat1, columns=catCols, drop_first=True)"
   ]
  },
  {
   "cell_type": "code",
   "execution_count": 98,
   "metadata": {},
   "outputs": [
    {
     "data": {
      "text/html": [
       "<div>\n",
       "<style scoped>\n",
       "    .dataframe tbody tr th:only-of-type {\n",
       "        vertical-align: middle;\n",
       "    }\n",
       "\n",
       "    .dataframe tbody tr th {\n",
       "        vertical-align: top;\n",
       "    }\n",
       "\n",
       "    .dataframe thead th {\n",
       "        text-align: right;\n",
       "    }\n",
       "</style>\n",
       "<table border=\"1\" class=\"dataframe\">\n",
       "  <thead>\n",
       "    <tr style=\"text-align: right;\">\n",
       "      <th></th>\n",
       "      <th>job_blue-collar</th>\n",
       "      <th>job_entrepreneur</th>\n",
       "      <th>job_housemaid</th>\n",
       "      <th>job_management</th>\n",
       "      <th>job_retired</th>\n",
       "      <th>job_self-employed</th>\n",
       "      <th>job_services</th>\n",
       "      <th>job_student</th>\n",
       "      <th>job_technician</th>\n",
       "      <th>job_unemployed</th>\n",
       "      <th>...</th>\n",
       "      <th>month_may</th>\n",
       "      <th>month_nov</th>\n",
       "      <th>month_oct</th>\n",
       "      <th>month_sep</th>\n",
       "      <th>day_of_week_mon</th>\n",
       "      <th>day_of_week_thu</th>\n",
       "      <th>day_of_week_tue</th>\n",
       "      <th>day_of_week_wed</th>\n",
       "      <th>poutcome_nonexistent</th>\n",
       "      <th>poutcome_success</th>\n",
       "    </tr>\n",
       "  </thead>\n",
       "  <tbody>\n",
       "    <tr>\n",
       "      <th>0</th>\n",
       "      <td>0</td>\n",
       "      <td>0</td>\n",
       "      <td>1</td>\n",
       "      <td>0</td>\n",
       "      <td>0</td>\n",
       "      <td>0</td>\n",
       "      <td>0</td>\n",
       "      <td>0</td>\n",
       "      <td>0</td>\n",
       "      <td>0</td>\n",
       "      <td>...</td>\n",
       "      <td>1</td>\n",
       "      <td>0</td>\n",
       "      <td>0</td>\n",
       "      <td>0</td>\n",
       "      <td>1</td>\n",
       "      <td>0</td>\n",
       "      <td>0</td>\n",
       "      <td>0</td>\n",
       "      <td>1</td>\n",
       "      <td>0</td>\n",
       "    </tr>\n",
       "    <tr>\n",
       "      <th>1</th>\n",
       "      <td>0</td>\n",
       "      <td>0</td>\n",
       "      <td>0</td>\n",
       "      <td>0</td>\n",
       "      <td>0</td>\n",
       "      <td>0</td>\n",
       "      <td>1</td>\n",
       "      <td>0</td>\n",
       "      <td>0</td>\n",
       "      <td>0</td>\n",
       "      <td>...</td>\n",
       "      <td>1</td>\n",
       "      <td>0</td>\n",
       "      <td>0</td>\n",
       "      <td>0</td>\n",
       "      <td>1</td>\n",
       "      <td>0</td>\n",
       "      <td>0</td>\n",
       "      <td>0</td>\n",
       "      <td>1</td>\n",
       "      <td>0</td>\n",
       "    </tr>\n",
       "    <tr>\n",
       "      <th>2</th>\n",
       "      <td>0</td>\n",
       "      <td>0</td>\n",
       "      <td>0</td>\n",
       "      <td>0</td>\n",
       "      <td>0</td>\n",
       "      <td>0</td>\n",
       "      <td>1</td>\n",
       "      <td>0</td>\n",
       "      <td>0</td>\n",
       "      <td>0</td>\n",
       "      <td>...</td>\n",
       "      <td>1</td>\n",
       "      <td>0</td>\n",
       "      <td>0</td>\n",
       "      <td>0</td>\n",
       "      <td>1</td>\n",
       "      <td>0</td>\n",
       "      <td>0</td>\n",
       "      <td>0</td>\n",
       "      <td>1</td>\n",
       "      <td>0</td>\n",
       "    </tr>\n",
       "    <tr>\n",
       "      <th>3</th>\n",
       "      <td>0</td>\n",
       "      <td>0</td>\n",
       "      <td>0</td>\n",
       "      <td>0</td>\n",
       "      <td>0</td>\n",
       "      <td>0</td>\n",
       "      <td>0</td>\n",
       "      <td>0</td>\n",
       "      <td>0</td>\n",
       "      <td>0</td>\n",
       "      <td>...</td>\n",
       "      <td>1</td>\n",
       "      <td>0</td>\n",
       "      <td>0</td>\n",
       "      <td>0</td>\n",
       "      <td>1</td>\n",
       "      <td>0</td>\n",
       "      <td>0</td>\n",
       "      <td>0</td>\n",
       "      <td>1</td>\n",
       "      <td>0</td>\n",
       "    </tr>\n",
       "    <tr>\n",
       "      <th>4</th>\n",
       "      <td>0</td>\n",
       "      <td>0</td>\n",
       "      <td>0</td>\n",
       "      <td>0</td>\n",
       "      <td>0</td>\n",
       "      <td>0</td>\n",
       "      <td>1</td>\n",
       "      <td>0</td>\n",
       "      <td>0</td>\n",
       "      <td>0</td>\n",
       "      <td>...</td>\n",
       "      <td>1</td>\n",
       "      <td>0</td>\n",
       "      <td>0</td>\n",
       "      <td>0</td>\n",
       "      <td>1</td>\n",
       "      <td>0</td>\n",
       "      <td>0</td>\n",
       "      <td>0</td>\n",
       "      <td>1</td>\n",
       "      <td>0</td>\n",
       "    </tr>\n",
       "  </tbody>\n",
       "</table>\n",
       "<p>5 rows × 42 columns</p>\n",
       "</div>"
      ],
      "text/plain": [
       "   job_blue-collar  job_entrepreneur  job_housemaid  job_management  \\\n",
       "0                0                 0              1               0   \n",
       "1                0                 0              0               0   \n",
       "2                0                 0              0               0   \n",
       "3                0                 0              0               0   \n",
       "4                0                 0              0               0   \n",
       "\n",
       "   job_retired  job_self-employed  job_services  job_student  job_technician  \\\n",
       "0            0                  0             0            0               0   \n",
       "1            0                  0             1            0               0   \n",
       "2            0                  0             1            0               0   \n",
       "3            0                  0             0            0               0   \n",
       "4            0                  0             1            0               0   \n",
       "\n",
       "   job_unemployed  ...  month_may  month_nov  month_oct  month_sep  \\\n",
       "0               0  ...          1          0          0          0   \n",
       "1               0  ...          1          0          0          0   \n",
       "2               0  ...          1          0          0          0   \n",
       "3               0  ...          1          0          0          0   \n",
       "4               0  ...          1          0          0          0   \n",
       "\n",
       "   day_of_week_mon  day_of_week_thu  day_of_week_tue  day_of_week_wed  \\\n",
       "0                1                0                0                0   \n",
       "1                1                0                0                0   \n",
       "2                1                0                0                0   \n",
       "3                1                0                0                0   \n",
       "4                1                0                0                0   \n",
       "\n",
       "   poutcome_nonexistent  poutcome_success  \n",
       "0                     1                 0  \n",
       "1                     1                 0  \n",
       "2                     1                 0  \n",
       "3                     1                 0  \n",
       "4                     1                 0  \n",
       "\n",
       "[5 rows x 42 columns]"
      ]
     },
     "execution_count": 98,
     "metadata": {},
     "output_type": "execute_result"
    }
   ],
   "source": [
    "data_cat1.head()"
   ]
  },
  {
   "cell_type": "code",
   "execution_count": 99,
   "metadata": {},
   "outputs": [
    {
     "data": {
      "text/html": [
       "<div>\n",
       "<style scoped>\n",
       "    .dataframe tbody tr th:only-of-type {\n",
       "        vertical-align: middle;\n",
       "    }\n",
       "\n",
       "    .dataframe tbody tr th {\n",
       "        vertical-align: top;\n",
       "    }\n",
       "\n",
       "    .dataframe thead th {\n",
       "        text-align: right;\n",
       "    }\n",
       "</style>\n",
       "<table border=\"1\" class=\"dataframe\">\n",
       "  <thead>\n",
       "    <tr style=\"text-align: right;\">\n",
       "      <th></th>\n",
       "      <th>job_blue-collar</th>\n",
       "      <th>job_entrepreneur</th>\n",
       "      <th>job_housemaid</th>\n",
       "      <th>job_management</th>\n",
       "      <th>job_retired</th>\n",
       "      <th>job_self-employed</th>\n",
       "      <th>job_services</th>\n",
       "      <th>job_student</th>\n",
       "      <th>job_technician</th>\n",
       "      <th>job_unemployed</th>\n",
       "      <th>...</th>\n",
       "      <th>duration</th>\n",
       "      <th>campaign</th>\n",
       "      <th>pdays</th>\n",
       "      <th>previous</th>\n",
       "      <th>emp.var.rate</th>\n",
       "      <th>cons.price.idx</th>\n",
       "      <th>cons.conf.idx</th>\n",
       "      <th>euribor3m</th>\n",
       "      <th>nr.employed</th>\n",
       "      <th>outcome</th>\n",
       "    </tr>\n",
       "  </thead>\n",
       "  <tbody>\n",
       "    <tr>\n",
       "      <th>0</th>\n",
       "      <td>0</td>\n",
       "      <td>0</td>\n",
       "      <td>1</td>\n",
       "      <td>0</td>\n",
       "      <td>0</td>\n",
       "      <td>0</td>\n",
       "      <td>0</td>\n",
       "      <td>0</td>\n",
       "      <td>0</td>\n",
       "      <td>0</td>\n",
       "      <td>...</td>\n",
       "      <td>2</td>\n",
       "      <td>1</td>\n",
       "      <td>2</td>\n",
       "      <td>0</td>\n",
       "      <td>1.0</td>\n",
       "      <td>2.0</td>\n",
       "      <td>1.0</td>\n",
       "      <td>1.0</td>\n",
       "      <td>3.0</td>\n",
       "      <td>0</td>\n",
       "    </tr>\n",
       "    <tr>\n",
       "      <th>1</th>\n",
       "      <td>0</td>\n",
       "      <td>0</td>\n",
       "      <td>0</td>\n",
       "      <td>0</td>\n",
       "      <td>0</td>\n",
       "      <td>0</td>\n",
       "      <td>1</td>\n",
       "      <td>0</td>\n",
       "      <td>0</td>\n",
       "      <td>0</td>\n",
       "      <td>...</td>\n",
       "      <td>1</td>\n",
       "      <td>1</td>\n",
       "      <td>2</td>\n",
       "      <td>0</td>\n",
       "      <td>1.0</td>\n",
       "      <td>2.0</td>\n",
       "      <td>1.0</td>\n",
       "      <td>1.0</td>\n",
       "      <td>3.0</td>\n",
       "      <td>0</td>\n",
       "    </tr>\n",
       "    <tr>\n",
       "      <th>2</th>\n",
       "      <td>0</td>\n",
       "      <td>0</td>\n",
       "      <td>0</td>\n",
       "      <td>0</td>\n",
       "      <td>0</td>\n",
       "      <td>0</td>\n",
       "      <td>1</td>\n",
       "      <td>0</td>\n",
       "      <td>0</td>\n",
       "      <td>0</td>\n",
       "      <td>...</td>\n",
       "      <td>1</td>\n",
       "      <td>1</td>\n",
       "      <td>2</td>\n",
       "      <td>0</td>\n",
       "      <td>1.0</td>\n",
       "      <td>2.0</td>\n",
       "      <td>1.0</td>\n",
       "      <td>1.0</td>\n",
       "      <td>3.0</td>\n",
       "      <td>0</td>\n",
       "    </tr>\n",
       "    <tr>\n",
       "      <th>3</th>\n",
       "      <td>0</td>\n",
       "      <td>0</td>\n",
       "      <td>0</td>\n",
       "      <td>0</td>\n",
       "      <td>0</td>\n",
       "      <td>0</td>\n",
       "      <td>0</td>\n",
       "      <td>0</td>\n",
       "      <td>0</td>\n",
       "      <td>0</td>\n",
       "      <td>...</td>\n",
       "      <td>1</td>\n",
       "      <td>1</td>\n",
       "      <td>2</td>\n",
       "      <td>0</td>\n",
       "      <td>1.0</td>\n",
       "      <td>2.0</td>\n",
       "      <td>1.0</td>\n",
       "      <td>1.0</td>\n",
       "      <td>3.0</td>\n",
       "      <td>0</td>\n",
       "    </tr>\n",
       "    <tr>\n",
       "      <th>4</th>\n",
       "      <td>0</td>\n",
       "      <td>0</td>\n",
       "      <td>0</td>\n",
       "      <td>0</td>\n",
       "      <td>0</td>\n",
       "      <td>0</td>\n",
       "      <td>1</td>\n",
       "      <td>0</td>\n",
       "      <td>0</td>\n",
       "      <td>0</td>\n",
       "      <td>...</td>\n",
       "      <td>2</td>\n",
       "      <td>1</td>\n",
       "      <td>2</td>\n",
       "      <td>0</td>\n",
       "      <td>1.0</td>\n",
       "      <td>2.0</td>\n",
       "      <td>1.0</td>\n",
       "      <td>1.0</td>\n",
       "      <td>3.0</td>\n",
       "      <td>0</td>\n",
       "    </tr>\n",
       "  </tbody>\n",
       "</table>\n",
       "<p>5 rows × 53 columns</p>\n",
       "</div>"
      ],
      "text/plain": [
       "   job_blue-collar  job_entrepreneur  job_housemaid  job_management  \\\n",
       "0                0                 0              1               0   \n",
       "1                0                 0              0               0   \n",
       "2                0                 0              0               0   \n",
       "3                0                 0              0               0   \n",
       "4                0                 0              0               0   \n",
       "\n",
       "   job_retired  job_self-employed  job_services  job_student  job_technician  \\\n",
       "0            0                  0             0            0               0   \n",
       "1            0                  0             1            0               0   \n",
       "2            0                  0             1            0               0   \n",
       "3            0                  0             0            0               0   \n",
       "4            0                  0             1            0               0   \n",
       "\n",
       "   job_unemployed  ...  duration  campaign  pdays  previous  emp.var.rate  \\\n",
       "0               0  ...         2         1      2         0           1.0   \n",
       "1               0  ...         1         1      2         0           1.0   \n",
       "2               0  ...         1         1      2         0           1.0   \n",
       "3               0  ...         1         1      2         0           1.0   \n",
       "4               0  ...         2         1      2         0           1.0   \n",
       "\n",
       "   cons.price.idx  cons.conf.idx  euribor3m  nr.employed  outcome  \n",
       "0             2.0            1.0        1.0          3.0        0  \n",
       "1             2.0            1.0        1.0          3.0        0  \n",
       "2             2.0            1.0        1.0          3.0        0  \n",
       "3             2.0            1.0        1.0          3.0        0  \n",
       "4             2.0            1.0        1.0          3.0        0  \n",
       "\n",
       "[5 rows x 53 columns]"
      ]
     },
     "execution_count": 99,
     "metadata": {},
     "output_type": "execute_result"
    }
   ],
   "source": [
    "data = pd.concat([data_cat1, data_num1], axis = 1)\n",
    "data.head()"
   ]
  },
  {
   "cell_type": "code",
   "execution_count": 141,
   "metadata": {},
   "outputs": [],
   "source": [
    "data2 = pd.concat([data_cat1, Numeric_Scaled], axis = 1)"
   ]
  },
  {
   "cell_type": "code",
   "execution_count": 143,
   "metadata": {},
   "outputs": [],
   "source": [
    "data2['outcome'] = bank['outcome']"
   ]
  },
  {
   "cell_type": "code",
   "execution_count": 144,
   "metadata": {},
   "outputs": [
    {
     "data": {
      "text/html": [
       "<div>\n",
       "<style scoped>\n",
       "    .dataframe tbody tr th:only-of-type {\n",
       "        vertical-align: middle;\n",
       "    }\n",
       "\n",
       "    .dataframe tbody tr th {\n",
       "        vertical-align: top;\n",
       "    }\n",
       "\n",
       "    .dataframe thead th {\n",
       "        text-align: right;\n",
       "    }\n",
       "</style>\n",
       "<table border=\"1\" class=\"dataframe\">\n",
       "  <thead>\n",
       "    <tr style=\"text-align: right;\">\n",
       "      <th></th>\n",
       "      <th>job_blue-collar</th>\n",
       "      <th>job_entrepreneur</th>\n",
       "      <th>job_housemaid</th>\n",
       "      <th>job_management</th>\n",
       "      <th>job_retired</th>\n",
       "      <th>job_self-employed</th>\n",
       "      <th>job_services</th>\n",
       "      <th>job_student</th>\n",
       "      <th>job_technician</th>\n",
       "      <th>job_unemployed</th>\n",
       "      <th>...</th>\n",
       "      <th>duration</th>\n",
       "      <th>campaign</th>\n",
       "      <th>pdays</th>\n",
       "      <th>previous</th>\n",
       "      <th>emp.var.rate</th>\n",
       "      <th>cons.price.idx</th>\n",
       "      <th>cons.conf.idx</th>\n",
       "      <th>euribor3m</th>\n",
       "      <th>nr.employed</th>\n",
       "      <th>outcome</th>\n",
       "    </tr>\n",
       "  </thead>\n",
       "  <tbody>\n",
       "    <tr>\n",
       "      <th>0</th>\n",
       "      <td>0</td>\n",
       "      <td>0</td>\n",
       "      <td>1</td>\n",
       "      <td>0</td>\n",
       "      <td>0</td>\n",
       "      <td>0</td>\n",
       "      <td>0</td>\n",
       "      <td>0</td>\n",
       "      <td>0</td>\n",
       "      <td>0</td>\n",
       "      <td>...</td>\n",
       "      <td>0.010471</td>\n",
       "      <td>-0.565922</td>\n",
       "      <td>0.195414</td>\n",
       "      <td>-0.349494</td>\n",
       "      <td>0.648092</td>\n",
       "      <td>0.722722</td>\n",
       "      <td>0.886447</td>\n",
       "      <td>0.71246</td>\n",
       "      <td>0.33168</td>\n",
       "      <td>0</td>\n",
       "    </tr>\n",
       "    <tr>\n",
       "      <th>1</th>\n",
       "      <td>0</td>\n",
       "      <td>0</td>\n",
       "      <td>0</td>\n",
       "      <td>0</td>\n",
       "      <td>0</td>\n",
       "      <td>0</td>\n",
       "      <td>1</td>\n",
       "      <td>0</td>\n",
       "      <td>0</td>\n",
       "      <td>0</td>\n",
       "      <td>...</td>\n",
       "      <td>-0.421501</td>\n",
       "      <td>-0.565922</td>\n",
       "      <td>0.195414</td>\n",
       "      <td>-0.349494</td>\n",
       "      <td>0.648092</td>\n",
       "      <td>0.722722</td>\n",
       "      <td>0.886447</td>\n",
       "      <td>0.71246</td>\n",
       "      <td>0.33168</td>\n",
       "      <td>0</td>\n",
       "    </tr>\n",
       "    <tr>\n",
       "      <th>2</th>\n",
       "      <td>0</td>\n",
       "      <td>0</td>\n",
       "      <td>0</td>\n",
       "      <td>0</td>\n",
       "      <td>0</td>\n",
       "      <td>0</td>\n",
       "      <td>1</td>\n",
       "      <td>0</td>\n",
       "      <td>0</td>\n",
       "      <td>0</td>\n",
       "      <td>...</td>\n",
       "      <td>-0.124520</td>\n",
       "      <td>-0.565922</td>\n",
       "      <td>0.195414</td>\n",
       "      <td>-0.349494</td>\n",
       "      <td>0.648092</td>\n",
       "      <td>0.722722</td>\n",
       "      <td>0.886447</td>\n",
       "      <td>0.71246</td>\n",
       "      <td>0.33168</td>\n",
       "      <td>0</td>\n",
       "    </tr>\n",
       "    <tr>\n",
       "      <th>3</th>\n",
       "      <td>0</td>\n",
       "      <td>0</td>\n",
       "      <td>0</td>\n",
       "      <td>0</td>\n",
       "      <td>0</td>\n",
       "      <td>0</td>\n",
       "      <td>0</td>\n",
       "      <td>0</td>\n",
       "      <td>0</td>\n",
       "      <td>0</td>\n",
       "      <td>...</td>\n",
       "      <td>-0.413787</td>\n",
       "      <td>-0.565922</td>\n",
       "      <td>0.195414</td>\n",
       "      <td>-0.349494</td>\n",
       "      <td>0.648092</td>\n",
       "      <td>0.722722</td>\n",
       "      <td>0.886447</td>\n",
       "      <td>0.71246</td>\n",
       "      <td>0.33168</td>\n",
       "      <td>0</td>\n",
       "    </tr>\n",
       "    <tr>\n",
       "      <th>4</th>\n",
       "      <td>0</td>\n",
       "      <td>0</td>\n",
       "      <td>0</td>\n",
       "      <td>0</td>\n",
       "      <td>0</td>\n",
       "      <td>0</td>\n",
       "      <td>1</td>\n",
       "      <td>0</td>\n",
       "      <td>0</td>\n",
       "      <td>0</td>\n",
       "      <td>...</td>\n",
       "      <td>0.187888</td>\n",
       "      <td>-0.565922</td>\n",
       "      <td>0.195414</td>\n",
       "      <td>-0.349494</td>\n",
       "      <td>0.648092</td>\n",
       "      <td>0.722722</td>\n",
       "      <td>0.886447</td>\n",
       "      <td>0.71246</td>\n",
       "      <td>0.33168</td>\n",
       "      <td>0</td>\n",
       "    </tr>\n",
       "  </tbody>\n",
       "</table>\n",
       "<p>5 rows × 53 columns</p>\n",
       "</div>"
      ],
      "text/plain": [
       "   job_blue-collar  job_entrepreneur  job_housemaid  job_management  \\\n",
       "0                0                 0              1               0   \n",
       "1                0                 0              0               0   \n",
       "2                0                 0              0               0   \n",
       "3                0                 0              0               0   \n",
       "4                0                 0              0               0   \n",
       "\n",
       "   job_retired  job_self-employed  job_services  job_student  job_technician  \\\n",
       "0            0                  0             0            0               0   \n",
       "1            0                  0             1            0               0   \n",
       "2            0                  0             1            0               0   \n",
       "3            0                  0             0            0               0   \n",
       "4            0                  0             1            0               0   \n",
       "\n",
       "   job_unemployed  ...  duration  campaign     pdays  previous  emp.var.rate  \\\n",
       "0               0  ...  0.010471 -0.565922  0.195414 -0.349494      0.648092   \n",
       "1               0  ... -0.421501 -0.565922  0.195414 -0.349494      0.648092   \n",
       "2               0  ... -0.124520 -0.565922  0.195414 -0.349494      0.648092   \n",
       "3               0  ... -0.413787 -0.565922  0.195414 -0.349494      0.648092   \n",
       "4               0  ...  0.187888 -0.565922  0.195414 -0.349494      0.648092   \n",
       "\n",
       "   cons.price.idx  cons.conf.idx  euribor3m  nr.employed  outcome  \n",
       "0        0.722722       0.886447    0.71246      0.33168        0  \n",
       "1        0.722722       0.886447    0.71246      0.33168        0  \n",
       "2        0.722722       0.886447    0.71246      0.33168        0  \n",
       "3        0.722722       0.886447    0.71246      0.33168        0  \n",
       "4        0.722722       0.886447    0.71246      0.33168        0  \n",
       "\n",
       "[5 rows x 53 columns]"
      ]
     },
     "execution_count": 144,
     "metadata": {},
     "output_type": "execute_result"
    }
   ],
   "source": [
    "data2.head()"
   ]
  },
  {
   "cell_type": "markdown",
   "metadata": {},
   "source": [
    "## MODELLING"
   ]
  },
  {
   "cell_type": "markdown",
   "metadata": {},
   "source": [
    "### Combination 1 : Cut Numeric and dummy categorical"
   ]
  },
  {
   "cell_type": "code",
   "execution_count": 100,
   "metadata": {},
   "outputs": [],
   "source": [
    "from imblearn.over_sampling import SMOTE\n",
    "from sklearn.model_selection import train_test_split\n",
    "from sklearn.metrics import confusion_matrix, classification_report, f1_score\n",
    "from sklearn.tree import DecisionTreeClassifier\n",
    "from confusionMatrix import plotConfusionMatrix"
   ]
  },
  {
   "cell_type": "code",
   "execution_count": 101,
   "metadata": {},
   "outputs": [],
   "source": [
    "y = data['outcome']\n",
    "X = data.iloc[:,0:-1]"
   ]
  },
  {
   "cell_type": "code",
   "execution_count": 102,
   "metadata": {},
   "outputs": [
    {
     "data": {
      "text/plain": [
       "((41188, 52), (41188,))"
      ]
     },
     "execution_count": 102,
     "metadata": {},
     "output_type": "execute_result"
    }
   ],
   "source": [
    "X.shape, y.shape"
   ]
  },
  {
   "cell_type": "code",
   "execution_count": 103,
   "metadata": {},
   "outputs": [],
   "source": [
    "## Method 0: without SMOTE---------------------------------------\n",
    "\n",
    "X_train, X_test, y_train, y_test = train_test_split(X, y, test_size = 0.3, random_state = 0)\n",
    "clf = DecisionTreeClassifier(random_state=0)\n",
    "clf.fit(X_train, y_train.ravel()) \n",
    "clf.score(X_test, y_test)\n",
    "predictions_ = clf.predict(X_test) "
   ]
  },
  {
   "cell_type": "code",
   "execution_count": 104,
   "metadata": {},
   "outputs": [
    {
     "data": {
      "text/plain": [
       "<bound method ClassifierMixin.score of DecisionTreeClassifier(ccp_alpha=0.0, class_weight=None, criterion='gini',\n",
       "                       max_depth=None, max_features=None, max_leaf_nodes=None,\n",
       "                       min_impurity_decrease=0.0, min_impurity_split=None,\n",
       "                       min_samples_leaf=1, min_samples_split=2,\n",
       "                       min_weight_fraction_leaf=0.0, presort='deprecated',\n",
       "                       random_state=0, splitter='best')>"
      ]
     },
     "execution_count": 104,
     "metadata": {},
     "output_type": "execute_result"
    }
   ],
   "source": [
    "clf.score"
   ]
  },
  {
   "cell_type": "code",
   "execution_count": 105,
   "metadata": {},
   "outputs": [
    {
     "name": "stdout",
     "output_type": "stream",
     "text": [
      "WITHOUT IMBALANCE TREATMENT:\n",
      "********************************************************************************\n",
      "              precision    recall  f1-score   support\n",
      "\n",
      "           0       0.93      0.92      0.92     10969\n",
      "           1       0.42      0.45      0.43      1388\n",
      "\n",
      "    accuracy                           0.87     12357\n",
      "   macro avg       0.67      0.68      0.68     12357\n",
      "weighted avg       0.87      0.87      0.87     12357\n",
      "\n",
      "********************************************************************************\n",
      "[[10097   872]\n",
      " [  767   621]]\n",
      "********************************************************************************\n",
      "********************************************************************************\n"
     ]
    },
    {
     "data": {
      "text/plain": [
       "1493"
      ]
     },
     "execution_count": 105,
     "metadata": {},
     "output_type": "execute_result"
    },
    {
     "data": {
      "image/png": "[encoded data removed]",
      "text/plain": [
       "<Figure size 432x288 with 2 Axes>"
      ]
     },
     "metadata": {
      "needs_background": "light"
     },
     "output_type": "display_data"
    }
   ],
   "source": [
    "print('Without imbalance treatment:'.upper())\n",
    "print('*'*80)\n",
    "print(classification_report(y_test, predictions_)) \n",
    "print('*'*80)\n",
    "print(confusion_matrix(y_test, predictions_))\n",
    "print('*'*80)\n",
    "f1= f1_score(y_test,predictions_, average='micro')\n",
    "plt.figure()\n",
    "cnf_mat = confusion_matrix(y_test,predictions_)\n",
    "plotConfusionMatrix(cnf_mat, 2,title='F1_micro {:.3f}'.format(f1))\n",
    "print('*'*80)\n",
    "#print('\\n')\n",
    "sum(y_test == 0)\n",
    "sum(y_test == 1)\n",
    "sum(predictions_ == 0)\n",
    "sum(predictions_ == 1)"
   ]
  },
  {
   "cell_type": "markdown",
   "metadata": {},
   "source": [
    "####  Cross Validation on Normal train-test split"
   ]
  },
  {
   "cell_type": "code",
   "execution_count": 106,
   "metadata": {},
   "outputs": [
    {
     "data": {
      "text/plain": [
       "array([0.87309293, 0.870319  , 0.86407767, 0.85506241, 0.86269071,\n",
       "       0.86962552, 0.870319  , 0.86338419, 0.86962552, 0.87239945,\n",
       "       0.85159501, 0.85773768, 0.86328938, 0.87855656, 0.85773768,\n",
       "       0.83830673, 0.87578071, 0.85912561, 0.88063845, 0.85426787])"
      ]
     },
     "execution_count": 106,
     "metadata": {},
     "output_type": "execute_result"
    }
   ],
   "source": [
    "# K fold Coss- validation :\n",
    "from sklearn.model_selection import cross_val_score\n",
    "CV_Score = cross_val_score(clf, X_train, y_train, cv=20)\n",
    "CV_Score"
   ]
  },
  {
   "cell_type": "code",
   "execution_count": 107,
   "metadata": {},
   "outputs": [
    {
     "data": {
      "text/plain": [
       "0.8643816033518101"
      ]
     },
     "execution_count": 107,
     "metadata": {},
     "output_type": "execute_result"
    }
   ],
   "source": [
    "CV_Score.mean()"
   ]
  },
  {
   "cell_type": "code",
   "execution_count": 108,
   "metadata": {},
   "outputs": [],
   "source": [
    "from sklearn.metrics import accuracy_score"
   ]
  },
  {
   "cell_type": "code",
   "execution_count": 109,
   "metadata": {},
   "outputs": [
    {
     "name": "stdout",
     "output_type": "stream",
     "text": [
      "Train: [ 3760  3761  3762 ... 41185 41186 41187] Validation: [    0     1     2 ... 12857 12866 12876]\n",
      "Train: [    0     1     2 ... 41185 41186 41187] Validation: [ 3760  3761  3762 ... 20213 20230 20234]\n",
      "Train: [    0     1     2 ... 41185 41186 41187] Validation: [ 7537  7538  7539 ... 27797 27802 27803]\n",
      "Train: [    0     1     2 ... 41185 41186 41187] Validation: [11358 11359 11360 ... 30310 30311 30312]\n",
      "Train: [    0     1     2 ... 41185 41186 41187] Validation: [15239 15240 15241 ... 35544 35552 35554]\n",
      "Train: [    0     1     2 ... 41185 41186 41187] Validation: [19128 19129 19131 ... 37165 37169 37171]\n",
      "Train: [    0     1     2 ... 41185 41186 41187] Validation: [23008 23009 23010 ... 38452 38453 38455]\n",
      "Train: [    0     1     2 ... 41185 41186 41187] Validation: [26878 26879 26880 ... 39384 39385 39386]\n",
      "Train: [    0     1     2 ... 41185 41186 41187] Validation: [31243 31244 31245 ... 40243 40244 40245]\n",
      "Train: [    0     1     2 ... 40243 40244 40245] Validation: [35180 35184 35185 ... 41185 41186 41187]\n",
      "[0.8888079630978393, 0.8366108278708424, 0.7069677106093712, 0.8055353241077932, 0.7926681233309055, 0.7615926195678563, 0.33891721291575627, 0.18888079630978394, 0.6903836813987373, 0.3081593006313745]\n"
     ]
    },
    {
     "data": {
      "text/plain": [
       "0.6318523559840259"
      ]
     },
     "execution_count": 109,
     "metadata": {},
     "output_type": "execute_result"
    }
   ],
   "source": [
    "#stratified K-Fold\n",
    "\n",
    "from sklearn.model_selection import StratifiedKFold\n",
    "accuracy=[]\n",
    "skf = StratifiedKFold(n_splits= 10, random_state= None)\n",
    "skf.get_n_splits(X,y)\n",
    "for train_index, test_index in skf.split(X,y):\n",
    "    print (\"Train:\", train_index, \"Validation:\", test_index)\n",
    "    X1_train, X1_test = X.iloc[train_index], X.iloc[test_index]\n",
    "    y1_train, y1_test = y.iloc[train_index], y.iloc[test_index]\n",
    "    clf.fit(X1_train,y1_train)\n",
    "    prediction = clf.predict(X1_test)\n",
    "    score = accuracy_score(prediction, y1_test)\n",
    "    accuracy.append(score)\n",
    "\n",
    "print(accuracy)\n",
    "np.array(accuracy).mean()"
   ]
  },
  {
   "cell_type": "code",
   "execution_count": 110,
   "metadata": {},
   "outputs": [],
   "source": [
    "#using under Sampling technique :\n",
    "from imblearn.under_sampling import NearMiss\n",
    "nm = NearMiss()\n",
    "X_undersample, y_undersample = nm.fit_sample (X,y.ravel())"
   ]
  },
  {
   "cell_type": "code",
   "execution_count": 111,
   "metadata": {},
   "outputs": [
    {
     "data": {
      "text/plain": [
       "((9280, 52), (9280,))"
      ]
     },
     "execution_count": 111,
     "metadata": {},
     "output_type": "execute_result"
    }
   ],
   "source": [
    "X_undersample.shape, y_undersample.shape"
   ]
  },
  {
   "cell_type": "code",
   "execution_count": 112,
   "metadata": {},
   "outputs": [
    {
     "name": "stdout",
     "output_type": "stream",
     "text": [
      "original shape Counter({0: 36548, 1: 4640})\n",
      "Resampled shape Counter({0: 4640, 1: 4640})\n"
     ]
    }
   ],
   "source": [
    "from collections import Counter\n",
    "print('original shape {}'.format (Counter(y)))\n",
    "print('Resampled shape {}'.format (Counter(y_undersample)))"
   ]
  },
  {
   "cell_type": "code",
   "execution_count": 113,
   "metadata": {},
   "outputs": [],
   "source": [
    "#split into 70:30 ratio \n",
    "X_train_undersample, X_val_undersample, y_train_undersample, y_val_undersample = train_test_split(X_undersample, \n",
    "                                        y_undersample, test_size = 0.3, random_state = 0)\n",
    "\n",
    "clf.fit(X_train_undersample, y_train_undersample.ravel()) \n",
    "clf.score(X_train_undersample, y_train_undersample)\n",
    "clf.score(X_val_undersample, y_val_undersample)\n",
    "\n",
    "predictions_undersample = clf.predict(X_val_undersample) "
   ]
  },
  {
   "cell_type": "code",
   "execution_count": 114,
   "metadata": {},
   "outputs": [
    {
     "name": "stdout",
     "output_type": "stream",
     "text": [
      "AFTER IMBALANCE TREATMENT:\n",
      "              precision    recall  f1-score   support\n",
      "\n",
      "           0       0.69      0.72      0.71      1393\n",
      "           1       0.71      0.68      0.69      1391\n",
      "\n",
      "    accuracy                           0.70      2784\n",
      "   macro avg       0.70      0.70      0.70      2784\n",
      "weighted avg       0.70      0.70      0.70      2784\n",
      "\n",
      "[[1005  388]\n",
      " [ 449  942]]\n",
      "********************************************************************************\n"
     ]
    },
    {
     "data": {
      "text/plain": [
       "array([[1005,  388],\n",
       "       [ 449,  942]], dtype=int64)"
      ]
     },
     "execution_count": 114,
     "metadata": {},
     "output_type": "execute_result"
    },
    {
     "data": {
      "image/png": "[encoded data removed]",
      "text/plain": [
       "<Figure size 432x288 with 2 Axes>"
      ]
     },
     "metadata": {
      "needs_background": "light"
     },
     "output_type": "display_data"
    }
   ],
   "source": [
    "# print classification report \n",
    "print('After imbalance treatment:'.upper())\n",
    "print(classification_report(y_val_undersample, predictions_undersample)) \n",
    "print(confusion_matrix(y_val_undersample, predictions_undersample))\n",
    "f1= f1_score(y_val_undersample,predictions_undersample, average='micro')\n",
    "plt.figure()\n",
    "cnf_mat_undersample = confusion_matrix(y_val_undersample,predictions_undersample)\n",
    "plotConfusionMatrix(cnf_mat_undersample, 2,title='F1_micro {:.3f}'.format(f1))\n",
    "print('*'*80)\n",
    "#print('\\n')\n",
    "\n",
    "sum(y_val_undersample == 0)\n",
    "sum(y_val_undersample == 1)\n",
    "sum(predictions_undersample == 0)\n",
    "sum(predictions_undersample == 1)\n",
    "\n",
    "confusion_matrix(y_val_undersample, predictions_undersample)"
   ]
  },
  {
   "cell_type": "code",
   "execution_count": 115,
   "metadata": {},
   "outputs": [
    {
     "data": {
      "text/plain": [
       "array([0.16810345, 0.39331897, 0.44827586, 0.52047414, 0.47413793,\n",
       "       0.56573276, 0.50323276, 0.60237069, 0.78663793, 0.64547414])"
      ]
     },
     "execution_count": 115,
     "metadata": {},
     "output_type": "execute_result"
    }
   ],
   "source": [
    "# K fold Coss- validation :\n",
    "from sklearn.model_selection import cross_val_score\n",
    "CV_Score_undersample = cross_val_score(clf, X_undersample, y_undersample, cv=10)\n",
    "CV_Score_undersample"
   ]
  },
  {
   "cell_type": "code",
   "execution_count": 116,
   "metadata": {},
   "outputs": [
    {
     "data": {
      "text/plain": [
       "((73096, 52), (73096,))"
      ]
     },
     "execution_count": 116,
     "metadata": {},
     "output_type": "execute_result"
    }
   ],
   "source": [
    "#using Random OverSampling technique :\n",
    "\n",
    "from imblearn.over_sampling import RandomOverSampler\n",
    "ros = RandomOverSampler()\n",
    "X_oversample, y_oversample = ros.fit_sample (X,y)\n",
    "X_oversample.shape, y_oversample.shape"
   ]
  },
  {
   "cell_type": "code",
   "execution_count": 117,
   "metadata": {},
   "outputs": [
    {
     "name": "stdout",
     "output_type": "stream",
     "text": [
      "original shape Counter({0: 36548, 1: 4640})\n",
      "Resampled shape Counter({0: 36548, 1: 36548})\n"
     ]
    }
   ],
   "source": [
    "print('original shape {}'.format (Counter(y)))\n",
    "print('Resampled shape {}'.format (Counter(y_oversample)))"
   ]
  },
  {
   "cell_type": "code",
   "execution_count": 118,
   "metadata": {},
   "outputs": [
    {
     "name": "stdout",
     "output_type": "stream",
     "text": [
      "AFTER IMBALANCE TREATMENT:\n",
      "              precision    recall  f1-score   support\n",
      "\n",
      "           0       0.99      0.91      0.95     10857\n",
      "           1       0.91      1.00      0.95     11072\n",
      "\n",
      "    accuracy                           0.95     21929\n",
      "   macro avg       0.95      0.95      0.95     21929\n",
      "weighted avg       0.95      0.95      0.95     21929\n",
      "\n",
      "[[ 9826  1031]\n",
      " [   51 11021]]\n",
      "********************************************************************************\n"
     ]
    },
    {
     "data": {
      "text/plain": [
       "array([[ 9826,  1031],\n",
       "       [   51, 11021]], dtype=int64)"
      ]
     },
     "execution_count": 118,
     "metadata": {},
     "output_type": "execute_result"
    },
    {
     "data": {
      "image/png": "[encoded data removed]",
      "text/plain": [
       "<Figure size 432x288 with 2 Axes>"
      ]
     },
     "metadata": {
      "needs_background": "light"
     },
     "output_type": "display_data"
    }
   ],
   "source": [
    "#split into 70:30 ratio \n",
    "X_train_oversample, X_val_oversample, y_train_oversample, y_val_oversample = train_test_split(X_oversample, \n",
    "                                        y_oversample, test_size = 0.3, random_state = 0)\n",
    "\n",
    "clf.fit(X_train_oversample, y_train_oversample.ravel()) \n",
    "clf.score(X_train_oversample, y_train_oversample)\n",
    "clf.score(X_val_oversample, y_val_oversample)\n",
    "\n",
    "predictions_oversample = clf.predict(X_val_oversample) \n",
    "\n",
    "\n",
    "# print classification report \n",
    "print('After imbalance treatment:'.upper())\n",
    "print(classification_report(y_val_oversample, predictions_oversample)) \n",
    "print(confusion_matrix(y_val_oversample, predictions_oversample))\n",
    "f1= f1_score(y_val_oversample,predictions_oversample, average='micro')\n",
    "plt.figure()\n",
    "cnf_mat_oversample = confusion_matrix(y_val_oversample,predictions_oversample)\n",
    "plotConfusionMatrix(cnf_mat_oversample, 2,title='F1_micro {:.3f}'.format(f1))\n",
    "print('*'*80)\n",
    "#print('\\n')\n",
    "\n",
    "sum(y_val_oversample == 0)\n",
    "sum(y_val_oversample == 1)\n",
    "sum(predictions_oversample == 0)\n",
    "sum(predictions_oversample == 1)\n",
    "\n",
    "confusion_matrix(y_val_oversample, predictions_oversample)"
   ]
  },
  {
   "cell_type": "code",
   "execution_count": 119,
   "metadata": {},
   "outputs": [
    {
     "name": "stdout",
     "output_type": "stream",
     "text": [
      "WITH IMBALANCE TREATMENT:\n",
      "After OverSampling, X: (51158, 52)\n",
      "After OverSampling, y: (51158,)\n",
      "After OverSampling, counts of '1': 25579\n",
      "After OverSampling, counts of '0': 25579\n",
      "\n",
      "\n"
     ]
    }
   ],
   "source": [
    "## Method1: SMOTE on Train\n",
    "\n",
    "sm = SMOTE(random_state = 2) \n",
    "X_smote, y_smote = sm.fit_sample(X_train, y_train.ravel()) \n",
    "\n",
    "print('With imbalance treatment:'.upper())\n",
    "print('After OverSampling, X: {}'.format(X_smote.shape)) \n",
    "print('After OverSampling, y: {}'.format(y_smote.shape)) \n",
    "print(\"After OverSampling, counts of '1': {}\".format(sum(y_smote == 1))) \n",
    "print(\"After OverSampling, counts of '0': {}\".format(sum(y_smote == 0))) \n",
    "print('\\n')"
   ]
  },
  {
   "cell_type": "code",
   "execution_count": 120,
   "metadata": {},
   "outputs": [],
   "source": [
    "#split into 70:30 ratio \n",
    "X_train_smote, X_val_smote, y_train_smote, y_val_smote = train_test_split(X_smote, y_smote, \n",
    "                    test_size = 0.3, random_state = 0)\n",
    "\n",
    "clf.fit(X_train_smote, y_train_smote.ravel()) \n",
    "clf.score(X_val_smote, y_val_smote)\n",
    "\n",
    "predictions_smote = clf.predict(X_val_smote) "
   ]
  },
  {
   "cell_type": "code",
   "execution_count": 121,
   "metadata": {},
   "outputs": [
    {
     "name": "stdout",
     "output_type": "stream",
     "text": [
      "AFTER IMBALANCE TREATMENT:\n",
      "              precision    recall  f1-score   support\n",
      "\n",
      "           0       0.92      0.87      0.90      7651\n",
      "           1       0.88      0.93      0.90      7697\n",
      "\n",
      "    accuracy                           0.90     15348\n",
      "   macro avg       0.90      0.90      0.90     15348\n",
      "weighted avg       0.90      0.90      0.90     15348\n",
      "\n",
      "********************************************************************************\n",
      "[[6682  969]\n",
      " [ 568 7129]]\n",
      "********************************************************************************\n",
      "********************************************************************************\n"
     ]
    },
    {
     "data": {
      "text/plain": [
       "array([[6682,  969],\n",
       "       [ 568, 7129]], dtype=int64)"
      ]
     },
     "execution_count": 121,
     "metadata": {},
     "output_type": "execute_result"
    },
    {
     "data": {
      "image/png": "[encoded data removed]",
      "text/plain": [
       "<Figure size 432x288 with 2 Axes>"
      ]
     },
     "metadata": {
      "needs_background": "light"
     },
     "output_type": "display_data"
    }
   ],
   "source": [
    "# print classification report on Validation set \n",
    "print('After imbalance treatment:'.upper())\n",
    "print(classification_report(y_val_smote, predictions_smote)) \n",
    "print('*'*80)\n",
    "print(confusion_matrix(y_val_smote, predictions_smote))\n",
    "print('*'*80)\n",
    "f1= f1_score(y_val_smote,predictions_smote, average='micro')\n",
    "plt.figure()\n",
    "cnf_mat_smote = confusion_matrix(y_val_smote,predictions_smote)\n",
    "plotConfusionMatrix(cnf_mat_smote, 2,title='F1_micro {:.3f}'.format(f1))\n",
    "print('*'*80)\n",
    "#print('\\n')\n",
    "\n",
    "sum(y_val_smote == 0)\n",
    "sum(y_val_smote == 1)\n",
    "sum(predictions_smote == 0)\n",
    "sum(predictions_smote == 1)\n",
    "\n",
    "confusion_matrix(y_val_smote, predictions_smote)\n"
   ]
  },
  {
   "cell_type": "code",
   "execution_count": 122,
   "metadata": {},
   "outputs": [
    {
     "name": "stdout",
     "output_type": "stream",
     "text": [
      "AFTER IMBALANCE TREATMENT:\n",
      "              precision    recall  f1-score   support\n",
      "\n",
      "           0       0.93      0.88      0.91     10969\n",
      "           1       0.35      0.51      0.42      1388\n",
      "\n",
      "    accuracy                           0.84     12357\n",
      "   macro avg       0.64      0.70      0.66     12357\n",
      "weighted avg       0.87      0.84      0.85     12357\n",
      "\n",
      "********************************************************************************\n",
      "[[9661 1308]\n",
      " [ 677  711]]\n",
      "********************************************************************************\n",
      "********************************************************************************\n"
     ]
    },
    {
     "data": {
      "text/plain": [
       "array([[9661, 1308],\n",
       "       [ 677,  711]], dtype=int64)"
      ]
     },
     "execution_count": 122,
     "metadata": {},
     "output_type": "execute_result"
    },
    {
     "data": {
      "image/png": "[encoded data removed]",
      "text/plain": [
       "<Figure size 432x288 with 2 Axes>"
      ]
     },
     "metadata": {
      "needs_background": "light"
     },
     "output_type": "display_data"
    }
   ],
   "source": [
    "## Checking on actual Test Data :\n",
    "\n",
    "clf.fit(X_train_smote, y_train_smote.ravel()) \n",
    "clf.score(X_test, y_test)\n",
    "\n",
    "predictions_smote = clf.predict(X_test) \n",
    "\n",
    "# print classification report on Validation set \n",
    "print('After imbalance treatment:'.upper())\n",
    "print(classification_report(y_test, predictions_smote)) \n",
    "print('*'*80)\n",
    "print(confusion_matrix(y_test, predictions_smote))\n",
    "print('*'*80)\n",
    "f1= f1_score(y_test,predictions_smote, average='micro')\n",
    "plt.figure()\n",
    "cnf_mat_smote = confusion_matrix(y_test,predictions_smote)\n",
    "plotConfusionMatrix(cnf_mat_smote, 2,title='F1_micro {:.3f}'.format(f1))\n",
    "print('*'*80)\n",
    "#print('\\n')\n",
    "\n",
    "sum(y_test == 0)\n",
    "sum(y_test == 1)\n",
    "sum(predictions_smote == 0)\n",
    "sum(predictions_smote == 1)\n",
    "\n",
    "confusion_matrix(y_test, predictions_smote)\n"
   ]
  },
  {
   "cell_type": "markdown",
   "metadata": {},
   "source": [
    "### Grid Search with SMOTE"
   ]
  },
  {
   "cell_type": "code",
   "execution_count": 123,
   "metadata": {},
   "outputs": [
    {
     "name": "stdout",
     "output_type": "stream",
     "text": [
      "GRID SEARCH WITH SMOTE -- DT:\n",
      "Using best parameters: {'max_depth': 9}\n",
      "********************************************************************************\n",
      "              precision    recall  f1-score   support\n",
      "\n",
      "           0       0.96      0.79      0.87     10969\n",
      "           1       0.31      0.76      0.44      1388\n",
      "\n",
      "    accuracy                           0.79     12357\n",
      "   macro avg       0.64      0.77      0.66     12357\n",
      "weighted avg       0.89      0.79      0.82     12357\n",
      "\n",
      "********************************************************************************\n",
      "[[8675 2294]\n",
      " [ 335 1053]]\n",
      "********************************************************************************\n",
      "********************************************************************************\n"
     ]
    },
    {
     "data": {
      "image/png": "[encoded data removed]",
      "text/plain": [
       "<Figure size 432x288 with 1 Axes>"
      ]
     },
     "metadata": {
      "needs_background": "light"
     },
     "output_type": "display_data"
    }
   ],
   "source": [
    "from sklearn.metrics import roc_auc_score, roc_curve\n",
    "from sklearn.model_selection import GridSearchCV\n",
    "import matplotlib.pyplot as plt\n",
    "from sklearn import metrics\n",
    "\n",
    "#parameters={'min_samples_split' : range(10,500,20),'max_depth': range(1,20,2)}\n",
    "parameters = {'max_depth': np.arange(3, 10)} # pruning\n",
    "tree = GridSearchCV(clf,parameters)\n",
    "tree.fit(X_train_smote,y_train_smote)\n",
    "preds = tree.predict(X_test)\n",
    "\n",
    "print('GRID SEARCH WITH SMOTE -- DT:')\n",
    "print('Using best parameters:',tree.best_params_)\n",
    "print('*'*80)\n",
    "print(classification_report(y_test, preds)) \n",
    "print('*'*80)\n",
    "print(confusion_matrix(y_test, preds))\n",
    "print('*'*80)\n",
    "\n",
    "y_pred_proba_ = tree.predict_proba(X_test)[::,1]\n",
    "fpr, tpr, _ = roc_curve(y_test,  y_pred_proba_)\n",
    "auc = roc_auc_score(y_test, y_pred_proba_)\n",
    "plt.plot(fpr,tpr,label=\"Gs-Smote-DT, auc=\"+str(np.round(auc,3)))\n",
    "plt.legend(loc=4)\n",
    "plt.tight_layout()\n",
    "\n",
    "print('*'*80)"
   ]
  },
  {
   "cell_type": "markdown",
   "metadata": {},
   "source": [
    "#### GRID SEARCH WITH SMOTE with CROSS VALIDATION---------------------------------"
   ]
  },
  {
   "cell_type": "code",
   "execution_count": 124,
   "metadata": {},
   "outputs": [
    {
     "name": "stdout",
     "output_type": "stream",
     "text": [
      "GRID SEARCH WITH SMOTE & CROSS VALIDATION -- DT:\n",
      "Using best parameters: {'criterion': 'entropy', 'max_depth': 28}\n",
      "GRID SEARCH WITH SMOTE -- DT:\n",
      "Using best parameters: {'criterion': 'entropy', 'max_depth': 28}\n",
      "********************************************************************************\n",
      "              precision    recall  f1-score   support\n",
      "\n",
      "           0       0.93      0.89      0.91     10969\n",
      "           1       0.37      0.49      0.42      1388\n",
      "\n",
      "    accuracy                           0.85     12357\n",
      "   macro avg       0.65      0.69      0.67     12357\n",
      "weighted avg       0.87      0.85      0.86     12357\n",
      "\n",
      "********************************************************************************\n",
      "[[9811 1158]\n",
      " [ 702  686]]\n",
      "********************************************************************************\n"
     ]
    },
    {
     "data": {
      "image/png": "[encoded data removed]",
      "text/plain": [
       "<Figure size 432x288 with 1 Axes>"
      ]
     },
     "metadata": {
      "needs_background": "light"
     },
     "output_type": "display_data"
    }
   ],
   "source": [
    "def dtree_grid_search(X,y,nfolds):\n",
    "    #create a dictionary of all values we want to test\n",
    "    param_grid = { 'criterion':['gini','entropy'],'max_depth': np.arange(15, 30)}\n",
    "    # decision tree model\n",
    "    dtree_model = DecisionTreeClassifier()\n",
    "    #use gridsearch to val all values\n",
    "    dtree_gscv = GridSearchCV(dtree_model, param_grid, cv=nfolds)\n",
    "    #fit model to data\n",
    "    dtree_gscv.fit(X, y)\n",
    "    #find score\n",
    "    score = dtree_gscv.score(X, y)\n",
    "    \n",
    "    return dtree_gscv.best_params_, score, dtree_gscv\n",
    "\n",
    "print('GRID SEARCH WITH SMOTE & CROSS VALIDATION -- DT:')\n",
    "best_param, acc, model = dtree_grid_search(X_smote,y_smote, 4)\n",
    "print('Using best parameters:',best_param)\n",
    "pred = model.predict(X_test)\n",
    "\n",
    "print('GRID SEARCH WITH SMOTE -- DT:')\n",
    "print('Using best parameters:',model.best_params_)\n",
    "print('*'*80)\n",
    "print(classification_report(y_test, pred)) \n",
    "print('*'*80)\n",
    "print(confusion_matrix(y_test, pred))\n",
    "print('*'*80)\n",
    "\n",
    "## ROC curve\n",
    "y_pred_proba = model.predict_proba(X_test)[::,1]\n",
    "fpr, tpr, _ = roc_curve(y_test,  y_pred_proba)\n",
    "auc = metrics.roc_auc_score(y_test, y_pred_proba)\n",
    "plt.plot(fpr,tpr,label=\"Gs-Smote-cv-DT, auc=\"+str(np.round(auc,3)))\n",
    "plt.legend(loc=4)\n",
    "plt.tight_layout()"
   ]
  },
  {
   "cell_type": "markdown",
   "metadata": {},
   "source": [
    "### Random Forest "
   ]
  },
  {
   "cell_type": "code",
   "execution_count": 125,
   "metadata": {},
   "outputs": [
    {
     "name": "stdout",
     "output_type": "stream",
     "text": [
      "********************************************************************************\n",
      "GRID SEARCH WITHOUT SMOTE & CROSS VALIDATION -- RF:\n",
      "Using best parameters: {'criterion': 'entropy', 'max_depth': 28}\n",
      "********************************************************************************\n",
      "              precision    recall  f1-score   support\n",
      "\n",
      "           0       0.92      0.98      0.95     10969\n",
      "           1       0.71      0.32      0.44      1388\n",
      "\n",
      "    accuracy                           0.91     12357\n",
      "   macro avg       0.82      0.65      0.69     12357\n",
      "weighted avg       0.90      0.91      0.89     12357\n",
      "\n",
      "********************************************************************************\n",
      "[[10792   177]\n",
      " [  949   439]]\n",
      "********************************************************************************\n"
     ]
    },
    {
     "data": {
      "image/png": "[encoded data removed]",
      "text/plain": [
       "<Figure size 432x288 with 1 Axes>"
      ]
     },
     "metadata": {
      "needs_background": "light"
     },
     "output_type": "display_data"
    }
   ],
   "source": [
    "from sklearn.ensemble import RandomForestClassifier\n",
    "\n",
    "def RF_grid_search(X,y,nfolds):\n",
    "    \n",
    "    #create a dictionary of all values we want to test\n",
    "    param_grid = {'criterion':['gini','entropy'],'max_depth': np.arange(11, 19),\n",
    "                  'n_estimators': [100,300]}\n",
    "    #randomForest model without gridSrearch\n",
    "    rf = RandomForestClassifier()\n",
    "    #use gridsearch to val all values\n",
    "    rf_gscv = GridSearchCV(rf, param_grid, cv=nfolds)\n",
    "    #fit model to data\n",
    "    rf_gscv.fit(X, y) # with grid search\n",
    "    #find score\n",
    "    score_gscv = rf_gscv.score(X, y) # with grid search\n",
    "    \n",
    "    return rf, rf_gscv.best_params_, rf_gscv, score_gscv  \n",
    "\n",
    "print('*'*80)\n",
    "print('GRID SEARCH WITHOUT SMOTE & CROSS VALIDATION -- RF:')\n",
    "rf, best_param_rf, model_rf, acc_rf = RF_grid_search(X_train,y_train, 4)\n",
    "pred_rf = model_rf.predict(X_test)\n",
    "\n",
    "print('Using best parameters:',model.best_params_)\n",
    "print('*'*80)\n",
    "print(classification_report(y_test, pred_rf)) \n",
    "print('*'*80)\n",
    "print(confusion_matrix(y_test, pred_rf))\n",
    "print('*'*80)\n",
    "## ROC curve\n",
    "y_pred_proba_rf = model_rf.predict_proba(X_test)[::,1]\n",
    "fpr_rf, tpr_rf, _rf = roc_curve(y_test,  y_pred_proba_rf)\n",
    "auc_rf = metrics.roc_auc_score(y_test, y_pred_proba_rf)\n",
    "plt.plot(fpr_rf,tpr_rf,label=\"Gs-Smote-cv-RF, aucRF=\"+str(np.round(auc_rf,3)))\n",
    "plt.legend(loc=4)\n",
    "plt.tight_layout()"
   ]
  },
  {
   "cell_type": "code",
   "execution_count": 126,
   "metadata": {},
   "outputs": [
    {
     "name": "stdout",
     "output_type": "stream",
     "text": [
      "********************************************************************************\n",
      "GRID SEARCH WITHOUT SMOTE RF:\n",
      "********************************************************************************\n",
      "              precision    recall  f1-score   support\n",
      "\n",
      "           0       0.92      0.98      0.95     10969\n",
      "           1       0.71      0.32      0.44      1388\n",
      "\n",
      "    accuracy                           0.91     12357\n",
      "   macro avg       0.82      0.65      0.69     12357\n",
      "weighted avg       0.90      0.91      0.89     12357\n",
      "\n",
      "********************************************************************************\n",
      "[[10792   177]\n",
      " [  949   439]]\n",
      "********************************************************************************\n"
     ]
    },
    {
     "data": {
      "image/png": "[encoded data removed]",
      "text/plain": [
       "<Figure size 432x288 with 1 Axes>"
      ]
     },
     "metadata": {
      "needs_background": "light"
     },
     "output_type": "display_data"
    }
   ],
   "source": [
    "from sklearn.ensemble import RandomForestClassifier\n",
    "rf_clf = RandomForestClassifier(n_estimators=250, n_jobs=-1, random_state=42)\n",
    "rf_clf.fit(X_train, y_train)\n",
    "print('*'*80)\n",
    "print('GRID SEARCH WITHOUT SMOTE RF:')\n",
    "pred_clf = rf_clf.predict(X_test)\n",
    "\n",
    "print('*'*80)\n",
    "print(classification_report(y_test, pred_rf)) \n",
    "print('*'*80)\n",
    "print(confusion_matrix(y_test, pred_rf))\n",
    "print('*'*80)\n",
    "## ROC curve\n",
    "y_pred_proba_rf = rf_clf.predict_proba(X_test)[::,1]\n",
    "fpr_rf, tpr_rf, _rf = roc_curve(y_test,  y_pred_proba_rf)\n",
    "auc_rf = metrics.roc_auc_score(y_test, y_pred_proba_rf)\n",
    "plt.plot(fpr_rf,tpr_rf,label=\"Gs-Smote-cv-RF, aucRF=\"+str(np.round(auc_rf,3)))\n",
    "plt.legend(loc=4)\n",
    "plt.tight_layout()"
   ]
  },
  {
   "cell_type": "code",
   "execution_count": 128,
   "metadata": {},
   "outputs": [
    {
     "name": "stdout",
     "output_type": "stream",
     "text": [
      "********************************************************************************\n",
      "              precision    recall  f1-score   support\n",
      "\n",
      "           0       0.92      0.97      0.95     10969\n",
      "           1       0.60      0.37      0.46      1388\n",
      "\n",
      "    accuracy                           0.90     12357\n",
      "   macro avg       0.76      0.67      0.70     12357\n",
      "weighted avg       0.89      0.90      0.89     12357\n",
      "\n",
      "********************************************************************************\n",
      "[[10628   341]\n",
      " [  868   520]]\n",
      "********************************************************************************\n"
     ]
    },
    {
     "data": {
      "image/png": "[encoded data removed]",
      "text/plain": [
       "<Figure size 432x288 with 1 Axes>"
      ]
     },
     "metadata": {
      "needs_background": "light"
     },
     "output_type": "display_data"
    }
   ],
   "source": [
    "from sklearn.model_selection import GridSearchCV\n",
    "grid_search = GridSearchCV(rf_clf, param_grid={}, cv= 10)\n",
    "grid_search.fit(X_train, y_train)\n",
    "cvrf_clf=grid_search.best_estimator_\n",
    "pred_clf = cvrf_clf.predict(X_test)\n",
    "print('*'*80)\n",
    "print(classification_report(y_test, pred_clf)) \n",
    "print('*'*80)\n",
    "print(confusion_matrix(y_test, pred_clf))\n",
    "print('*'*80)\n",
    "## ROC curve\n",
    "y_pred_proba_rf = cvrf_clf.predict_proba(X_test)[::,1]\n",
    "fpr_rf, tpr_rf, _rf = roc_curve(y_test,  y_pred_proba_rf)\n",
    "auc_rf = metrics.roc_auc_score(y_test, y_pred_proba_rf)\n",
    "plt.plot(fpr_rf,tpr_rf,label=\"Gs-Smote-cv-RF, aucRF=\"+str(np.round(auc_rf,3)))\n",
    "plt.legend(loc=4)\n",
    "plt.tight_layout()"
   ]
  },
  {
   "cell_type": "markdown",
   "metadata": {},
   "source": [
    "### With SMOTE"
   ]
  },
  {
   "cell_type": "code",
   "execution_count": 130,
   "metadata": {},
   "outputs": [
    {
     "name": "stdout",
     "output_type": "stream",
     "text": [
      "********************************************************************************\n",
      "              precision    recall  f1-score   support\n",
      "\n",
      "           0       0.94      0.90      0.92     10969\n",
      "           1       0.43      0.58      0.50      1388\n",
      "\n",
      "    accuracy                           0.87     12357\n",
      "   macro avg       0.69      0.74      0.71     12357\n",
      "weighted avg       0.89      0.87      0.88     12357\n",
      "\n",
      "********************************************************************************\n",
      "[[9905 1064]\n",
      " [ 581  807]]\n",
      "********************************************************************************\n"
     ]
    },
    {
     "data": {
      "image/png": "[encoded data removed]",
      "text/plain": [
       "<Figure size 432x288 with 1 Axes>"
      ]
     },
     "metadata": {
      "needs_background": "light"
     },
     "output_type": "display_data"
    }
   ],
   "source": [
    "from sklearn.model_selection import GridSearchCV\n",
    "grid_search = GridSearchCV(rf_clf, param_grid={}, cv= 10)\n",
    "grid_search.fit(X_train_smote, y_train_smote)\n",
    "cvrf_clfs=grid_search.best_estimator_\n",
    "pred_clfs = cvrf_clfs.predict(X_test)\n",
    "print('*'*80)\n",
    "print(classification_report(y_test, pred_clfs)) \n",
    "print('*'*80)\n",
    "print(confusion_matrix(y_test, pred_clfs))\n",
    "print('*'*80)\n",
    "## ROC curve\n",
    "y_pred_proba_rfs = cvrf_clfs.predict_proba(X_test)[::,1]\n",
    "fpr_rf, tpr_rf, _rf = roc_curve(y_test,  y_pred_proba_rfs)\n",
    "auc_rf = metrics.roc_auc_score(y_test, y_pred_proba_rfs)\n",
    "plt.plot(fpr_rf,tpr_rf,label=\"Gs-Smote-cv-RF, aucRF=\"+str(np.round(auc_rf,3)))\n",
    "plt.legend(loc=4)\n",
    "plt.tight_layout()"
   ]
  },
  {
   "cell_type": "markdown",
   "metadata": {},
   "source": [
    "### XG Boost Method"
   ]
  },
  {
   "cell_type": "code",
   "execution_count": 131,
   "metadata": {},
   "outputs": [
    {
     "name": "stdout",
     "output_type": "stream",
     "text": [
      "********************************************************************************\n",
      "XGB Without SMOTE\n",
      "********************************************************************************\n",
      "              precision    recall  f1-score   support\n",
      "\n",
      "           0       0.92      0.98      0.95     10969\n",
      "           1       0.68      0.36      0.48      1388\n",
      "\n",
      "    accuracy                           0.91     12357\n",
      "   macro avg       0.80      0.67      0.71     12357\n",
      "weighted avg       0.90      0.91      0.90     12357\n",
      "\n",
      "********************************************************************************\n",
      "[[10734   235]\n",
      " [  882   506]]\n",
      "********************************************************************************\n"
     ]
    },
    {
     "data": {
      "image/png": "[encoded data removed]",
      "text/plain": [
       "<Figure size 432x288 with 1 Axes>"
      ]
     },
     "metadata": {
      "needs_background": "light"
     },
     "output_type": "display_data"
    }
   ],
   "source": [
    "from xgboost import XGBClassifier\n",
    "from sklearn.metrics import accuracy_score\n",
    "\n",
    "#instantiate model and train\n",
    "model_G = XGBClassifier(learning_rate = 0.05, n_estimators=300, max_depth=5)\n",
    "model_G.fit(X_train, y_train)\n",
    "\n",
    "# make predictions for test set\n",
    "y_pred = model_G.predict(X_test)\n",
    "preds = [round(value) for value in y_pred]\n",
    "\n",
    "print('*'*80)\n",
    "print('XGB Without SMOTE')\n",
    "print('*'*80)\n",
    "print(classification_report(y_test, y_pred)) \n",
    "print('*'*80)\n",
    "print(confusion_matrix(y_test, y_pred))\n",
    "print('*'*80)\n",
    "y_pred_proba_G = model_G.predict_proba(X_test)[::,1]\n",
    "fpr_G, tpr_G, _G = roc_curve(y_test,  y_pred_proba_G)\n",
    "auc_G = metrics.roc_auc_score(y_test, y_pred_proba_G)\n",
    "plt.plot(fpr_G,tpr_G,label=\"Smote-GB, aucG=\"+str(np.round(auc_G,3)))\n",
    "plt.legend(loc=4)\n",
    "plt.ylabel('Sensitivity')\n",
    "plt.xlabel('1 - Specificity')\n",
    "plt.title('ROC')\n",
    "plt.tight_layout()"
   ]
  },
  {
   "cell_type": "code",
   "execution_count": 135,
   "metadata": {},
   "outputs": [
    {
     "name": "stdout",
     "output_type": "stream",
     "text": [
      "********************************************************************************\n",
      "SMOTE with XGB\n",
      "********************************************************************************\n",
      "              precision    recall  f1-score   support\n",
      "\n",
      "           0       0.93      0.98      0.95     10969\n",
      "           1       0.68      0.38      0.48      1388\n",
      "\n",
      "    accuracy                           0.91     12357\n",
      "   macro avg       0.80      0.68      0.72     12357\n",
      "weighted avg       0.90      0.91      0.90     12357\n",
      "\n",
      "********************************************************************************\n",
      "[[10721   248]\n",
      " [  866   522]]\n",
      "********************************************************************************\n"
     ]
    },
    {
     "data": {
      "image/png": "[encoded data removed]",
      "text/plain": [
       "<Figure size 432x288 with 1 Axes>"
      ]
     },
     "metadata": {
      "needs_background": "light"
     },
     "output_type": "display_data"
    }
   ],
   "source": [
    "from sklearn.model_selection import GridSearchCV\n",
    "model_Gb= XGBClassifier(max_depth = 5, n_estimators=1000, learning_rate=0.03, n_jobs=1)\n",
    "grid_search = GridSearchCV(model_Gb, param_grid={}, n_jobs=1, cv = 10, scoring = \"accuracy\")\n",
    "grid_search.fit(X_train, y_train)\n",
    "cvxg_clf= grid_search.best_estimator_\n",
    "y_pred = cvxg_clf.predict(X_test)\n",
    "pred = [round(value) for value in y_pred]\n",
    "\n",
    "print('*'*80)\n",
    "print('SMOTE with XGB')\n",
    "print('*'*80)\n",
    "print(classification_report(y_test, y_pred)) \n",
    "print('*'*80)\n",
    "print(confusion_matrix(y_test, y_pred))\n",
    "print('*'*80)\n",
    "y_pred_proba_G = cvxg_clf.predict_proba(X_test)[::,1]\n",
    "fpr_G, tpr_G, _G = roc_curve(y_test,  y_pred_proba_G)\n",
    "auc_G = metrics.roc_auc_score(y_test, y_pred_proba_G)\n",
    "plt.plot(fpr_G,tpr_G,label=\"Smote-GB, aucG=\"+str(np.round(auc_G,3)))\n",
    "plt.legend(loc=4)\n",
    "plt.ylabel('Sensitivity')\n",
    "plt.xlabel('1 - Specificity')\n",
    "plt.title('ROC')\n",
    "plt.tight_layout()"
   ]
  },
  {
   "cell_type": "markdown",
   "metadata": {},
   "source": [
    "#### With SMOTE"
   ]
  },
  {
   "cell_type": "code",
   "execution_count": 133,
   "metadata": {},
   "outputs": [
    {
     "name": "stdout",
     "output_type": "stream",
     "text": [
      "********************************************************************************\n",
      "SMOTE with XGB\n",
      "********************************************************************************\n",
      "              precision    recall  f1-score   support\n",
      "\n",
      "           0       0.94      0.89      0.92     10969\n",
      "           1       0.41      0.58      0.48      1388\n",
      "\n",
      "    accuracy                           0.86     12357\n",
      "   macro avg       0.68      0.74      0.70     12357\n",
      "weighted avg       0.88      0.86      0.87     12357\n",
      "\n",
      "********************************************************************************\n",
      "[[9810 1159]\n",
      " [ 579  809]]\n",
      "********************************************************************************\n"
     ]
    },
    {
     "data": {
      "image/png": "[encoded data removed]",
      "text/plain": [
       "<Figure size 432x288 with 1 Axes>"
      ]
     },
     "metadata": {
      "needs_background": "light"
     },
     "output_type": "display_data"
    }
   ],
   "source": [
    "from xgboost import XGBClassifier\n",
    "from sklearn.metrics import accuracy_score\n",
    "\n",
    "#instantiate model and train\n",
    "model_Gs = XGBClassifier(learning_rate = 0.05, n_estimators=500, max_depth=7)\n",
    "model_Gs.fit(X_train_smote, y_train_smote)\n",
    "\n",
    "# make predictions for test set\n",
    "y_pred = model_Gs.predict(X_test)\n",
    "preds = [round(value) for value in y_pred]\n",
    "\n",
    "print('*'*80)\n",
    "print('SMOTE with XGB')\n",
    "print('*'*80)\n",
    "print(classification_report(y_test, y_pred)) \n",
    "print('*'*80)\n",
    "print(confusion_matrix(y_test, y_pred))\n",
    "print('*'*80)\n",
    "y_pred_proba_G = model_Gs.predict_proba(X_test)[::,1]\n",
    "fpr_G, tpr_G, _G = roc_curve(y_test,  y_pred_proba_G)\n",
    "auc_G = metrics.roc_auc_score(y_test, y_pred_proba_G)\n",
    "plt.plot(fpr_G,tpr_G,label=\"Smote-GB, aucG=\"+str(np.round(auc_G,3)))\n",
    "plt.legend(loc=4)\n",
    "plt.ylabel('Sensitivity')\n",
    "plt.xlabel('1 - Specificity')\n",
    "plt.title('ROC')\n",
    "plt.tight_layout()"
   ]
  },
  {
   "cell_type": "code",
   "execution_count": 137,
   "metadata": {},
   "outputs": [
    {
     "name": "stdout",
     "output_type": "stream",
     "text": [
      "********************************************************************************\n",
      "SMOTE with XGB\n",
      "********************************************************************************\n",
      "              precision    recall  f1-score   support\n",
      "\n",
      "           0       0.93      0.98      0.95     10969\n",
      "           1       0.68      0.38      0.48      1388\n",
      "\n",
      "    accuracy                           0.91     12357\n",
      "   macro avg       0.80      0.68      0.72     12357\n",
      "weighted avg       0.90      0.91      0.90     12357\n",
      "\n",
      "********************************************************************************\n",
      "[[10721   248]\n",
      " [  866   522]]\n",
      "********************************************************************************\n"
     ]
    },
    {
     "data": {
      "image/png": "[encoded data removed]",
      "text/plain": [
       "<Figure size 432x288 with 1 Axes>"
      ]
     },
     "metadata": {
      "needs_background": "light"
     },
     "output_type": "display_data"
    }
   ],
   "source": [
    "from sklearn.model_selection import GridSearchCV\n",
    "model_Gbs= XGBClassifier(max_depth = 5, n_estimators=1000, learning_rate=0.03, n_jobs=1)\n",
    "grid_searchs = GridSearchCV(model_Gbs, param_grid={}, n_jobs=1, cv = 10, scoring = \"accuracy\")\n",
    "grid_searchs.fit(X_train_smote, y_train_smote)\n",
    "cvxgs_clf= grid_search.best_estimator_\n",
    "y_pred = cvxgs_clf.predict(X_test)\n",
    "pred = [round(value) for value in y_pred]\n",
    "\n",
    "print('*'*80)\n",
    "print('SMOTE with XGB')\n",
    "print('*'*80)\n",
    "print(classification_report(y_test, y_pred)) \n",
    "print('*'*80)\n",
    "print(confusion_matrix(y_test, y_pred))\n",
    "print('*'*80)\n",
    "y_pred_proba_G = cvxgs_clf.predict_proba(X_test)[::,1]\n",
    "fpr_G, tpr_G, _G = roc_curve(y_test,  y_pred_proba_G)\n",
    "auc_G = metrics.roc_auc_score(y_test, y_pred_proba_G)\n",
    "plt.plot(fpr_G,tpr_G,label=\"Smote-GB, aucG=\"+str(np.round(auc_G,3)))\n",
    "plt.legend(loc=4)\n",
    "plt.ylabel('Sensitivity')\n",
    "plt.xlabel('1 - Specificity')\n",
    "plt.title('ROC')\n",
    "plt.tight_layout()"
   ]
  },
  {
   "cell_type": "markdown",
   "metadata": {},
   "source": [
    "### Combination 2 : Scaled Numeric + Dummy category"
   ]
  },
  {
   "cell_type": "code",
   "execution_count": 145,
   "metadata": {},
   "outputs": [],
   "source": [
    "from imblearn.over_sampling import SMOTE\n",
    "from sklearn.model_selection import train_test_split\n",
    "from sklearn.metrics import confusion_matrix, classification_report, f1_score\n",
    "from sklearn.tree import DecisionTreeClassifier\n",
    "from confusionMatrix import plotConfusionMatrix"
   ]
  },
  {
   "cell_type": "code",
   "execution_count": 146,
   "metadata": {},
   "outputs": [],
   "source": [
    "y = data2['outcome']\n",
    "X = data2.iloc[:,0:-1]"
   ]
  },
  {
   "cell_type": "code",
   "execution_count": 147,
   "metadata": {},
   "outputs": [
    {
     "data": {
      "text/plain": [
       "((41188, 52), (41188,))"
      ]
     },
     "execution_count": 147,
     "metadata": {},
     "output_type": "execute_result"
    }
   ],
   "source": [
    "X.shape, y.shape"
   ]
  },
  {
   "cell_type": "code",
   "execution_count": 148,
   "metadata": {},
   "outputs": [],
   "source": [
    "## Method 0: without SMOTE---------------------------------------\n",
    "\n",
    "X_train, X_test, y_train, y_test = train_test_split(X, y, test_size = 0.3, random_state = 0)\n",
    "clf = DecisionTreeClassifier(random_state=0)\n",
    "clf.fit(X_train, y_train.ravel()) \n",
    "clf.score(X_test, y_test)\n",
    "predictions_ = clf.predict(X_test) "
   ]
  },
  {
   "cell_type": "code",
   "execution_count": 152,
   "metadata": {},
   "outputs": [
    {
     "name": "stdout",
     "output_type": "stream",
     "text": [
      "WITH IMBALANCE TREATMENT:\n",
      "After OverSampling, X: (51158, 52)\n",
      "After OverSampling, y: (51158,)\n",
      "After OverSampling, counts of '1': 25579\n",
      "After OverSampling, counts of '0': 25579\n",
      "\n",
      "\n"
     ]
    }
   ],
   "source": [
    "## Method1: SMOTE on Train\n",
    "\n",
    "sm = SMOTE(random_state = 2) \n",
    "X_smote, y_smote = sm.fit_sample(X_train, y_train.ravel()) \n",
    "\n",
    "print('With imbalance treatment:'.upper())\n",
    "print('After OverSampling, X: {}'.format(X_smote.shape)) \n",
    "print('After OverSampling, y: {}'.format(y_smote.shape)) \n",
    "print(\"After OverSampling, counts of '1': {}\".format(sum(y_smote == 1))) \n",
    "print(\"After OverSampling, counts of '0': {}\".format(sum(y_smote == 0))) \n",
    "print('\\n')"
   ]
  },
  {
   "cell_type": "code",
   "execution_count": 149,
   "metadata": {},
   "outputs": [
    {
     "name": "stdout",
     "output_type": "stream",
     "text": [
      "WITHOUT IMBALANCE TREATMENT:\n",
      "********************************************************************************\n",
      "              precision    recall  f1-score   support\n",
      "\n",
      "           0       0.94      0.94      0.94     10969\n",
      "           1       0.52      0.54      0.53      1388\n",
      "\n",
      "    accuracy                           0.89     12357\n",
      "   macro avg       0.73      0.74      0.74     12357\n",
      "weighted avg       0.89      0.89      0.89     12357\n",
      "\n",
      "********************************************************************************\n",
      "[[10286   683]\n",
      " [  636   752]]\n",
      "********************************************************************************\n",
      "********************************************************************************\n"
     ]
    },
    {
     "data": {
      "text/plain": [
       "1435"
      ]
     },
     "execution_count": 149,
     "metadata": {},
     "output_type": "execute_result"
    },
    {
     "data": {
      "image/png": "[encoded data removed]",
      "text/plain": [
       "<Figure size 432x288 with 2 Axes>"
      ]
     },
     "metadata": {
      "needs_background": "light"
     },
     "output_type": "display_data"
    }
   ],
   "source": [
    "print('Without imbalance treatment:'.upper())\n",
    "print('*'*80)\n",
    "print(classification_report(y_test, predictions_)) \n",
    "print('*'*80)\n",
    "print(confusion_matrix(y_test, predictions_))\n",
    "print('*'*80)\n",
    "f1= f1_score(y_test,predictions_, average='micro')\n",
    "plt.figure()\n",
    "cnf_mat = confusion_matrix(y_test,predictions_)\n",
    "plotConfusionMatrix(cnf_mat, 2,title='F1_micro {:.3f}'.format(f1))\n",
    "print('*'*80)\n",
    "#print('\\n')\n",
    "sum(y_test == 0)\n",
    "sum(y_test == 1)\n",
    "sum(predictions_ == 0)\n",
    "sum(predictions_ == 1)"
   ]
  },
  {
   "cell_type": "markdown",
   "metadata": {},
   "source": [
    "### SMOTE on DT"
   ]
  },
  {
   "cell_type": "code",
   "execution_count": 153,
   "metadata": {},
   "outputs": [
    {
     "name": "stdout",
     "output_type": "stream",
     "text": [
      "AFTER IMBALANCE TREATMENT:\n",
      "              precision    recall  f1-score   support\n",
      "\n",
      "           0       0.94      0.60      0.73     10969\n",
      "           1       0.18      0.69      0.28      1388\n",
      "\n",
      "    accuracy                           0.61     12357\n",
      "   macro avg       0.56      0.64      0.51     12357\n",
      "weighted avg       0.85      0.61      0.68     12357\n",
      "\n",
      "********************************************************************************\n",
      "[[6561 4408]\n",
      " [ 428  960]]\n",
      "********************************************************************************\n",
      "********************************************************************************\n"
     ]
    },
    {
     "data": {
      "text/plain": [
       "array([[6561, 4408],\n",
       "       [ 428,  960]], dtype=int64)"
      ]
     },
     "execution_count": 153,
     "metadata": {},
     "output_type": "execute_result"
    },
    {
     "data": {
      "image/png": "[encoded data removed]",
      "text/plain": [
       "<Figure size 432x288 with 2 Axes>"
      ]
     },
     "metadata": {
      "needs_background": "light"
     },
     "output_type": "display_data"
    }
   ],
   "source": [
    "## Checking on actual Test Data :\n",
    "\n",
    "clf.fit(X_train_smote, y_train_smote.ravel()) \n",
    "clf.score(X_test, y_test)\n",
    "\n",
    "predictions_smote = clf.predict(X_test) \n",
    "\n",
    "# print classification report on Validation set \n",
    "print('After imbalance treatment:'.upper())\n",
    "print(classification_report(y_test, predictions_smote)) \n",
    "print('*'*80)\n",
    "print(confusion_matrix(y_test, predictions_smote))\n",
    "print('*'*80)\n",
    "f1= f1_score(y_test,predictions_smote, average='micro')\n",
    "plt.figure()\n",
    "cnf_mat_smote = confusion_matrix(y_test,predictions_smote)\n",
    "plotConfusionMatrix(cnf_mat_smote, 2,title='F1_micro {:.3f}'.format(f1))\n",
    "print('*'*80)\n",
    "#print('\\n')\n",
    "\n",
    "sum(y_test == 0)\n",
    "sum(y_test == 1)\n",
    "sum(predictions_smote == 0)\n",
    "sum(predictions_smote == 1)\n",
    "\n",
    "confusion_matrix(y_test, predictions_smote)"
   ]
  },
  {
   "cell_type": "markdown",
   "metadata": {},
   "source": [
    "### Grid Search With Cross Validation"
   ]
  },
  {
   "cell_type": "code",
   "execution_count": 154,
   "metadata": {},
   "outputs": [
    {
     "name": "stdout",
     "output_type": "stream",
     "text": [
      "GRID SEARCH WITH SMOTE -- DT:\n",
      "Using best parameters: {'max_depth': 9}\n",
      "********************************************************************************\n",
      "              precision    recall  f1-score   support\n",
      "\n",
      "           0       0.94      0.39      0.55     10969\n",
      "           1       0.14      0.82      0.25      1388\n",
      "\n",
      "    accuracy                           0.44     12357\n",
      "   macro avg       0.54      0.60      0.40     12357\n",
      "weighted avg       0.85      0.44      0.52     12357\n",
      "\n",
      "********************************************************************************\n",
      "[[4273 6696]\n",
      " [ 256 1132]]\n",
      "********************************************************************************\n",
      "********************************************************************************\n"
     ]
    },
    {
     "data": {
      "image/png": "[encoded data removed]",
      "text/plain": [
       "<Figure size 432x288 with 1 Axes>"
      ]
     },
     "metadata": {
      "needs_background": "light"
     },
     "output_type": "display_data"
    }
   ],
   "source": [
    "from sklearn.metrics import roc_auc_score, roc_curve\n",
    "from sklearn.model_selection import GridSearchCV\n",
    "import matplotlib.pyplot as plt\n",
    "from sklearn import metrics\n",
    "\n",
    "#parameters={'min_samples_split' : range(10,500,20),'max_depth': range(1,20,2)}\n",
    "parameters = {'max_depth': np.arange(3, 10)} # pruning\n",
    "tree = GridSearchCV(clf,parameters)\n",
    "tree.fit(X_train_smote,y_train_smote)\n",
    "preds = tree.predict(X_test)\n",
    "\n",
    "print('GRID SEARCH WITH SMOTE -- DT:')\n",
    "print('Using best parameters:',tree.best_params_)\n",
    "print('*'*80)\n",
    "print(classification_report(y_test, preds)) \n",
    "print('*'*80)\n",
    "print(confusion_matrix(y_test, preds))\n",
    "print('*'*80)\n",
    "\n",
    "y_pred_proba_ = tree.predict_proba(X_test)[::,1]\n",
    "fpr, tpr, _ = roc_curve(y_test,  y_pred_proba_)\n",
    "auc = roc_auc_score(y_test, y_pred_proba_)\n",
    "plt.plot(fpr,tpr,label=\"Gs-Smote-DT, auc=\"+str(np.round(auc,3)))\n",
    "plt.legend(loc=4)\n",
    "plt.tight_layout()\n",
    "\n",
    "print('*'*80)"
   ]
  },
  {
   "cell_type": "markdown",
   "metadata": {},
   "source": [
    "### Grid Search with SMOTE & CV"
   ]
  },
  {
   "cell_type": "code",
   "execution_count": 155,
   "metadata": {},
   "outputs": [
    {
     "name": "stdout",
     "output_type": "stream",
     "text": [
      "GRID SEARCH WITH SMOTE & CROSS VALIDATION -- DT:\n",
      "Using best parameters: {'criterion': 'entropy', 'max_depth': 23}\n",
      "GRID SEARCH WITH SMOTE -- DT:\n",
      "Using best parameters: {'criterion': 'entropy', 'max_depth': 23}\n",
      "********************************************************************************\n",
      "              precision    recall  f1-score   support\n",
      "\n",
      "           0       0.95      0.92      0.93     10969\n",
      "           1       0.48      0.60      0.53      1388\n",
      "\n",
      "    accuracy                           0.88     12357\n",
      "   macro avg       0.71      0.76      0.73     12357\n",
      "weighted avg       0.89      0.88      0.89     12357\n",
      "\n",
      "********************************************************************************\n",
      "[[10061   908]\n",
      " [  556   832]]\n",
      "********************************************************************************\n"
     ]
    },
    {
     "data": {
      "image/png": "[encoded data removed]",
      "text/plain": [
       "<Figure size 432x288 with 1 Axes>"
      ]
     },
     "metadata": {
      "needs_background": "light"
     },
     "output_type": "display_data"
    }
   ],
   "source": [
    "def dtree_grid_search(X,y,nfolds):\n",
    "    #create a dictionary of all values we want to test\n",
    "    param_grid = { 'criterion':['gini','entropy'],'max_depth': np.arange(15, 30)}\n",
    "    # decision tree model\n",
    "    dtree_model = DecisionTreeClassifier()\n",
    "    #use gridsearch to val all values\n",
    "    dtree_gscv = GridSearchCV(dtree_model, param_grid, cv=nfolds)\n",
    "    #fit model to data\n",
    "    dtree_gscv.fit(X, y)\n",
    "    #find score\n",
    "    score = dtree_gscv.score(X, y)\n",
    "    \n",
    "    return dtree_gscv.best_params_, score, dtree_gscv\n",
    "\n",
    "print('GRID SEARCH WITH SMOTE & CROSS VALIDATION -- DT:')\n",
    "best_param, acc, model = dtree_grid_search(X_smote,y_smote, 4)\n",
    "print('Using best parameters:',best_param)\n",
    "pred = model.predict(X_test)\n",
    "\n",
    "print('GRID SEARCH WITH SMOTE -- DT:')\n",
    "print('Using best parameters:',model.best_params_)\n",
    "print('*'*80)\n",
    "print(classification_report(y_test, pred)) \n",
    "print('*'*80)\n",
    "print(confusion_matrix(y_test, pred))\n",
    "print('*'*80)\n",
    "\n",
    "## ROC curve\n",
    "y_pred_proba = model.predict_proba(X_test)[::,1]\n",
    "fpr, tpr, _ = roc_curve(y_test,  y_pred_proba)\n",
    "auc = metrics.roc_auc_score(y_test, y_pred_proba)\n",
    "plt.plot(fpr,tpr,label=\"Gs-Smote-cv-DT, auc=\"+str(np.round(auc,3)))\n",
    "plt.legend(loc=4)\n",
    "plt.tight_layout()"
   ]
  },
  {
   "cell_type": "markdown",
   "metadata": {},
   "source": [
    "## Random Forest"
   ]
  },
  {
   "cell_type": "code",
   "execution_count": 156,
   "metadata": {},
   "outputs": [
    {
     "name": "stdout",
     "output_type": "stream",
     "text": [
      "********************************************************************************\n",
      "GRID SEARCH WITHOUT SMOTE & CROSS VALIDATION -- RF:\n",
      "Using best parameters: {'criterion': 'entropy', 'max_depth': 23}\n",
      "********************************************************************************\n",
      "              precision    recall  f1-score   support\n",
      "\n",
      "           0       0.93      0.97      0.95     10969\n",
      "           1       0.69      0.46      0.55      1388\n",
      "\n",
      "    accuracy                           0.92     12357\n",
      "   macro avg       0.81      0.72      0.75     12357\n",
      "weighted avg       0.91      0.92      0.91     12357\n",
      "\n",
      "********************************************************************************\n",
      "[[10685   284]\n",
      " [  755   633]]\n",
      "********************************************************************************\n"
     ]
    },
    {
     "data": {
      "image/png": "[encoded data removed]",
      "text/plain": [
       "<Figure size 432x288 with 1 Axes>"
      ]
     },
     "metadata": {
      "needs_background": "light"
     },
     "output_type": "display_data"
    }
   ],
   "source": [
    "from sklearn.ensemble import RandomForestClassifier\n",
    "\n",
    "def RF_grid_search(X,y,nfolds):\n",
    "    \n",
    "    #create a dictionary of all values we want to test\n",
    "    param_grid = {'criterion':['gini','entropy'],'max_depth': np.arange(11, 19),\n",
    "                  'n_estimators': [100,300]}\n",
    "    #randomForest model without gridSrearch\n",
    "    rf = RandomForestClassifier()\n",
    "    #use gridsearch to val all values\n",
    "    rf_gscv = GridSearchCV(rf, param_grid, cv=nfolds)\n",
    "    #fit model to data\n",
    "    rf_gscv.fit(X, y) # with grid search\n",
    "    #find score\n",
    "    score_gscv = rf_gscv.score(X, y) # with grid search\n",
    "    \n",
    "    return rf, rf_gscv.best_params_, rf_gscv, score_gscv  \n",
    "\n",
    "print('*'*80)\n",
    "print('GRID SEARCH WITHOUT SMOTE & CROSS VALIDATION -- RF:')\n",
    "rf, best_param_rf, model_rf, acc_rf = RF_grid_search(X_train,y_train, 4)\n",
    "pred_rf = model_rf.predict(X_test)\n",
    "\n",
    "print('Using best parameters:',model.best_params_)\n",
    "print('*'*80)\n",
    "print(classification_report(y_test, pred_rf)) \n",
    "print('*'*80)\n",
    "print(confusion_matrix(y_test, pred_rf))\n",
    "print('*'*80)\n",
    "## ROC curve\n",
    "y_pred_proba_rf = model_rf.predict_proba(X_test)[::,1]\n",
    "fpr_rf, tpr_rf, _rf = roc_curve(y_test,  y_pred_proba_rf)\n",
    "auc_rf = metrics.roc_auc_score(y_test, y_pred_proba_rf)\n",
    "plt.plot(fpr_rf,tpr_rf,label=\"Gs-Smote-cv-RF, aucRF=\"+str(np.round(auc_rf,3)))\n",
    "plt.legend(loc=4)\n",
    "plt.tight_layout()"
   ]
  },
  {
   "cell_type": "code",
   "execution_count": 157,
   "metadata": {},
   "outputs": [
    {
     "name": "stdout",
     "output_type": "stream",
     "text": [
      "********************************************************************************\n",
      "GRID SEARCH WITHOUT SMOTE RF:\n",
      "********************************************************************************\n",
      "              precision    recall  f1-score   support\n",
      "\n",
      "           0       0.93      0.97      0.95     10969\n",
      "           1       0.69      0.46      0.55      1388\n",
      "\n",
      "    accuracy                           0.92     12357\n",
      "   macro avg       0.81      0.72      0.75     12357\n",
      "weighted avg       0.91      0.92      0.91     12357\n",
      "\n",
      "********************************************************************************\n",
      "[[10685   284]\n",
      " [  755   633]]\n",
      "********************************************************************************\n"
     ]
    },
    {
     "data": {
      "image/png": "[encoded data removed]",
      "text/plain": [
       "<Figure size 432x288 with 1 Axes>"
      ]
     },
     "metadata": {
      "needs_background": "light"
     },
     "output_type": "display_data"
    }
   ],
   "source": [
    "from sklearn.ensemble import RandomForestClassifier\n",
    "rf_clf = RandomForestClassifier(n_estimators=250, n_jobs=-1, random_state=42)\n",
    "rf_clf.fit(X_train, y_train)\n",
    "print('*'*80)\n",
    "print('GRID SEARCH WITHOUT SMOTE RF:')\n",
    "pred_clf = rf_clf.predict(X_test)\n",
    "\n",
    "print('*'*80)\n",
    "print(classification_report(y_test, pred_rf)) \n",
    "print('*'*80)\n",
    "print(confusion_matrix(y_test, pred_rf))\n",
    "print('*'*80)\n",
    "## ROC curve\n",
    "y_pred_proba_rf = rf_clf.predict_proba(X_test)[::,1]\n",
    "fpr_rf, tpr_rf, _rf = roc_curve(y_test,  y_pred_proba_rf)\n",
    "auc_rf = metrics.roc_auc_score(y_test, y_pred_proba_rf)\n",
    "plt.plot(fpr_rf,tpr_rf,label=\"Gs-Smote-cv-RF, aucRF=\"+str(np.round(auc_rf,3)))\n",
    "plt.legend(loc=4)\n",
    "plt.tight_layout()"
   ]
  },
  {
   "cell_type": "markdown",
   "metadata": {},
   "source": [
    "#### With Grid Search CV"
   ]
  },
  {
   "cell_type": "code",
   "execution_count": 158,
   "metadata": {},
   "outputs": [
    {
     "name": "stdout",
     "output_type": "stream",
     "text": [
      "********************************************************************************\n",
      "              precision    recall  f1-score   support\n",
      "\n",
      "           0       0.94      0.97      0.95     10969\n",
      "           1       0.68      0.48      0.56      1388\n",
      "\n",
      "    accuracy                           0.92     12357\n",
      "   macro avg       0.81      0.73      0.76     12357\n",
      "weighted avg       0.91      0.92      0.91     12357\n",
      "\n",
      "********************************************************************************\n",
      "[[10649   320]\n",
      " [  722   666]]\n",
      "********************************************************************************\n"
     ]
    },
    {
     "data": {
      "image/png": "[encoded data removed]",
      "text/plain": [
       "<Figure size 432x288 with 1 Axes>"
      ]
     },
     "metadata": {
      "needs_background": "light"
     },
     "output_type": "display_data"
    }
   ],
   "source": [
    "from sklearn.model_selection import GridSearchCV\n",
    "grid_search = GridSearchCV(rf_clf, param_grid={}, cv= 10)\n",
    "grid_search.fit(X_train, y_train)\n",
    "cvrf_clf=grid_search.best_estimator_\n",
    "pred_clf = cvrf_clf.predict(X_test)\n",
    "print('*'*80)\n",
    "print(classification_report(y_test, pred_clf)) \n",
    "print('*'*80)\n",
    "print(confusion_matrix(y_test, pred_clf))\n",
    "print('*'*80)\n",
    "## ROC curve\n",
    "y_pred_proba_rf = cvrf_clf.predict_proba(X_test)[::,1]\n",
    "fpr_rf, tpr_rf, _rf = roc_curve(y_test,  y_pred_proba_rf)\n",
    "auc_rf = metrics.roc_auc_score(y_test, y_pred_proba_rf)\n",
    "plt.plot(fpr_rf,tpr_rf,label=\"Gs-Smote-cv-RF, aucRF=\"+str(np.round(auc_rf,3)))\n",
    "plt.legend(loc=4)\n",
    "plt.tight_layout()"
   ]
  },
  {
   "cell_type": "markdown",
   "metadata": {},
   "source": [
    "### RF With SMOTE and GridSearch CV:"
   ]
  },
  {
   "cell_type": "code",
   "execution_count": 159,
   "metadata": {},
   "outputs": [
    {
     "name": "stdout",
     "output_type": "stream",
     "text": [
      "********************************************************************************\n",
      "              precision    recall  f1-score   support\n",
      "\n",
      "           0       0.97      0.62      0.76     10969\n",
      "           1       0.22      0.84      0.35      1388\n",
      "\n",
      "    accuracy                           0.65     12357\n",
      "   macro avg       0.59      0.73      0.55     12357\n",
      "weighted avg       0.88      0.65      0.71     12357\n",
      "\n",
      "********************************************************************************\n",
      "[[6850 4119]\n",
      " [ 222 1166]]\n",
      "********************************************************************************\n"
     ]
    },
    {
     "data": {
      "image/png": "[encoded data removed]",
      "text/plain": [
       "<Figure size 432x288 with 1 Axes>"
      ]
     },
     "metadata": {
      "needs_background": "light"
     },
     "output_type": "display_data"
    }
   ],
   "source": [
    "from sklearn.model_selection import GridSearchCV\n",
    "grid_search = GridSearchCV(rf_clf, param_grid={}, cv= 10)\n",
    "grid_search.fit(X_train_smote, y_train_smote)\n",
    "cvrf_clfs=grid_search.best_estimator_\n",
    "pred_clfs = cvrf_clfs.predict(X_test)\n",
    "print('*'*80)\n",
    "print(classification_report(y_test, pred_clfs)) \n",
    "print('*'*80)\n",
    "print(confusion_matrix(y_test, pred_clfs))\n",
    "print('*'*80)\n",
    "## ROC curve\n",
    "y_pred_proba_rfs = cvrf_clfs.predict_proba(X_test)[::,1]\n",
    "fpr_rf, tpr_rf, _rf = roc_curve(y_test,  y_pred_proba_rfs)\n",
    "auc_rf = metrics.roc_auc_score(y_test, y_pred_proba_rfs)\n",
    "plt.plot(fpr_rf,tpr_rf,label=\"Gs-Smote-cv-RF, aucRF=\"+str(np.round(auc_rf,3)))\n",
    "plt.legend(loc=4)\n",
    "plt.tight_layout()"
   ]
  },
  {
   "cell_type": "markdown",
   "metadata": {},
   "source": [
    "## XG Boost "
   ]
  },
  {
   "cell_type": "markdown",
   "metadata": {},
   "source": [
    "#### Without SMOTE"
   ]
  },
  {
   "cell_type": "code",
   "execution_count": 150,
   "metadata": {},
   "outputs": [
    {
     "name": "stdout",
     "output_type": "stream",
     "text": [
      "********************************************************************************\n",
      "XGB Without SMOTE\n",
      "********************************************************************************\n",
      "              precision    recall  f1-score   support\n",
      "\n",
      "           0       0.94      0.97      0.96     10969\n",
      "           1       0.68      0.54      0.60      1388\n",
      "\n",
      "    accuracy                           0.92     12357\n",
      "   macro avg       0.81      0.75      0.78     12357\n",
      "weighted avg       0.91      0.92      0.92     12357\n",
      "\n",
      "********************************************************************************\n",
      "[[10614   355]\n",
      " [  640   748]]\n",
      "********************************************************************************\n"
     ]
    },
    {
     "data": {
      "image/png": "[encoded data removed]",
      "text/plain": [
       "<Figure size 432x288 with 1 Axes>"
      ]
     },
     "metadata": {
      "needs_background": "light"
     },
     "output_type": "display_data"
    }
   ],
   "source": [
    "from xgboost import XGBClassifier\n",
    "from sklearn.metrics import accuracy_score\n",
    "\n",
    "#instantiate model and train\n",
    "model_G = XGBClassifier(learning_rate = 0.05, n_estimators=300, max_depth=5)\n",
    "model_G.fit(X_train, y_train)\n",
    "\n",
    "# make predictions for test set\n",
    "y_pred = model_G.predict(X_test)\n",
    "preds = [round(value) for value in y_pred]\n",
    "\n",
    "print('*'*80)\n",
    "print('XGB Without SMOTE')\n",
    "print('*'*80)\n",
    "print(classification_report(y_test, y_pred)) \n",
    "print('*'*80)\n",
    "print(confusion_matrix(y_test, y_pred))\n",
    "print('*'*80)\n",
    "y_pred_proba_G = model_G.predict_proba(X_test)[::,1]\n",
    "fpr_G, tpr_G, _G = roc_curve(y_test,  y_pred_proba_G)\n",
    "auc_G = metrics.roc_auc_score(y_test, y_pred_proba_G)\n",
    "plt.plot(fpr_G,tpr_G,label=\"Smote-GB, aucG=\"+str(np.round(auc_G,3)))\n",
    "plt.legend(loc=4)\n",
    "plt.ylabel('Sensitivity')\n",
    "plt.xlabel('1 - Specificity')\n",
    "plt.title('ROC')\n",
    "plt.tight_layout()"
   ]
  },
  {
   "cell_type": "code",
   "execution_count": 164,
   "metadata": {},
   "outputs": [
    {
     "data": {
      "text/plain": [
       "<matplotlib.axes._subplots.AxesSubplot at 0x23b142e0978>"
      ]
     },
     "execution_count": 164,
     "metadata": {},
     "output_type": "execute_result"
    },
    {
     "data": {
      "image/png": "[encoded data removed]",
      "text/plain": [
       "<Figure size 1008x504 with 1 Axes>"
      ]
     },
     "metadata": {
      "needs_background": "light"
     },
     "output_type": "display_data"
    }
   ],
   "source": [
    "from xgboost import plot_importance\n",
    "# plot feature importance\n",
    "plt.rcParams[\"figure.figsize\"] = (14, 7)\n",
    "plot_importance(model_G)"
   ]
  },
  {
   "cell_type": "code",
   "execution_count": 161,
   "metadata": {},
   "outputs": [
    {
     "name": "stdout",
     "output_type": "stream",
     "text": [
      "********************************************************************************\n",
      "SMOTE with XGB\n",
      "********************************************************************************\n",
      "              precision    recall  f1-score   support\n",
      "\n",
      "           0       0.94      0.96      0.95     10969\n",
      "           1       0.67      0.55      0.61      1388\n",
      "\n",
      "    accuracy                           0.92     12357\n",
      "   macro avg       0.81      0.76      0.78     12357\n",
      "weighted avg       0.91      0.92      0.92     12357\n",
      "\n",
      "********************************************************************************\n",
      "[[10584   385]\n",
      " [  618   770]]\n",
      "********************************************************************************\n"
     ]
    },
    {
     "data": {
      "image/png": "[encoded data removed]",
      "text/plain": [
       "<Figure size 1008x504 with 1 Axes>"
      ]
     },
     "metadata": {
      "needs_background": "light"
     },
     "output_type": "display_data"
    }
   ],
   "source": [
    "from sklearn.model_selection import GridSearchCV\n",
    "model_Gb= XGBClassifier(max_depth = 5, n_estimators=1000, learning_rate=0.03, n_jobs=1)\n",
    "grid_search = GridSearchCV(model_Gb, param_grid={}, n_jobs=1, cv = 10, scoring = \"accuracy\")\n",
    "grid_search.fit(X_train, y_train)\n",
    "cvxg_clf= grid_search.best_estimator_\n",
    "y_pred = cvxg_clf.predict(X_test)\n",
    "pred = [round(value) for value in y_pred]\n",
    "\n",
    "print('*'*80)\n",
    "print('SMOTE with XGB')\n",
    "print('*'*80)\n",
    "print(classification_report(y_test, y_pred)) \n",
    "print('*'*80)\n",
    "print(confusion_matrix(y_test, y_pred))\n",
    "print('*'*80)\n",
    "y_pred_proba_G = cvxg_clf.predict_proba(X_test)[::,1]\n",
    "fpr_G, tpr_G, _G = roc_curve(y_test,  y_pred_proba_G)\n",
    "auc_G = metrics.roc_auc_score(y_test, y_pred_proba_G)\n",
    "plt.plot(fpr_G,tpr_G,label=\"Smote-GB, aucG=\"+str(np.round(auc_G,3)))\n",
    "plt.legend(loc=4)\n",
    "plt.ylabel('Sensitivity')\n",
    "plt.xlabel('1 - Specificity')\n",
    "plt.title('ROC')\n",
    "plt.tight_layout()"
   ]
  },
  {
   "cell_type": "code",
   "execution_count": null,
   "metadata": {},
   "outputs": [],
   "source": []
  }
 ],
 "metadata": {
  "kernelspec": {
   "display_name": "Python 3",
   "language": "python",
   "name": "python3"
  },
  "language_info": {
   "codemirror_mode": {
    "name": "ipython",
    "version": 3
   },
   "file_extension": ".py",
   "mimetype": "text/x-python",
   "name": "python",
   "nbconvert_exporter": "python",
   "pygments_lexer": "ipython3",
   "version": "3.7.3"
  }
 },
 "nbformat": 4,
 "nbformat_minor": 2
}
